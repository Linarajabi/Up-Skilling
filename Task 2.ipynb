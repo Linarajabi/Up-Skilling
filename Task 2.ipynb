{
 "cells": [
  {
   "cell_type": "markdown",
   "metadata": {},
   "source": [
    "Files are the basic IO for any programming language or programming field and the most used resource for data. In this task, and based on what you have learned in the class and using the available Pokemon data set perform the following."
   ]
  },
  {
   "cell_type": "markdown",
   "metadata": {},
   "source": [
    "Q1. count the number of legendary Pokemons and print all the details about them."
   ]
  },
  {
   "cell_type": "code",
   "execution_count": 188,
   "metadata": {},
   "outputs": [
    {
     "name": "stdout",
     "output_type": "stream",
     "text": [
      "There is 4 Legendary pokemons\n"
     ]
    }
   ],
   "source": [
    "import csv\n",
    "with open ('pokemon.csv','r') as pokemon:\n",
    "    reader=csv.DictReader(pokemon)\n",
    "    count=0\n",
    "    for row in reader :\n",
    "        if row['Legendary']=='TRUE':\n",
    "            count+=1\n",
    "        #print(row['Legendary'])\n",
    "        #print(row)\n",
    "    print('There is',count,'Legendary pokemons')"
   ]
  },
  {
   "cell_type": "markdown",
   "metadata": {},
   "source": [
    "Q2. Count all the unique Pokemon types in the data set."
   ]
  },
  {
   "cell_type": "code",
   "execution_count": 189,
   "metadata": {},
   "outputs": [
    {
     "name": "stdout",
     "output_type": "stream",
     "text": [
      "Number of Type 1 members = 15 \n",
      " and the are : ['Grass', 'Fire', 'Water', 'Bug', 'Normal', 'Poison', 'Electric', 'Ground', 'Fairy', 'Fighting', 'Psychic', 'Rock', 'Ghost', 'Ice', 'Dragon'] \n",
      "\n",
      "Number of Type 2 members = 11 \n",
      " and the are : ['Poison', 'Flying', 'Ground', 'Fairy', 'Grass', 'Fighting', 'Psychic', 'Steel', 'Ice', 'Rock', 'Water']\n"
     ]
    }
   ],
   "source": [
    "import csv\n",
    "with open ('pokemon.csv','r') as pokemon:\n",
    "    reader=csv.DictReader(pokemon)\n",
    "    count=0\n",
    "    count1=0\n",
    "    y=[]\n",
    "    z=[]\n",
    "    i=0\n",
    "    unique=[]\n",
    "    unique2=[]\n",
    "    for row in reader :\n",
    "        y.append(row['Type 1'])\n",
    "        z.append(row['Type 2'])\n",
    "    #print(y)\n",
    "    while i < (len(y)-1):\n",
    "        if y[i] not in unique:\n",
    "            count+=1   \n",
    "            unique.append(y[i])\n",
    "        i += 1    \n",
    "    print('Number of Type 1 members =',count,'\\n','and the are :',unique,'\\n')\n",
    "    j=0\n",
    "    while j < (len(z)-1):\n",
    "        if z[j] not in unique2 and z[j] !='':\n",
    "            count1+=1   \n",
    "            unique2.append(z[j])\n",
    "        j += 1    \n",
    "    print('Number of Type 2 members =',count1,'\\n','and the are :',unique2)\n",
    "   "
   ]
  },
  {
   "cell_type": "markdown",
   "metadata": {},
   "source": [
    "Q3. Count the number Pokemons who got a single types."
   ]
  },
  {
   "cell_type": "code",
   "execution_count": 190,
   "metadata": {},
   "outputs": [
    {
     "name": "stdout",
     "output_type": "stream",
     "text": [
      "number Pokemons who got a single type= 84\n"
     ]
    }
   ],
   "source": [
    "import csv\n",
    "with open ('pokemon.csv','r') as pokemon:\n",
    "    reader=csv.DictReader(pokemon)\n",
    "    count=0\n",
    "    for row in reader :\n",
    "        if  row['Type 2']=='':\n",
    "            count+=1\n",
    "    print('number Pokemons who got a single type=',count)"
   ]
  },
  {
   "cell_type": "markdown",
   "metadata": {},
   "source": [
    "Q4. Count the number Pokemons who got two types."
   ]
  },
  {
   "cell_type": "code",
   "execution_count": 191,
   "metadata": {},
   "outputs": [
    {
     "name": "stdout",
     "output_type": "stream",
     "text": [
      " number Pokemons who got two types= 67\n"
     ]
    }
   ],
   "source": [
    "import csv\n",
    "with open ('pokemon.csv','r') as pokemon:\n",
    "    reader=csv.DictReader(pokemon)\n",
    "    count0=0\n",
    "    count1=0\n",
    "    for row in reader :\n",
    "        count1+=1\n",
    "        if  row['Type 2']=='':\n",
    "            count0+=1\n",
    "    print(' number Pokemons who got two types=',count1-count0)"
   ]
  },
  {
   "cell_type": "markdown",
   "metadata": {},
   "source": [
    "Q5. Print the most frequent Pokemon type in the data set."
   ]
  },
  {
   "cell_type": "code",
   "execution_count": 192,
   "metadata": {},
   "outputs": [
    {
     "name": "stdout",
     "output_type": "stream",
     "text": [
      "the most frequent Pokemon type in the data set is: Water\n"
     ]
    }
   ],
   "source": [
    "import csv\n",
    "with open ('pokemon.csv','r') as pokemon:\n",
    "    reader=csv.DictReader(pokemon)\n",
    "    count0=0\n",
    "    count=[]\n",
    "    y=[]\n",
    "        \n",
    "    for row in reader :\n",
    "        \n",
    "        if  row['Type 1']!='':\n",
    "            count0+=1\n",
    "            count.append(row['Type 1'])\n",
    "        \n",
    "    for i in range(len(count)):\n",
    "        x=count.count(count[i])\n",
    "        y.append(x)\n",
    "        #print((x))\n",
    "    #print(max(y))\n",
    "    k=max(y)\n",
    "    z=y.index(k)\n",
    "    #print(z)\n",
    "    print('the most frequent Pokemon type in the data set is:',count[z])"
   ]
  },
  {
   "cell_type": "markdown",
   "metadata": {},
   "source": [
    "Q6. Find the average HP of all flying Pokemons."
   ]
  },
  {
   "cell_type": "code",
   "execution_count": 193,
   "metadata": {},
   "outputs": [
    {
     "name": "stdout",
     "output_type": "stream",
     "text": [
      "the average HP of all flying Pokemons 68.26316\n"
     ]
    }
   ],
   "source": [
    "import csv\n",
    "with open ('pokemon.csv','r') as pokemon:\n",
    "    reader=csv.DictReader(pokemon)\n",
    "    av=0\n",
    "    summation=0\n",
    "    count0=0\n",
    "    count=[]\n",
    "    y=[]\n",
    "        \n",
    "    for row in reader :\n",
    "        if  row['Type 2']=='Flying':\n",
    "            count0+=1\n",
    "            y.append(row['HP'])\n",
    "    #print(count0)\n",
    "    #print(y)\n",
    "    for i in range(len(y)):\n",
    "        summation+=int(y[i])\n",
    "    av=summation/count0\n",
    "    #print(summation)\n",
    "    print('the average HP of all flying Pokemons',round(av,5))"
   ]
  },
  {
   "cell_type": "markdown",
   "metadata": {},
   "source": [
    "Q7. Find the Variance and Standard Deviation of the Total column in the data set."
   ]
  },
  {
   "cell_type": "code",
   "execution_count": 194,
   "metadata": {},
   "outputs": [
    {
     "name": "stdout",
     "output_type": "stream",
     "text": [
      " Variance of the Total column in the data set= 9948.833642384112 \n",
      " Standard Deviation of the Total column in the data set= 99.74384012250637\n"
     ]
    }
   ],
   "source": [
    "import csv\n",
    "with open ('pokemon.csv','r') as pokemon:\n",
    "    reader=csv.DictReader(pokemon)\n",
    "    av=0\n",
    "    summation=0\n",
    "    count0=0\n",
    "    count=[]\n",
    "    y=[]\n",
    "    var=0\n",
    "    sd=0\n",
    "    s2=0\n",
    "        \n",
    "    for row in reader :\n",
    "        if  row['Total']!='':\n",
    "            count0+=1\n",
    "            y.append(row['Total'])\n",
    "    #print(count0)\n",
    "    #print(y)\n",
    "    for i in range(len(y)):\n",
    "        summation+=int(y[i])\n",
    "    av=summation/count0\n",
    "    #print(summation,av)\n",
    "    for i in range(len(y)):\n",
    "         s2+=(int(y[i])-av)**2\n",
    "    var=s2/(count0-1)\n",
    "    sd=var**(0.5)\n",
    "    print(' Variance of the Total column in the data set=',var,'\\n','Standard Deviation of the Total column in the data set=',sd)\n",
    "    "
   ]
  },
  {
   "cell_type": "markdown",
   "metadata": {},
   "source": [
    "Q8. Find the first 5 Pokemons with the biggest attack power. Attack power is calculated as the (attack speed*attack power)*1 if the Pokemon has a single type, and * 2 if the Pokemon has a two types. Also if the Pokemon is legendary we add 75 to the total power calculated."
   ]
  },
  {
   "cell_type": "code",
   "execution_count": 296,
   "metadata": {},
   "outputs": [
    {
     "name": "stdout",
     "output_type": "stream",
     "text": [
      "[26800, 25075, 23750, 22575, 21000]\n",
      "[148, 145, 102, 144, 70]\n"
     ]
    }
   ],
   "source": [
    "import csv\n",
    "with open ('pokemon.csv','r') as pokemon:\n",
    "    reader=csv.DictReader(pokemon)\n",
    "    y2=[]\n",
    "    x2=[]\n",
    "    finalres=[]\n",
    "    sortedfinalres=[]\n",
    "    for i in reader:\n",
    "        res1=1\n",
    "        x=int(i['Sp. Atk'])\n",
    "        y=int(i['Attack'])\n",
    "        res1=(x*y)\n",
    "        \n",
    "        if i['Type 2'] != '':\n",
    "            res1*=2\n",
    "        if i['Legendary'] == 'TRUE':\n",
    "            res1+=75\n",
    "        finalres.append(res1)\n",
    "    \n",
    "    sortedfinalres=sorted(finalres)\n",
    "    x2=sortedfinalres[:-6:-1]\n",
    "    \n",
    "    \n",
    "    print(x2)\n",
    "#     print(sortedfinalres)\n",
    "   \n",
    "    for j in range(len(x2)):\n",
    "        if x2[j] in finalres:\n",
    "            y2.append(finalres.index(x2[j]))\n",
    "    print(y2)\n",
    "with open ('pokemon.csv','r') as pokemon:\n",
    "    reader=csv.DictReader(pokemon)\n",
    "    pokemon.seek(0)            \n",
    "    for row in reader:\n",
    "        for i in range(len(y2)):\n",
    "            s=int(y2[i])\n",
    "            if  row['#']==s:\n",
    "                print(row['Name'])\n",
    "\n",
    "        \n"
   ]
  },
  {
   "cell_type": "markdown",
   "metadata": {},
   "source": [
    "Q9. Find the first 5 Pokemons with the Balance in their attack power and defense power. Total defense power is calculated the same as the attack butusing the defense columns instead. We say a pokemon is balanced if the difference between the total attack and different powers are at most 25."
   ]
  },
  {
   "cell_type": "code",
   "execution_count": 301,
   "metadata": {},
   "outputs": [
    {
     "name": "stdout",
     "output_type": "stream",
     "text": [
      "[26800, 25075, 23750, 22575, 21000]\n",
      "[148, 145, 102, 144, 70]\n",
      "[]\n",
      "[]\n"
     ]
    }
   ],
   "source": [
    "import csv\n",
    "with open ('pokemon.csv','r') as pokemon:\n",
    "    reader=csv.DictReader(pokemon)\n",
    "    y2=[]\n",
    "    x2=[]\n",
    "    finalres=[]\n",
    "    sortedfinalres=[]\n",
    "    for i in reader:\n",
    "        res1=1\n",
    "        x=int(i['Sp. Atk'])\n",
    "        y=int(i['Attack'])\n",
    "        res1=(x*y)\n",
    "        \n",
    "        if i['Type 2'] != '':\n",
    "            res1*=2\n",
    "        if i['Legendary'] == 'TRUE':\n",
    "            res1+=75\n",
    "        finalres.append(res1)\n",
    "    \n",
    "    sortedfinalres=sorted(finalres)\n",
    "    x2=sortedfinalres[:-6:-1]\n",
    "    \n",
    "    \n",
    "    print(x2)\n",
    "#     print(sortedfinalres)\n",
    "   \n",
    "    for j in range(len(x2)):\n",
    "        if x2[j] in finalres:\n",
    "            y2.append(finalres.index(x2[j]))\n",
    "    print(y2)\n",
    "with open ('pokemon.csv','r') as pokemon:\n",
    "    pokemon.seek(0)\n",
    "    reader=csv.DictReader(pokemon)\n",
    "    \n",
    "    res2=1\n",
    "    y3=[]\n",
    "    x3=[]\n",
    "    finalres2=[]\n",
    "    sortedfinalres=[]\n",
    "    for i in reader:\n",
    "        res1=1\n",
    "        x4=int(i['Sp. Def'])\n",
    "        y4=int(i['Defense'])\n",
    "        res2=(x4*y4)\n",
    "        \n",
    "        if i['Type 2'] != '':\n",
    "            res2*=2\n",
    "        if i['Legendary'] == 'TRUE':\n",
    "            res2+=75\n",
    "        finalres2.append(res2)\n",
    "    \n",
    "    sortedfinalres2=sorted(finalres2)\n",
    "    x3=sortedfinalres[:-6:-1]\n",
    "    \n",
    "    \n",
    "    print(x3)\n",
    "   \n",
    "    for j in range(len(x3)):\n",
    "        if x3[j] in finalres:\n",
    "            y3.append(finalres2.index(x3[j]))\n",
    "    print(y3)\n"
   ]
  },
  {
   "cell_type": "markdown",
   "metadata": {},
   "source": [
    "Q10. Find a team containing the minimum number of Pokemons required to defeat a Pokemon team consist only from the legendary Pokemons. For the attackers you calculate the total attack power of the Pokemons team using the equation:\n",
    "\n",
    "Attackers total att power / Defenders total HP = result1 \n",
    "\n",
    "For the defenders you calculate the total attack power of the Pokemons team using the equation:\n",
    "\n",
    "Defenders total deff power / Attackers total HP = result2\n",
    "\n",
    "The final result calculated by subtract the att result from the deff result:\n",
    "\n",
    "\n",
    "result2 - result1 = Final "
   ]
  },
  {
   "cell_type": "code",
   "execution_count": null,
   "metadata": {},
   "outputs": [],
   "source": []
  }
 ],
 "metadata": {
  "kernelspec": {
   "display_name": "Python 3",
   "language": "python",
   "name": "python3"
  },
  "language_info": {
   "codemirror_mode": {
    "name": "ipython",
    "version": 3
   },
   "file_extension": ".py",
   "mimetype": "text/x-python",
   "name": "python",
   "nbconvert_exporter": "python",
   "pygments_lexer": "ipython3",
   "version": "3.7.3"
  }
 },
 "nbformat": 4,
 "nbformat_minor": 2
}
