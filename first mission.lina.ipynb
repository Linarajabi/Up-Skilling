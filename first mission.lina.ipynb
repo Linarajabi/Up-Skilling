{
 "cells": [
  {
   "cell_type": "markdown",
   "metadata": {},
   "source": [
    "Q1. Write a Python program to parse a string to Float or Integer. and print the type of them "
   ]
  },
  {
   "cell_type": "code",
   "execution_count": null,
   "metadata": {},
   "outputs": [],
   "source": [
    "x=input('Enter a number: ')\n",
    "\n",
    "print( int(x,base=10) )\n",
    "print(type(x))\n",
    "print( float(x) )\n",
    "print(type(x))\n",
    "print('-'*100)\n"
   ]
  },
  {
   "cell_type": "markdown",
   "metadata": {},
   "source": [
    "Q2. Write a Python program to print two values without newline or space."
   ]
  },
  {
   "cell_type": "code",
   "execution_count": null,
   "metadata": {},
   "outputs": [],
   "source": [
    "x=input(' Enter the first value : ')\n",
    "y=input( 'Enter the secound value :')\n",
    "print(x,end='')\n",
    "print(y)\n",
    "print(x,end='|')\n",
    "print(y)\n",
    "print('-'*100)"
   ]
  },
  {
   "cell_type": "markdown",
   "metadata": {},
   "source": [
    "Q3. Write a program that takes an input from the user and checks if it’s divisible by 3 or not."
   ]
  },
  {
   "cell_type": "code",
   "execution_count": null,
   "metadata": {},
   "outputs": [],
   "source": [
    "x=input('Enter the number: ')\n",
    "int( x,base=10)\n",
    "y=x%3\n",
    "'yes' if y==0 else 'no'"
   ]
  },
  {
   "cell_type": "markdown",
   "metadata": {},
   "source": [
    "Q4. Write a program that reads three integers (a, b, and c), computes the following formulas and stores the results in the variables x1, x2 and prints the results of the program."
   ]
  },
  {
   "cell_type": "code",
   "execution_count": null,
   "metadata": {},
   "outputs": [],
   "source": [
    "a=input('Enter the first int : ')\n",
    "b=input('Enter the secound int : ')\n",
    "c=input('Enter the third int : ')\n",
    "x=int(a,base=10)\n",
    "y=int(b,base=10)\n",
    "z=int(c,base=10)\n",
    "x1=(-y*z**4/2*x)-(3*(x+y**2)/z)\n",
    "x2=(x+y**3**2)/(z-x**2)\n",
    "print(x1,x2)"
   ]
  },
  {
   "cell_type": "markdown",
   "metadata": {},
   "source": [
    "Q5. Write a program that reads two numbers a and b. Print the maximum value of the two numbers."
   ]
  },
  {
   "cell_type": "code",
   "execution_count": null,
   "metadata": {},
   "outputs": [],
   "source": [
    "x=input ( 'Enter the first number: ')\n",
    "y=input ( 'Enter the secound number :')\n",
    "print(max(x,y))"
   ]
  },
  {
   "cell_type": "markdown",
   "metadata": {},
   "source": [
    "Q6. Write a program that reads three input values. Output the maximum value of the three."
   ]
  },
  {
   "cell_type": "code",
   "execution_count": null,
   "metadata": {},
   "outputs": [],
   "source": [
    "x=input('Enter the three values :')\n",
    "y=input(':')\n",
    "z=input(':')\n",
    "print(max(max(x,y),z))"
   ]
  },
  {
   "cell_type": "markdown",
   "metadata": {},
   "source": [
    "Q7. Write a program that reads two values a and b. If b is 0, output ”b is 0”. Otherwise output the result of the division of a by b (a/b). "
   ]
  },
  {
   "cell_type": "code",
   "execution_count": null,
   "metadata": {},
   "outputs": [],
   "source": [
    "a=input('Enter int a :')\n",
    "b=input('Enter int b :')\n",
    "y=int(a,base=10)\n",
    "z=int(b,base=10)\n",
    "'b is zero' if z==0 else print(y/z)"
   ]
  },
  {
   "cell_type": "markdown",
   "metadata": {},
   "source": [
    "Q8. Write a program to convert days into years, weeks and days."
   ]
  },
  {
   "cell_type": "code",
   "execution_count": null,
   "metadata": {},
   "outputs": [],
   "source": [
    "x=input('Enter the number of days:')\n",
    "z=int(x,base=10)\n",
    "y=365\n",
    "\n",
    "d=divmod(z,y)\n",
    "\n",
    "print(d)\n",
    "\n",
    "\n"
   ]
  },
  {
   "cell_type": "markdown",
   "metadata": {},
   "source": [
    "Q9. Write a program to read temperature in Celsius and convert it into Fahrenheit. "
   ]
  },
  {
   "cell_type": "code",
   "execution_count": 7,
   "metadata": {},
   "outputs": [
    {
     "name": "stdout",
     "output_type": "stream",
     "text": [
      "Enter the temperature in Celsius :0\n",
      "32.0\n",
      "--------------------------------------------------\n"
     ]
    }
   ],
   "source": [
    "x=input('Enter the temperature in Celsius :')\n",
    "y=int(x,base=10)\n",
    "z= y*1.8 +32\n",
    "print(z)\n",
    "print('-'*50)\n",
    "    "
   ]
  },
  {
   "cell_type": "markdown",
   "metadata": {},
   "source": [
    "Q10. Write a program that reads two oat number and stores their values in variable x and y. the program then computes the value (x2−y2) = (x−y) , stores the result in stores the result in a float named z and print the value of z. if the computation division by zero, the program must avoid that by printing an error\n",
    "message and exiting before computing the formula."
   ]
  },
  {
   "cell_type": "markdown",
   "metadata": {},
   "source": [
    "Q11. As you know Python has no switch statements so, Write a complete Python application that asks the user to enter an integer Q-Range (”deviation IQ”) and output the IQ Classification according to the following table:\n",
    "Q Range (”deviation IQ”) -> IQ Classification \n",
    "130 and above -> Very Superior\n",
    "120 - 129 -> Superior \n",
    "110 - 119 -> High Average \n",
    "90 - 109 -> Average\n",
    "80 - 89 -> Low Average \n",
    "70 - 79 -> Borderline \n",
    "69 and below -> Extremely Low"
   ]
  },
  {
   "cell_type": "code",
   "execution_count": 13,
   "metadata": {},
   "outputs": [
    {
     "name": "stdout",
     "output_type": "stream",
     "text": [
      "Enter the IQ result :115\n",
      "High Average \n",
      "--------------------------------------------------\n"
     ]
    }
   ],
   "source": [
    "x=input('Enter the IQ result :')\n",
    "y=int(x,base=10)\n",
    "print ('Very Superior' if y>=130 else 'Superior' if 129>=y>=120 else 'High Average ' if 119>=y>=110 else 'Average' if 109>=y>=90 else 'Low Average ' if 89>=y>=80 else 'Borderline ' if 79>=y>=70 else 'Extremely Low')\n",
    "print('-'*50)"
   ]
  },
  {
   "cell_type": "markdown",
   "metadata": {},
   "source": [
    "Q12. Write a program that classifies a student marks as follows:\n",
    "[90−100] : A \n",
    "[80−90] : B \n",
    "[70−80] : C \n",
    "[60−70] : D\n",
    "[50−60] : E\n",
    "[0−50] : F"
   ]
  },
  {
   "cell_type": "code",
   "execution_count": 15,
   "metadata": {},
   "outputs": [
    {
     "name": "stdout",
     "output_type": "stream",
     "text": [
      "Enter the mark :75\n",
      "C\n"
     ]
    }
   ],
   "source": [
    "x=input('Enter the mark :')\n",
    "y=int(x,base=10)\n",
    "print ('A' if 100>=y>=90 else 'B' if 90>y>=80 else 'C' if 80>y>=70 else 'D' if 70>y>=60 else 'E' if 60>y>=50 else 'F') \n",
    "print('-'*50)"
   ]
  },
  {
   "cell_type": "markdown",
   "metadata": {},
   "source": [
    "Q13. Write a program that tests whether the formula a**2 + b**2 = c**2 is true for three integers entered as input"
   ]
  },
  {
   "cell_type": "code",
   "execution_count": 20,
   "metadata": {},
   "outputs": [
    {
     "name": "stdout",
     "output_type": "stream",
     "text": [
      "Enter a :6\n",
      "Enter  b :8\n",
      "Enter c : 10\n",
      "True\n",
      "--------------------------------------------------\n"
     ]
    }
   ],
   "source": [
    "x=input('Enter a :')\n",
    "y=input('Enter  b :')\n",
    "z=input('Enter c : ')\n",
    "a=int(x,base=10)\n",
    "b=int(y,base=10)\n",
    "c=int(z,base=10)\n",
    "print( a**2+b**2 is c**2 )\n",
    "print('-'*50)\n"
   ]
  },
  {
   "cell_type": "markdown",
   "metadata": {},
   "source": [
    "Q14. Write a Python program to check whether an alphabet is vowel or consonant."
   ]
  },
  {
   "cell_type": "code",
   "execution_count": 25,
   "metadata": {},
   "outputs": [
    {
     "name": "stdout",
     "output_type": "stream",
     "text": [
      "Enter a character: O\n",
      "is a Vowel\n"
     ]
    }
   ],
   "source": [
    "x= input(\"Enter a character: \")\n",
    "print( \"is a Vowel\") if x=='A' or x=='a' or x=='E' or x=='e' or x=='I' or x=='i' or x=='O' or x=='o' or x=='U' or x=='u'  else print(\"is a Consonant\")"
   ]
  },
  {
   "cell_type": "markdown",
   "metadata": {},
   "source": [
    "Q15. Write a Python program to check whether a number is even or odd."
   ]
  },
  {
   "cell_type": "code",
   "execution_count": 28,
   "metadata": {},
   "outputs": [
    {
     "name": "stdout",
     "output_type": "stream",
     "text": [
      "Enter the number :561\n",
      "odd\n"
     ]
    }
   ],
   "source": [
    "x=input('Enter the number :')\n",
    "y=int(x,base=10)\n",
    "print('even') if y%2==0 else print('odd')\n"
   ]
  },
  {
   "cell_type": "markdown",
   "metadata": {},
   "source": [
    "Q16. Write a Python program to display the current date and time. Sample Output : Current date and time : 2019-07-05 21:25:48"
   ]
  },
  {
   "cell_type": "code",
   "execution_count": 37,
   "metadata": {},
   "outputs": [
    {
     "name": "stdout",
     "output_type": "stream",
     "text": [
      "Current date and time : \n",
      "2019-10-15 22:19:09\n"
     ]
    }
   ],
   "source": [
    "import datetime\n",
    "now = datetime.datetime.now()\n",
    "print (\"Current date and time : \")\n",
    "print (now.strftime(\"%Y-%m-%d %H:%M:%S\"))\n"
   ]
  },
  {
   "cell_type": "markdown",
   "metadata": {},
   "source": [
    "Q17. Write a Python program which accepts the radius of a circle from the user and compute the area;\n",
    "Sample Output :\n",
    "r = 1.1 Area = 3.8013271108436504"
   ]
  },
  {
   "cell_type": "code",
   "execution_count": 46,
   "metadata": {},
   "outputs": [
    {
     "name": "stdout",
     "output_type": "stream",
     "text": [
      "Enter the radius :2\n",
      "12.566370614359172\n"
     ]
    }
   ],
   "source": [
    "x=input('Enter the radius :')\n",
    "y=float(x)\n",
    "import math\n",
    "z=math.pi\n",
    "a=z*y**2\n",
    "print(a)"
   ]
  },
  {
   "cell_type": "markdown",
   "metadata": {},
   "source": [
    "Q18. Write a Python program which accepts the user’s first and last name and print them in reverse order"
   ]
  },
  {
   "cell_type": "code",
   "execution_count": null,
   "metadata": {},
   "outputs": [],
   "source": [
    "x, y = input(\"Enter your first and last name: \").split()\n",
    "print(y,x)"
   ]
  },
  {
   "cell_type": "markdown",
   "metadata": {},
   "source": [
    "Q19. Write a Python program to read a three numbers from the user and display them as follow.\n",
    "Sample Input = (11, 12, 2019) \n",
    "Sample Output : The examination will start from : 11 / 12 / 2019\n"
   ]
  },
  {
   "cell_type": "code",
   "execution_count": null,
   "metadata": {},
   "outputs": [],
   "source": [
    "x, y,z = input(\"Enter the date : \").split()\n",
    "print('The examination will start from :', end=\"  \")\n",
    "print(x, end=\"/\" )\n",
    "print(y, end='/')\n",
    "print(z)"
   ]
  },
  {
   "cell_type": "markdown",
   "metadata": {},
   "source": [
    "Q20. Write a Python program that accepts an integer (n) and computes the value of n + nn + nnn. \n",
    "Sample value of n is 5 Expected Result : 615"
   ]
  },
  {
   "cell_type": "code",
   "execution_count": null,
   "metadata": {},
   "outputs": [],
   "source": [
    "x=input('Enter the number :')\n",
    "z=x\n",
    "z=int(z,base=10)\n",
    "y=x+x\n",
    "y=int(y,base=10)\n",
    "f=x+x+x\n",
    "f=int(f,base=10)\n",
    "a=z+y+f\n",
    "print(a)"
   ]
  },
  {
   "cell_type": "markdown",
   "metadata": {},
   "source": [
    "Q21. Write a Python program to print the documentation of a Python built-in function(s)."
   ]
  },
  {
   "cell_type": "code",
   "execution_count": null,
   "metadata": {},
   "outputs": [],
   "source": [
    "help()"
   ]
  },
  {
   "cell_type": "markdown",
   "metadata": {},
   "source": [
    "Q22. Write a Python program to print the following here document.\n",
    "Go to the editor; \n",
    "Sample string : ”a string that you ”don’t” have to escape This is a ....... multi-line heredoc string ——–> example”"
   ]
  },
  {
   "cell_type": "markdown",
   "metadata": {},
   "source": [
    "Q23. Write a Python program to calculate number of days between two dates; Sample dates : (2014, 7, 2), (2014, 7, 11) Expected output : 9 days"
   ]
  },
  {
   "cell_type": "code",
   "execution_count": null,
   "metadata": {},
   "outputs": [],
   "source": [
    "x, y,z = input(\"Enter the farst date : \").split()\n",
    "a, b,c = input(\"Enter the secound date : \").split()\n",
    "e=int(x,base=10)\n",
    "f=int(a,base=10)\n",
    "print(\"Expected output  \",end=':')\n",
    "e-f if e>f else f-e"
   ]
  },
  {
   "cell_type": "markdown",
   "metadata": {},
   "source": [
    "Q24. Write a Python program to get the volume of a sphere with a given radius"
   ]
  },
  {
   "cell_type": "code",
   "execution_count": null,
   "metadata": {},
   "outputs": [],
   "source": [
    "x=input('Enter the radius :')\n",
    "y=float(x)\n",
    "import math\n",
    "z=math.pi\n",
    "v=3/4*z*y**3\n",
    "print(v)"
   ]
  },
  {
   "cell_type": "markdown",
   "metadata": {},
   "source": [
    "Q25. Write a Python program to get the difference between a given number and 17, if the number is greater than 17 return double the absolute difference."
   ]
  },
  {
   "cell_type": "code",
   "execution_count": 1,
   "metadata": {},
   "outputs": [
    {
     "name": "stdout",
     "output_type": "stream",
     "text": [
      "Enter the number:15\n"
     ]
    },
    {
     "data": {
      "text/plain": [
       "2"
      ]
     },
     "execution_count": 1,
     "metadata": {},
     "output_type": "execute_result"
    }
   ],
   "source": [
    "x=input('Enter the number:')\n",
    "y=int(x,base=10)\n",
    "(y-17)**2 if y>17 else 17-y"
   ]
  },
  {
   "cell_type": "markdown",
   "metadata": {},
   "source": [
    "Q26. Write a Python program to test whether a number is within (less than) 100 or 1000 or 2000 and print the value divided by 5 and multiplied by 25."
   ]
  },
  {
   "cell_type": "code",
   "execution_count": 4,
   "metadata": {},
   "outputs": [
    {
     "name": "stdout",
     "output_type": "stream",
     "text": [
      "Enter the number:1570\n",
      "less than 2000\n",
      "7850.0\n"
     ]
    }
   ],
   "source": [
    "x=input('Enter the number:')\n",
    "y=int(x,base=10)\n",
    "print('less than 100 ') if y<100 else print('less than 1000') if 100<y<1000 else print('less than 2000')\n",
    "print(y/5*25)"
   ]
  },
  {
   "cell_type": "markdown",
   "metadata": {},
   "source": [
    "Q27. Write a Python program to calculate the sum of three given numbers, if the values are equal then return three times of their sum."
   ]
  },
  {
   "cell_type": "code",
   "execution_count": 35,
   "metadata": {},
   "outputs": [
    {
     "name": "stdout",
     "output_type": "stream",
     "text": [
      "Enter the three integers : 1 2 3\n",
      "6\n",
      "6\n",
      "6\n"
     ]
    }
   ],
   "source": [
    "x, y,z = input(\"Enter the three integers : \").split()\n",
    "a=int(x,base=10)\n",
    "b=int(y,base=10)\n",
    "c=int(z,base=10)\n",
    "for i in range(3):a+b+c if a==b==c else print(a+b+c) "
   ]
  },
  {
   "cell_type": "markdown",
   "metadata": {},
   "source": [
    "Q28. Write a Python program to swap the values of two given numbers\n"
   ]
  },
  {
   "cell_type": "code",
   "execution_count": 39,
   "metadata": {},
   "outputs": [
    {
     "name": "stdout",
     "output_type": "stream",
     "text": [
      "Enter the two integers : 5 6\n",
      "6 5\n"
     ]
    }
   ],
   "source": [
    "x,z = input(\"Enter the two integers : \").split()\n",
    "y=x\n",
    "x=z\n",
    "z=y\n",
    "print(x,y)"
   ]
  },
  {
   "cell_type": "markdown",
   "metadata": {},
   "source": [
    "Q29. Write a Python program to check whether a specified value is contained in a group of values or if a character is given in a string; \n",
    "Test Data : 3 -> [1, 5, 8, 3] : True\n",
    "-1 -> [1, 5, 8, 3] : False\n"
   ]
  },
  {
   "cell_type": "code",
   "execution_count": 46,
   "metadata": {},
   "outputs": [
    {
     "name": "stdout",
     "output_type": "stream",
     "text": [
      "Enter the group of values :a b c\n",
      "Enter the value you want to search: b\n"
     ]
    },
    {
     "data": {
      "text/plain": [
       "'Ture'"
      ]
     },
     "execution_count": 46,
     "metadata": {},
     "output_type": "execute_result"
    }
   ],
   "source": [
    "x,y,z =input('Enter the group of values :').split()\n",
    "d=input('Enter the value you want to search: ')\n",
    "a=[x,y,z]\n",
    "'Ture' if d in a else 'False'"
   ]
  },
  {
   "cell_type": "markdown",
   "metadata": {},
   "source": [
    "Q30. Write a Python program that will accept the base and height of a triangle and compute the area."
   ]
  },
  {
   "cell_type": "code",
   "execution_count": 48,
   "metadata": {},
   "outputs": [
    {
     "name": "stdout",
     "output_type": "stream",
     "text": [
      "Enter the base and the hight of triangle :2 5\n",
      "the area= 5.0\n"
     ]
    }
   ],
   "source": [
    "x,y =input('Enter the base and the hight of triangle :').split()\n",
    "a=int(x,base=10)\n",
    "b=int(y,base=10)\n",
    "a=0.5*a*b\n",
    "print('the area=',a)\n"
   ]
  },
  {
   "cell_type": "markdown",
   "metadata": {},
   "source": [
    "Q31. Write a Python program to sum of three given integers. However, if two values are equal sum will be zero\n"
   ]
  },
  {
   "cell_type": "code",
   "execution_count": 53,
   "metadata": {},
   "outputs": [
    {
     "name": "stdout",
     "output_type": "stream",
     "text": [
      "Enter the  values :1 3 3\n",
      "sum=0\n"
     ]
    }
   ],
   "source": [
    "x,y,z =input('Enter the  values :').split()\n",
    "a=int(x,base=10)\n",
    "b=int(y,base=10)\n",
    "c=int(z,base=10)\n",
    "print('sum=0') if a==b or a==c or b==c else print (a+b+c)"
   ]
  },
  {
   "cell_type": "markdown",
   "metadata": {},
   "source": [
    "Q32. Write a Python program to sum of two given integers. However, if the sum is between 15 to 20 it will return 20. 30 to 40 it will return 50. 150 to 167 it will return 210."
   ]
  },
  {
   "cell_type": "code",
   "execution_count": 56,
   "metadata": {},
   "outputs": [
    {
     "name": "stdout",
     "output_type": "stream",
     "text": [
      "Enter the  values :20 5\n"
     ]
    },
    {
     "data": {
      "text/plain": [
       "'no def valeu'"
      ]
     },
     "execution_count": 56,
     "metadata": {},
     "output_type": "execute_result"
    }
   ],
   "source": [
    "x,y=input('Enter the  values :').split()\n",
    "a=int(x,base=10)\n",
    "b=int(y,base=10)\n",
    "z=a+b\n",
    "'20 ' if 15<=z<=20 else '50' if 40>=z>=30 else '210' if 167>=z>=150 else 'no def valeu'"
   ]
  },
  {
   "cell_type": "markdown",
   "metadata": {},
   "source": [
    "Q33. Write a Python program that will return true if the two given integer values are equal or their sum or difference is 5"
   ]
  },
  {
   "cell_type": "code",
   "execution_count": 61,
   "metadata": {},
   "outputs": [
    {
     "name": "stdout",
     "output_type": "stream",
     "text": [
      "Enter the  values :5 5\n"
     ]
    },
    {
     "data": {
      "text/plain": [
       "'true'"
      ]
     },
     "execution_count": 61,
     "metadata": {},
     "output_type": "execute_result"
    }
   ],
   "source": [
    "x,y=input('Enter the  values :').split()\n",
    "a=int(x,base=10)\n",
    "b=int(y,base=10)\n",
    "z=a+b\n",
    "f=abs(a-b)\n",
    "'true' if a==b==5 or z==5 or f==5 else 'false'"
   ]
  },
  {
   "cell_type": "markdown",
   "metadata": {},
   "source": [
    "Q34. Write a Python program to solve (x + y)∗(x + y), x and y are an inputs; Expected Output : ((4 + 3)**2) = 49"
   ]
  },
  {
   "cell_type": "code",
   "execution_count": null,
   "metadata": {},
   "outputs": [],
   "source": [
    "x,y=input('Enter the  values :').split()\n",
    "a=int(x,base=10)\n",
    "b=int(y,base=10)\n",
    "c=(a+b)*(a+b)\n",
    "print(c)"
   ]
  },
  {
   "cell_type": "markdown",
   "metadata": {},
   "source": [
    "Q35. Write a Python program to compute the future value of a specified principal amount, rate of interest, and a number of years. Test Data : amt = 10000, int = 3.5, years = 7 Expected Output : 12722.79"
   ]
  },
  {
   "cell_type": "code",
   "execution_count": null,
   "metadata": {},
   "outputs": [],
   "source": [
    "x,y,z =input('Enter the  values: amt, int , years:' ).split()\n",
    "a=int(x,base=10)\n",
    "b=float(y)\n",
    "c=int(z,base=10)\n",
    "fv = a*((1+(0.01*b)) ** c)\n",
    "print(round(fv,2))"
   ]
  },
  {
   "cell_type": "markdown",
   "metadata": {},
   "source": [
    "Q36. Write a Python program to compute the distance between the points (x1, y1) and (x2, y2). (the distance between two points calculated using Phythagoros theorem)"
   ]
  },
  {
   "cell_type": "code",
   "execution_count": null,
   "metadata": {},
   "outputs": [],
   "source": [
    "import math\n",
    "x1,y1=input('enter the first point :').split()\n",
    "x2,y2=input('enter the secound point :').split()\n",
    "a1=int(x1,base=10)\n",
    "b1=int(y1,base=10)\n",
    "a2=int(x2,base=10)\n",
    "b2=int(y2,base=10)\n",
    "\n",
    "p1 = [a1,b1]\n",
    "p2 = [a2,b2]\n",
    "d= math.sqrt( ((p1[0]-p2[0])**2)+((p1[1]-p2[1])**2) )\n",
    "\n",
    "print(d)"
   ]
  },
  {
   "cell_type": "markdown",
   "metadata": {},
   "source": [
    "Q37. Write a program to get execution time for a Python command. (Use the Jupyter’s magic commands)"
   ]
  },
  {
   "cell_type": "code",
   "execution_count": null,
   "metadata": {},
   "outputs": [],
   "source": [
    "a = range(100000) \n",
    "b = [] \n",
    "for i in a:     \n",
    "    b.append(i*2)\n",
    "    print(b)"
   ]
  },
  {
   "cell_type": "markdown",
   "metadata": {},
   "source": [
    "Q38. Write a Python program to convert height (in feet and inches) to centimeters."
   ]
  },
  {
   "cell_type": "code",
   "execution_count": null,
   "metadata": {},
   "outputs": [],
   "source": [
    "h1=input(\"Input your height in  Feet: \")\n",
    "h2=input(\"Input your height in Inches: \")\n",
    "ft=int(h1,base=10)\n",
    "inch=int(h2,base=10)\n",
    "\n",
    "inch += ft * 12\n",
    "cm = inch * 2.54\n",
    "\n",
    "print(\"Your height is : %d cm.\" % cm)"
   ]
  },
  {
   "cell_type": "markdown",
   "metadata": {},
   "source": [
    "Q39. Write a Python program to calculate the hypotenuse of a right-angled triangle."
   ]
  },
  {
   "cell_type": "code",
   "execution_count": null,
   "metadata": {},
   "outputs": [],
   "source": [
    "from math import sqrt\n",
    "x,y=input(\"Enter lengths of shorter triangle sides:\").split()\n",
    "a = float(x)\n",
    "b = float(y)\n",
    "\n",
    "c = sqrt(a**2 + b**2)\n",
    "print(\"The length of the hypotenuse is\", c )"
   ]
  },
  {
   "cell_type": "markdown",
   "metadata": {},
   "source": [
    "Q40. Write a Python program to convert the distance (in feet) to inches, yards, and miles."
   ]
  },
  {
   "cell_type": "code",
   "execution_count": null,
   "metadata": {},
   "outputs": [],
   "source": [
    "d=input(\"entert distance in feet: \")\n",
    "ft = int(d,base=10)\n",
    "inches =ft * 12\n",
    "yards = ft / 3.0\n",
    "miles = ft / 5280.0\n",
    "\n",
    "print(\"The distance in inches is %i inches.\" % inches)\n",
    "print(\"The distance in yards is %.2f yards.\" % yards)\n",
    "print(\"The distance in miles is %.2f miles.\" % miles)"
   ]
  },
  {
   "cell_type": "markdown",
   "metadata": {},
   "source": [
    "Q41. Write a Python program to convert the distance (in Minuets) to days, months, and years."
   ]
  },
  {
   "cell_type": "code",
   "execution_count": null,
   "metadata": {},
   "outputs": [],
   "source": [
    "mi = input(\"Enter minutes: \")\n",
    "m=float(mi)\n",
    "h = round((m/ 60),3)\n",
    "d=round(h/(24*60),3)\n",
    "y=round(d/(365*24*60),3)\n",
    "print(\"The  distance is: hour:\",h,\"day:\",d,'year:',y)"
   ]
  },
  {
   "cell_type": "markdown",
   "metadata": {},
   "source": [
    "Q42. Write a Python program to convert the distance (in Years) months, and days. "
   ]
  },
  {
   "cell_type": "code",
   "execution_count": null,
   "metadata": {},
   "outputs": [],
   "source": [
    "year = input(\"Enter years: \")\n",
    "y=float(year)\n",
    "d=round((y*365),3)\n",
    "h = round((d*24),3)\n",
    "print(\"The  distance is: days:\",d,'hours:',h)"
   ]
  },
  {
   "cell_type": "markdown",
   "metadata": {},
   "source": [
    "Q43. Write a Python program to calculate body mass index for a give height and Weight."
   ]
  },
  {
   "cell_type": "code",
   "execution_count": 5,
   "metadata": {},
   "outputs": [
    {
     "name": "stdout",
     "output_type": "stream",
     "text": [
      "Enter your height: 2\n",
      "Enter your weight : 10\n",
      "Your body mass index is:  2.5\n"
     ]
    }
   ],
   "source": [
    "x=input(\"Enter your height: \")\n",
    "h= float(x)\n",
    "y=input(\"Enter your weight : \")\n",
    "w= float(y)\n",
    "m=round(w / (h**2),3)\n",
    "print(\"Your body mass index is: \",m )"
   ]
  },
  {
   "cell_type": "markdown",
   "metadata": {},
   "source": [
    "Q44. Write a Python program to sort five given integers and print them"
   ]
  },
  {
   "cell_type": "code",
   "execution_count": 9,
   "metadata": {},
   "outputs": [
    {
     "name": "stdout",
     "output_type": "stream",
     "text": [
      "Enter five int :2 5 6 9 8\n",
      "['2', '5', '6', '8', '9']\n"
     ]
    }
   ],
   "source": [
    "a,b,c,d,e=input('Enter five int :').split()\n",
    "x=[a,b,c,d,e]\n",
    "print(sorted (x))"
   ]
  },
  {
   "cell_type": "markdown",
   "metadata": {},
   "source": [
    "Q45. Write a Python program to get the details (documentation) of the math module."
   ]
  },
  {
   "cell_type": "code",
   "execution_count": 10,
   "metadata": {},
   "outputs": [
    {
     "name": "stdout",
     "output_type": "stream",
     "text": [
      "\n",
      "Welcome to Python 3.7's help utility!\n",
      "\n",
      "If this is your first time using Python, you should definitely check out\n",
      "the tutorial on the Internet at https://docs.python.org/3.7/tutorial/.\n",
      "\n",
      "Enter the name of any module, keyword, or topic to get help on writing\n",
      "Python programs and using Python modules.  To quit this help utility and\n",
      "return to the interpreter, just type \"quit\".\n",
      "\n",
      "To get a list of available modules, keywords, symbols, or topics, type\n",
      "\"modules\", \"keywords\", \"symbols\", or \"topics\".  Each module also comes\n",
      "with a one-line summary of what it does; to list the modules whose name\n",
      "or summary contain a given string such as \"spam\", type \"modules spam\".\n",
      "\n",
      "help> quit\n",
      "\n",
      "You are now leaving help and returning to the Python interpreter.\n",
      "If you want to ask for help on a particular object directly from the\n",
      "interpreter, you can type \"help(object)\".  Executing \"help('string')\"\n",
      "has the same effect as typing a particular string at the help> prompt.\n"
     ]
    }
   ],
   "source": [
    "help()\n"
   ]
  },
  {
   "cell_type": "markdown",
   "metadata": {},
   "source": [
    "Q46. Write a Python program to get the ASCII code of a given character"
   ]
  },
  {
   "cell_type": "code",
   "execution_count": 11,
   "metadata": {},
   "outputs": [
    {
     "name": "stdout",
     "output_type": "stream",
     "text": [
      "Enter your charactera\n",
      "The ASCII = : 97\n"
     ]
    }
   ],
   "source": [
    "x=input('Enter your character')\n",
    "print('The ASCII = :',ord(x))"
   ]
  },
  {
   "cell_type": "markdown",
   "metadata": {},
   "source": [
    "Q47. Write a Python program to find the available built-in modules. (built-in modules doesn’t require to be PIP’ed install"
   ]
  },
  {
   "cell_type": "code",
   "execution_count": 12,
   "metadata": {},
   "outputs": [],
   "source": [
    "import sys\n",
    "import textwrap\n",
    "module_name = ', '"
   ]
  },
  {
   "cell_type": "markdown",
   "metadata": {},
   "source": [
    "Q48. Write a Python program to get the size of an object in bytes"
   ]
  },
  {
   "cell_type": "code",
   "execution_count": 15,
   "metadata": {},
   "outputs": [
    {
     "name": "stdout",
     "output_type": "stream",
     "text": [
      "Enter the object:5\n",
      "size= 50 bytes\n"
     ]
    }
   ],
   "source": [
    "x=input('Enter the object:')\n",
    "import sys\n",
    "\n",
    "print('size=',str(sys.getsizeof(x)),'bytes')"
   ]
  },
  {
   "cell_type": "markdown",
   "metadata": {},
   "source": [
    "Q49. Write a Python program to concatenate 4 given strings"
   ]
  },
  {
   "cell_type": "code",
   "execution_count": 16,
   "metadata": {},
   "outputs": [
    {
     "name": "stdout",
     "output_type": "stream",
     "text": [
      "The four strings = a s d f\n",
      "asdf\n"
     ]
    }
   ],
   "source": [
    "x,y,z,k=input('The four strings = ').split()\n",
    "print(x+y+z+k)\n"
   ]
  },
  {
   "cell_type": "markdown",
   "metadata": {},
   "source": [
    "Q50. Write a Python program to check if a string is numeric (all it’s values are numeric)."
   ]
  },
  {
   "cell_type": "code",
   "execution_count": 19,
   "metadata": {},
   "outputs": [
    {
     "name": "stdout",
     "output_type": "stream",
     "text": [
      "Enter the string :j\n"
     ]
    },
    {
     "data": {
      "text/plain": [
       "'not numeric'"
      ]
     },
     "execution_count": 19,
     "metadata": {},
     "output_type": "execute_result"
    }
   ],
   "source": [
    "x=input('Enter the string :')\n",
    "'the number is numeric ' if x.isdigit() else 'not numeric'"
   ]
  },
  {
   "cell_type": "markdown",
   "metadata": {},
   "source": [
    "Q51. Write a Python program to clear the screen or terminal."
   ]
  },
  {
   "cell_type": "code",
   "execution_count": 22,
   "metadata": {},
   "outputs": [
    {
     "data": {
      "text/plain": [
       "1"
      ]
     },
     "execution_count": 22,
     "metadata": {},
     "output_type": "execute_result"
    }
   ],
   "source": [
    "import os\n",
    "os.system(\"ls\")\n",
    "os.system('clear')"
   ]
  },
  {
   "cell_type": "markdown",
   "metadata": {},
   "source": [
    "Q52. Write a Python program to check if a number is positive, negative or zero."
   ]
  },
  {
   "cell_type": "code",
   "execution_count": 26,
   "metadata": {},
   "outputs": [
    {
     "name": "stdout",
     "output_type": "stream",
     "text": [
      "Enter the number:6\n"
     ]
    },
    {
     "data": {
      "text/plain": [
       "'positive'"
      ]
     },
     "execution_count": 26,
     "metadata": {},
     "output_type": "execute_result"
    }
   ],
   "source": [
    "x=input('Enter the number:')\n",
    "y=int(x,base=10)\n",
    "'positive' if y>0 else 'negative' if y<0 else 'zero'"
   ]
  },
  {
   "cell_type": "markdown",
   "metadata": {},
   "source": [
    "Q53. Write a Python program to input a number, if it is not a number generate an error message."
   ]
  },
  {
   "cell_type": "code",
   "execution_count": 28,
   "metadata": {},
   "outputs": [
    {
     "name": "stdout",
     "output_type": "stream",
     "text": [
      "Enter the string :h\n"
     ]
    },
    {
     "data": {
      "text/plain": [
       "'ERROR'"
      ]
     },
     "execution_count": 28,
     "metadata": {},
     "output_type": "execute_result"
    }
   ],
   "source": [
    "x=input('Enter the string :')\n",
    "'Thanx ' if x.isdigit() else 'ERROR'"
   ]
  },
  {
   "cell_type": "markdown",
   "metadata": {},
   "source": [
    "Q54. Write a Python program to prove that two string variables of same value point same memory location."
   ]
  },
  {
   "cell_type": "code",
   "execution_count": 41,
   "metadata": {},
   "outputs": [
    {
     "name": "stdout",
     "output_type": "stream",
     "text": [
      "the location of x= 1462740497888\n",
      "the location of y= 1462740497888\n"
     ]
    }
   ],
   "source": [
    "x='lina'\n",
    "y='lina'\n",
    "print ('the location of x=',id(x))\n",
    "print('the location of y=',id(y))"
   ]
  },
  {
   "cell_type": "markdown",
   "metadata": {},
   "source": [
    "Q55. Write a Python program to prove that two string variables are equals."
   ]
  },
  {
   "cell_type": "code",
   "execution_count": 47,
   "metadata": {},
   "outputs": [
    {
     "name": "stdout",
     "output_type": "stream",
     "text": [
      "enter x:l\n",
      "enter y:l\n",
      "Equal variables\n",
      "the location of x= 1462697498920\n",
      "the location of y= 1462697498920\n"
     ]
    }
   ],
   "source": [
    "x=input('enter x:')\n",
    "y=input('enter y:')\n",
    "print('Equal variables') if id(x)==id(y) else print('Defferent variables')\n",
    "print ('the location of x=',id(x))\n",
    "print('the location of y=',id(y))"
   ]
  },
  {
   "cell_type": "markdown",
   "metadata": {},
   "source": [
    "Q56. Write a Python program to empty a variable without destroying it. Sample data: n=20 Expected Output : None"
   ]
  },
  {
   "cell_type": "code",
   "execution_count": 58,
   "metadata": {},
   "outputs": [
    {
     "name": "stdout",
     "output_type": "stream",
     "text": [
      "0\n",
      "[]\n",
      "set()\n"
     ]
    }
   ],
   "source": [
    "x=50\n",
    "y=[5,9,10]\n",
    "z={2,5,5}\n",
    "print(type(x)())\n",
    "print(type(y)())\n",
    "print(type(z)())"
   ]
  },
  {
   "cell_type": "markdown",
   "metadata": {},
   "source": [
    "Q57. Write a Python program to check if lowercase letters exist in a string."
   ]
  },
  {
   "cell_type": "code",
   "execution_count": 59,
   "metadata": {},
   "outputs": [
    {
     "name": "stdout",
     "output_type": "stream",
     "text": [
      "Enter a string:DergGas\n",
      "True\n"
     ]
    }
   ],
   "source": [
    "x=input('Enter a string:')\n",
    "print(any(y.islower() for y in x))"
   ]
  },
  {
   "cell_type": "markdown",
   "metadata": {},
   "source": [
    "Q58. Write a Python program to add leading zeroes to a string\n"
   ]
  },
  {
   "cell_type": "code",
   "execution_count": 65,
   "metadata": {},
   "outputs": [
    {
     "name": "stdout",
     "output_type": "stream",
     "text": [
      "Enter a string:x\n",
      "('0', '0', 'x')\n"
     ]
    }
   ],
   "source": [
    "x=input('Enter a string:')\n",
    "y=('0','0',x)\n",
    "print(y)\n"
   ]
  },
  {
   "cell_type": "markdown",
   "metadata": {},
   "source": [
    "Q59. Write a Python program to calculate the time runs (difference between start and current time) of a program."
   ]
  },
  {
   "cell_type": "code",
   "execution_count": null,
   "metadata": {},
   "outputs": [],
   "source": []
  },
  {
   "cell_type": "markdown",
   "metadata": {},
   "source": [
    "Q60. Write a Python program to convert an integer to binary keep leading zeros. Sample data : 50 Expected output : 00001100, 0000001100 "
   ]
  },
  {
   "cell_type": "code",
   "execution_count": 80,
   "metadata": {},
   "outputs": [
    {
     "name": "stdout",
     "output_type": "stream",
     "text": [
      "enter the dec number:50\n",
      "0b110010\n"
     ]
    }
   ],
   "source": [
    "x=input('enter the dec number:')\n",
    "y=int(x,base=10)\n",
    "z=bin(y)\n",
    "print(z)"
   ]
  },
  {
   "cell_type": "markdown",
   "metadata": {},
   "source": [
    "Q61. Write a Python program to input two integers in a single line."
   ]
  },
  {
   "cell_type": "code",
   "execution_count": 69,
   "metadata": {},
   "outputs": [
    {
     "name": "stdout",
     "output_type": "stream",
     "text": [
      "enter the two int:1 2\n",
      "x= 1 , y= 2\n"
     ]
    }
   ],
   "source": [
    "x,y=input('enter the two int:').split()\n",
    "print('x=',x,',','y=',y)"
   ]
  },
  {
   "cell_type": "markdown",
   "metadata": {},
   "source": [
    "Q62. Write a python program to convert decimal to hexadecimal. Sample decimal number: 30, 4 Expected output: 1e, 04"
   ]
  },
  {
   "cell_type": "code",
   "execution_count": 72,
   "metadata": {},
   "outputs": [
    {
     "name": "stdout",
     "output_type": "stream",
     "text": [
      "enter the dec number:36\n",
      "The converted data = 0x24\n"
     ]
    }
   ],
   "source": [
    "y=input('enter the dec number:')\n",
    "x=int(y,base=10)\n",
    "z=hex(x)\n",
    "print('The converted data =',z)"
   ]
  },
  {
   "cell_type": "markdown",
   "metadata": {},
   "source": [
    "Q63. Write a Python function to find the maximum and minimum numbers from a sequence of numbers. Note: Do not use built-in functions."
   ]
  },
  {
   "cell_type": "code",
   "execution_count": 78,
   "metadata": {},
   "outputs": [
    {
     "name": "stdout",
     "output_type": "stream",
     "text": [
      "Enter the Sequence consist of four numbers:1 5 6 3\n",
      "The min= 1\n",
      "The max= 6\n"
     ]
    }
   ],
   "source": [
    "x,y,z,k=input('Enter the Sequence consist of four numbers:').split()\n",
    "l=[x,y,z,k]\n",
    "m=sorted(l)\n",
    "\n",
    "print('The min=',m[0])\n",
    "print('The max=',m[3])"
   ]
  },
  {
   "cell_type": "code",
   "execution_count": null,
   "metadata": {},
   "outputs": [],
   "source": []
  },
  {
   "cell_type": "code",
   "execution_count": null,
   "metadata": {},
   "outputs": [],
   "source": []
  }
 ],
 "metadata": {
  "kernelspec": {
   "display_name": "Python 3",
   "language": "python",
   "name": "python3"
  },
  "language_info": {
   "codemirror_mode": {
    "name": "ipython",
    "version": 3
   },
   "file_extension": ".py",
   "mimetype": "text/x-python",
   "name": "python",
   "nbconvert_exporter": "python",
   "pygments_lexer": "ipython3",
   "version": "3.7.3"
  }
 },
 "nbformat": 4,
 "nbformat_minor": 2
}
