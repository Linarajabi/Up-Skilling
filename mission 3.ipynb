{
 "cells": [
  {
   "cell_type": "markdown",
   "metadata": {},
   "source": [
    "Q1. Reverse a given number loops and equations and return true if it is the same as the original number."
   ]
  },
  {
   "cell_type": "code",
   "execution_count": 15,
   "metadata": {},
   "outputs": [
    {
     "name": "stdout",
     "output_type": "stream",
     "text": [
      "2654\n"
     ]
    }
   ],
   "source": [
    "n = 4562; \n",
    "rev = 0\n",
    "  \n",
    "while(n > 0): \n",
    "    a = n % 10\n",
    "    rev = rev * 10 + a \n",
    "    n = n // 10\n",
    "      \n",
    "print(rev) "
   ]
  },
  {
   "cell_type": "markdown",
   "metadata": {},
   "source": [
    "Q2. Write a Python program to remove the nth index character from a nonempty string."
   ]
  },
  {
   "cell_type": "code",
   "execution_count": null,
   "metadata": {},
   "outputs": [],
   "source": [
    "x=int(input('Enter the index :'))\n",
    "y=[]\n",
    "for j in range(1,x+1):\n",
    "    for i in range(1,j+1):\n",
    "        y.append(i)\n",
    "print(y[x])"
   ]
  },
  {
   "cell_type": "markdown",
   "metadata": {},
   "source": [
    "Q3. Write a Python program to calculate the length of a string."
   ]
  },
  {
   "cell_type": "code",
   "execution_count": 20,
   "metadata": {},
   "outputs": [
    {
     "name": "stdout",
     "output_type": "stream",
     "text": [
      "Enter your string:123698412589\n",
      "Length= 12\n"
     ]
    }
   ],
   "source": [
    "x=input('Enter your string:')\n",
    "length=len(x)\n",
    "print('Length=',length)"
   ]
  },
  {
   "cell_type": "markdown",
   "metadata": {},
   "source": [
    "Q4. loop over a string and each time delete the last two character until no characters left. "
   ]
  },
  {
   "cell_type": "code",
   "execution_count": 25,
   "metadata": {},
   "outputs": [
    {
     "name": "stdout",
     "output_type": "stream",
     "text": [
      "Enter your string :589+624789+36\n",
      "589+624789+3\n",
      "589+624789+\n",
      "589+624789\n",
      "589+62478\n",
      "589+6247\n",
      "589+624\n",
      "589+62\n",
      "589+6\n",
      "589+\n",
      "589\n",
      "58\n",
      "5\n",
      "\n",
      "\n",
      "Finish\n"
     ]
    }
   ],
   "source": [
    "x=input('Enter your string :')\n",
    "if len(x)==0 :\n",
    "    print('Empty string')\n",
    "else:\n",
    "    y=len(x)\n",
    "    while y>-1:\n",
    "        x=x[:len(x)-1]\n",
    "        print(x)\n",
    "        y=y-1\n",
    "    else:\n",
    "        print('Finish')"
   ]
  },
  {
   "cell_type": "markdown",
   "metadata": {},
   "source": [
    "Q5. Write a Python program to create a string contains the unique characters in a string."
   ]
  },
  {
   "cell_type": "code",
   "execution_count": 8,
   "metadata": {},
   "outputs": [
    {
     "name": "stdout",
     "output_type": "stream",
     "text": [
      "Enter the string:kstbrtunnktgwth\n",
      "number of dublicate the char k = 2\n",
      "number of dublicate the char s =0\n",
      "number of dublicate the char t = 4\n",
      "number of dublicate the char b =0\n",
      "number of dublicate the char r =0\n",
      "number of dublicate the char t = 4\n",
      "number of dublicate the char u =0\n",
      "number of dublicate the char n = 2\n",
      "number of dublicate the char n = 2\n",
      "number of dublicate the char k = 2\n",
      "number of dublicate the char t = 4\n",
      "number of dublicate the char g =0\n",
      "number of dublicate the char w =0\n",
      "number of dublicate the char t = 4\n",
      "number of dublicate the char h =0\n",
      "The uniqe char is: ['s', 'b', 'r', 'u', 'g', 'w', 'h']\n"
     ]
    }
   ],
   "source": [
    "x=input('Enter the string:')\n",
    "i=len(x)\n",
    "count1=0\n",
    "y=[]\n",
    "\n",
    "for c in range (len(x)):\n",
    "    count1=x.count(x[c])\n",
    "    if count1==1:\n",
    "        print(\"number of dublicate the char\",x[c],'=0')   \n",
    "        y.append(x[c])\n",
    "        pass\n",
    "    else:\n",
    "        print(\"number of dublicate the char\",x[c],'=',count1)\n",
    "        pass\n",
    "        \n",
    "print('The uniqe char is:',y)"
   ]
  },
  {
   "cell_type": "markdown",
   "metadata": {},
   "source": [
    "Q6. Write a Python program to count the number of occurrences of characters (character frequency) in a string."
   ]
  },
  {
   "cell_type": "code",
   "execution_count": 10,
   "metadata": {},
   "outputs": [
    {
     "name": "stdout",
     "output_type": "stream",
     "text": [
      "Enter the string: cygk;.l;\n",
      "number of dublicate the char c =0\n",
      "number of dublicate the char y =0\n",
      "number of dublicate the char g =0\n",
      "number of dublicate the char k =0\n",
      "number of dublicate the char ; = 2\n",
      "number of dublicate the char . =0\n",
      "number of dublicate the char l =0\n",
      "number of dublicate the char ; = 2\n"
     ]
    }
   ],
   "source": [
    "x=input('Enter the string: ')\n",
    "i=len(x)\n",
    "count1=0\n",
    "y=[]\n",
    "\n",
    "for c in range (len(x)):\n",
    "    count1=x.count(x[c])\n",
    "    if count1==1:\n",
    "        print(\"number of dublicate the char\",x[c],'=0')   \n",
    "        y.append(x[c])\n",
    "        pass\n",
    "    else:\n",
    "        print(\"number of dublicate the char\",x[c],'=',count1)\n",
    "        pass"
   ]
  },
  {
   "cell_type": "markdown",
   "metadata": {},
   "source": [
    "Q7. Write a Python program to get a string made of the first 2 and the last 2 chars from a given a string. If the string length is less than 2, return instead of the empty string."
   ]
  },
  {
   "cell_type": "code",
   "execution_count": 12,
   "metadata": {},
   "outputs": [
    {
     "name": "stdout",
     "output_type": "stream",
     "text": [
      "Enter the string: khdgokmolkjh\n",
      "khjh\n"
     ]
    }
   ],
   "source": [
    "x=input('Enter the string: ')\n",
    "i=len(x)\n",
    "y=[]\n",
    "if len(x)<2:\n",
    "    print(x)\n",
    "else :\n",
    "    y=x[0]+x[1]+x[-2]+x[-1]\n",
    "    print(str(y))"
   ]
  },
  {
   "cell_type": "markdown",
   "metadata": {},
   "source": [
    "Q8. Write a Python program to get a string from a given string where all occurrences of its first char have been changed to ’$’, except the first char itself."
   ]
  },
  {
   "cell_type": "code",
   "execution_count": 16,
   "metadata": {},
   "outputs": [
    {
     "name": "stdout",
     "output_type": "stream",
     "text": [
      "Enter the string: ikghidshgadlkgj\n",
      "$kgh$dshgadlkgj\n",
      "$kgh$dshgadlkgj\n"
     ]
    }
   ],
   "source": [
    "x=input('Enter the string: ')\n",
    "i=len(x)\n",
    "count1=0\n",
    "y=[]\n",
    "\n",
    "for c in range (len(x)):\n",
    "    if x[0]==x[c]:\n",
    "        print( x.replace(x[c],'$'))\n",
    "        "
   ]
  },
  {
   "cell_type": "markdown",
   "metadata": {},
   "source": [
    "Q9. Write a Python program that takes a string split it into list of words and returns the length of each one."
   ]
  },
  {
   "cell_type": "code",
   "execution_count": 30,
   "metadata": {},
   "outputs": [
    {
     "name": "stdout",
     "output_type": "stream",
     "text": [
      "Enter a string of wards:,jfgb kd,hfg khg\n",
      "[',jfgb', 'kd,hfg', 'khg']\n",
      "the word is : ,jfgb  , it's len= 5\n",
      "the word is : kd,hfg  , it's len= 6\n",
      "the word is : khg  , it's len= 3\n"
     ]
    }
   ],
   "source": [
    "x=input('Enter a string of wards:').split(sep=' ')\n",
    "y=[]\n",
    "z=[]\n",
    "count=[]\n",
    "k=[]\n",
    "print(x)\n",
    "for i in range(len(x)):\n",
    "    z.append(x[i])\n",
    "    k=str(z[i])\n",
    "    print('the word is :',z[i],\" , it's len=\",len(k))\n",
    "\n",
    "\n",
    "\n",
    "\n"
   ]
  },
  {
   "cell_type": "markdown",
   "metadata": {},
   "source": [
    "Q10. Write a Python program to check whether a string starts with specified characters."
   ]
  },
  {
   "cell_type": "code",
   "execution_count": 9,
   "metadata": {},
   "outputs": [
    {
     "name": "stdout",
     "output_type": "stream",
     "text": [
      "Enter the string :;lrghjkr\n",
      "Start with spical char\n"
     ]
    }
   ],
   "source": [
    "x=input('Enter the string :')\n",
    "y=[\"[\",\"]\",\"@\",\"_\",\"!\",\"#\",\"$\",\"%\",\"^\",\"&\",\"*\",\"(\",\")\",\"<\",\">\",\"?\",\"/\" , \"{\",\"~\",\":\",';'  ]\n",
    "if x[0] in y:\n",
    "    print('Start with spical char')\n",
    "else:\n",
    "        print('start with char')"
   ]
  },
  {
   "cell_type": "markdown",
   "metadata": {},
   "source": [
    "Q11. Write a Python program to get the last part of a string before a specified character. Sample Input: yazeed.name/python-exercises Sample Output: yazeed.name/python"
   ]
  },
  {
   "cell_type": "code",
   "execution_count": 15,
   "metadata": {},
   "outputs": [
    {
     "name": "stdout",
     "output_type": "stream",
     "text": [
      "Enter your string:kjg-khg\n",
      "kjg"
     ]
    }
   ],
   "source": [
    "x=input('Enter your string:')\n",
    "count=0\n",
    "\n",
    "while x[count] != '-':\n",
    "    print(x[count],end='')\n",
    "    count+=1\n"
   ]
  },
  {
   "cell_type": "markdown",
   "metadata": {},
   "source": [
    "Q12. Write a Python program to display a number with a comma separator between every 3 digits. SampleInput: 1240010 SampleOutput: 124,001,0"
   ]
  },
  {
   "cell_type": "code",
   "execution_count": 39,
   "metadata": {},
   "outputs": [
    {
     "name": "stdout",
     "output_type": "stream",
     "text": [
      "Enter your number:101010101\n",
      "1,01,0,101,01"
     ]
    }
   ],
   "source": [
    "#\n",
    "x=input('Enter your number:')\n",
    "i=0\n",
    "for i in range(0,len(x)):\n",
    "    print(x[i],end='')\n",
    "    if i==2:\n",
    "        print(',',end='')\n",
    "    elif   i%3==0 :\n",
    "        print(',',end='')\n",
    "        \n",
    "        \n"
   ]
  },
  {
   "cell_type": "markdown",
   "metadata": {},
   "source": [
    "Q13. Write a Python program to strip a set of characters from both sides of a string."
   ]
  },
  {
   "cell_type": "code",
   "execution_count": null,
   "metadata": {},
   "outputs": [],
   "source": []
  },
  {
   "cell_type": "markdown",
   "metadata": {},
   "source": [
    "Q14. Write a Python program to swap comma and dot in a string. Sample string: ”32.054,23” Expected Output: ”32,054.23"
   ]
  },
  {
   "cell_type": "code",
   "execution_count": 2,
   "metadata": {},
   "outputs": [
    {
     "name": "stdout",
     "output_type": "stream",
     "text": [
      "Enter the number:123,824.36\n",
      "123.824,36\n"
     ]
    }
   ],
   "source": [
    "x=input('Enter the number:')\n",
    "y=[]\n",
    "\n",
    "\n",
    "for i in range(len(x)):\n",
    "     y.append(x[i])\n",
    "for i in range (len(y)):\n",
    "    if y[i]==',':\n",
    "        y[i]='.'\n",
    "    elif y[i]=='.':\n",
    "        y[i]=','\n",
    "print(''.join(y))\n",
    "\n",
    "\n",
    "\n"
   ]
  },
  {
   "cell_type": "markdown",
   "metadata": {},
   "source": [
    "Q15. Write a Python program to find the second most repeated word in a given string."
   ]
  },
  {
   "cell_type": "code",
   "execution_count": null,
   "metadata": {},
   "outputs": [],
   "source": [
    "x=input('Enter the string: ')\n",
    "i=len(x)\n",
    "count1=0\n",
    "y=[]\n",
    "\n",
    "for c in range (len(x)):\n",
    "    count1=x.count(x[c])\n",
    "    if count1==1:\n",
    "        print(\"number of dublicate the char\",x[c],'=0')   \n",
    "        y.append(x[c])\n",
    "        pass\n",
    "    else:\n",
    "        print(\"number of dublicate the char\",x[c],'=',count1)\n",
    "        pass\n",
    "    "
   ]
  },
  {
   "cell_type": "markdown",
   "metadata": {},
   "source": [
    "Q16. Write a Python program to capitalize first and last letters of each word of a given string."
   ]
  },
  {
   "cell_type": "code",
   "execution_count": null,
   "metadata": {},
   "outputs": [],
   "source": [
    "x=input(\"Enter the string:\")\n",
    "i=1\n",
    "while i<len(x)-1:\n",
    "    x[0].upper()\n",
    "    if x[i]==' ':\n",
    "        x[i-1].upper()\n",
    "        x[i+1].upper()\n",
    "        print(x)\n",
    "    i=i+1\n",
    "print(x)"
   ]
  },
  {
   "cell_type": "markdown",
   "metadata": {},
   "source": [
    "Q17. Write a Python program that takes a string, split it into list of words, and returns the length of the longest one."
   ]
  },
  {
   "cell_type": "code",
   "execution_count": 10,
   "metadata": {},
   "outputs": [
    {
     "name": "stdout",
     "output_type": "stream",
     "text": [
      "Enter the string:\n",
      "the word :  has a length= 0\n",
      "The longest one is : \n"
     ]
    }
   ],
   "source": [
    "x=input(\"Enter the string:\").split(' ')\n",
    "y=[]\n",
    "z=[]\n",
    "for i in range(len (x)):\n",
    "    y.append(len(x[i]))\n",
    "\n",
    "    print('the word :',x[i],'has a length=',y[i])\n",
    "s=max(y)\n",
    "for i in range(len(x)):\n",
    "    if len(x[i])==s:\n",
    "        print('The longest one is :',x[i])\n",
    "\n",
    "#z.append(x[max(y)])\n",
    "#print(z)"
   ]
  },
  {
   "cell_type": "markdown",
   "metadata": {},
   "source": [
    "Q18. On the previous exercise add all the list strings into one string adding the letters ’Y!’ before each."
   ]
  },
  {
   "cell_type": "code",
   "execution_count": 16,
   "metadata": {},
   "outputs": [
    {
     "name": "stdout",
     "output_type": "stream",
     "text": [
      "Enter the string:jfg ksdg  lehtg\n",
      "Y!jfg Y!ksdg Y! Y!lehtg \n"
     ]
    }
   ],
   "source": [
    "x=input(\"Enter the string:\").split(' ')\n",
    "y=[]\n",
    "for i in range(len (x)):\n",
    "    y.append('Y!')\n",
    "    y.append(x[i])\n",
    "    y.append(' ')\n",
    "print(''.join(y))"
   ]
  },
  {
   "cell_type": "markdown",
   "metadata": {},
   "source": [
    "Q19. Write a Python program to remove a newline in the beginning and ending of a string"
   ]
  },
  {
   "cell_type": "code",
   "execution_count": 31,
   "metadata": {},
   "outputs": [
    {
     "name": "stdout",
     "output_type": "stream",
     "text": [
      " Hello,  My name is Lina \n"
     ]
    }
   ],
   "source": [
    "x='\\n Hello, \\n My name is Lina \\n'\n",
    "#print(x.rstrip('\\n'))\n",
    "print(x.replace('\\n',''))\n"
   ]
  },
  {
   "cell_type": "markdown",
   "metadata": {},
   "source": [
    "Q20. Write a Python program to sort a string lexicographically"
   ]
  },
  {
   "cell_type": "code",
   "execution_count": 34,
   "metadata": {},
   "outputs": [
    {
     "name": "stdout",
     "output_type": "stream",
     "text": [
      "enter a string lexicographically: jdwkgv52g152\n",
      "['1', '2', '2', '5', '5', 'd', 'g', 'g', 'j', 'k', 'v', 'w']\n"
     ]
    }
   ],
   "source": [
    "x=input('enter a string lexicographically: ')\n",
    "print(sorted(sorted(x), key=str.upper))"
   ]
  },
  {
   "cell_type": "markdown",
   "metadata": {},
   "source": [
    "Q21. Write a Python program to convert a given string to all uppercase if it contains at least 2 uppercase characters in the first 4 characters else convert it to lower case."
   ]
  },
  {
   "cell_type": "code",
   "execution_count": 46,
   "metadata": {},
   "outputs": [
    {
     "name": "stdout",
     "output_type": "stream",
     "text": [
      "Enter your string:\n",
      "\n"
     ]
    }
   ],
   "source": [
    "x=input('Enter your string:')\n",
    "num_upper = 0\n",
    "for letter in x[:4]: \n",
    "    if letter.upper() == letter:\n",
    "        num_upper += 1\n",
    "if num_upper >= 2:\n",
    "    print( x.upper())\n",
    "else:\n",
    "    print(x.lower())\n"
   ]
  },
  {
   "cell_type": "markdown",
   "metadata": {},
   "source": [
    "Q22. Write a Python program to get a string made of 4 copies of the last two characters of a specified string (length must be at least 2). Sample function and result : insert_end(’Python’) : onononon insert_end(’Exercises’) : eseseses"
   ]
  },
  {
   "cell_type": "code",
   "execution_count": 51,
   "metadata": {},
   "outputs": [
    {
     "name": "stdout",
     "output_type": "stream",
     "text": [
      "Enter the word:ksjkgfg\n",
      "gfgfgfgf\n"
     ]
    }
   ],
   "source": [
    "x=input('Enter the word:')\n",
    "if len(x)>2:\n",
    "    print(x[-3:-1]*4)\n",
    "else:\n",
    "    print('the word only 2 char')"
   ]
  },
  {
   "cell_type": "markdown",
   "metadata": {},
   "source": [
    "Q23. Write a Python program to create a Caesar cipher."
   ]
  },
  {
   "cell_type": "code",
   "execution_count": 9,
   "metadata": {},
   "outputs": [
    {
     "name": "stdout",
     "output_type": "stream",
     "text": [
      "Enter the letters:\n",
      "Enter the step of shifting\n"
     ]
    },
    {
     "ename": "ValueError",
     "evalue": "invalid literal for int() with base 10: ''",
     "output_type": "error",
     "traceback": [
      "\u001b[1;31m---------------------------------------------------------------------------\u001b[0m",
      "\u001b[1;31mValueError\u001b[0m                                Traceback (most recent call last)",
      "\u001b[1;32m<ipython-input-9-12e7aa7d1e08>\u001b[0m in \u001b[0;36m<module>\u001b[1;34m\u001b[0m\n\u001b[0;32m      2\u001b[0m \u001b[0msmall_letters\u001b[0m\u001b[1;33m=\u001b[0m \u001b[1;33m[\u001b[0m\u001b[1;34m'a'\u001b[0m\u001b[1;33m,\u001b[0m \u001b[1;34m'b'\u001b[0m\u001b[1;33m,\u001b[0m \u001b[1;34m'c'\u001b[0m\u001b[1;33m,\u001b[0m \u001b[1;34m'd'\u001b[0m\u001b[1;33m,\u001b[0m \u001b[1;34m'e'\u001b[0m\u001b[1;33m,\u001b[0m \u001b[1;34m'f'\u001b[0m\u001b[1;33m,\u001b[0m \u001b[1;34m'g'\u001b[0m\u001b[1;33m,\u001b[0m \u001b[1;34m'h'\u001b[0m\u001b[1;33m,\u001b[0m \u001b[1;34m'i'\u001b[0m\u001b[1;33m,\u001b[0m \u001b[1;34m'j'\u001b[0m\u001b[1;33m,\u001b[0m \u001b[1;34m'k'\u001b[0m\u001b[1;33m,\u001b[0m \u001b[1;34m'l'\u001b[0m\u001b[1;33m,\u001b[0m \u001b[1;34m'm'\u001b[0m\u001b[1;33m,\u001b[0m \u001b[1;34m'n'\u001b[0m\u001b[1;33m,\u001b[0m \u001b[1;34m'o'\u001b[0m\u001b[1;33m,\u001b[0m \u001b[1;34m'p'\u001b[0m\u001b[1;33m,\u001b[0m \u001b[1;34m'q'\u001b[0m\u001b[1;33m,\u001b[0m \u001b[1;34m'r'\u001b[0m\u001b[1;33m,\u001b[0m \u001b[1;34m's'\u001b[0m\u001b[1;33m,\u001b[0m \u001b[1;34m't'\u001b[0m\u001b[1;33m,\u001b[0m \u001b[1;34m'u'\u001b[0m\u001b[1;33m,\u001b[0m \u001b[1;34m'v'\u001b[0m\u001b[1;33m,\u001b[0m \u001b[1;34m'w'\u001b[0m\u001b[1;33m,\u001b[0m \u001b[1;34m'x'\u001b[0m\u001b[1;33m,\u001b[0m \u001b[1;34m'y'\u001b[0m\u001b[1;33m,\u001b[0m \u001b[1;34m'z'\u001b[0m\u001b[1;33m]\u001b[0m\u001b[1;33m\u001b[0m\u001b[1;33m\u001b[0m\u001b[0m\n\u001b[0;32m      3\u001b[0m \u001b[0mx\u001b[0m\u001b[1;33m=\u001b[0m\u001b[0minput\u001b[0m\u001b[1;33m(\u001b[0m\u001b[1;34m'Enter the letters:'\u001b[0m\u001b[1;33m)\u001b[0m\u001b[1;33m\u001b[0m\u001b[1;33m\u001b[0m\u001b[0m\n\u001b[1;32m----> 4\u001b[1;33m \u001b[0my\u001b[0m\u001b[1;33m=\u001b[0m\u001b[0mint\u001b[0m\u001b[1;33m(\u001b[0m\u001b[0minput\u001b[0m\u001b[1;33m(\u001b[0m\u001b[1;34m'Enter the step of shifting'\u001b[0m\u001b[1;33m)\u001b[0m\u001b[1;33m)\u001b[0m\u001b[1;33m\u001b[0m\u001b[1;33m\u001b[0m\u001b[0m\n\u001b[0m\u001b[0;32m      5\u001b[0m \u001b[0mnewtext\u001b[0m\u001b[1;33m=\u001b[0m\u001b[1;33m[\u001b[0m\u001b[1;33m]\u001b[0m\u001b[1;33m\u001b[0m\u001b[1;33m\u001b[0m\u001b[0m\n\u001b[0;32m      6\u001b[0m \u001b[1;32mfor\u001b[0m \u001b[0mi\u001b[0m \u001b[1;32min\u001b[0m \u001b[0mrange\u001b[0m\u001b[1;33m(\u001b[0m\u001b[0mlen\u001b[0m\u001b[1;33m(\u001b[0m\u001b[0mx\u001b[0m\u001b[1;33m)\u001b[0m\u001b[1;33m)\u001b[0m\u001b[1;33m:\u001b[0m\u001b[1;33m\u001b[0m\u001b[1;33m\u001b[0m\u001b[0m\n",
      "\u001b[1;31mValueError\u001b[0m: invalid literal for int() with base 10: ''"
     ]
    }
   ],
   "source": [
    "capital_letters = ['A', 'B', 'C', 'D', 'E', 'F', 'G', 'H', 'I', 'J', 'K', 'L', 'M', 'N', 'O', 'P', 'Q', 'R', 'S', 'T', 'U', 'V', 'W', 'X', 'Y', 'Z']\n",
    "small_letters= ['a', 'b', 'c', 'd', 'e', 'f', 'g', 'h', 'i', 'j', 'k', 'l', 'm', 'n', 'o', 'p', 'q', 'r', 's', 't', 'u', 'v', 'w', 'x', 'y', 'z']\n",
    "x=input('Enter the letters:')\n",
    "y=int(input('Enter the step of shifting'))\n",
    "newtext=[]\n",
    "for i in range(len(x)):\n",
    "    if x[i] in capital_letters :\n",
    "        index = capital_letters.index(x[i])\n",
    "        z=(index+y)%26\n",
    "        newtext.append(capital_letters[z])\n",
    "        \n",
    "        \n",
    "    elif x[i] in small_letters :\n",
    "        index = small_letters.index(x[i])\n",
    "        z=(index+y)%26\n",
    "        newtext.append(small_letters[z])\n",
    "        \n",
    "print(''.join(newtext))\n"
   ]
  },
  {
   "cell_type": "markdown",
   "metadata": {},
   "source": [
    "Q24. Write a Python program to check if a string contains only letters of the English alphabet"
   ]
  },
  {
   "cell_type": "code",
   "execution_count": 20,
   "metadata": {},
   "outputs": [
    {
     "name": "stdout",
     "output_type": "stream",
     "text": [
      "Enter the string:lytrsdghjkl.kjuygfd\n",
      "Not only English alphabet \n"
     ]
    }
   ],
   "source": [
    "x=input('Enter the string:')\n",
    "count=0\n",
    "\n",
    "small_letters= ['a', 'b', 'c', 'd', 'e', 'f', 'g', 'h', 'i', 'j', 'k', 'l', 'm', 'n', 'o', 'p', 'q', 'r', 's', 't', 'u', 'v', 'w', 'x', 'y', 'z']\n",
    "for i in range(len(x)):\n",
    "    if x[i].lower() not in small_letters :\n",
    "        count+=1\n",
    "if count==0:\n",
    "    print('Only English alphabet')\n",
    "else:\n",
    "        print('Not only English alphabet ')"
   ]
  },
  {
   "cell_type": "markdown",
   "metadata": {},
   "source": [
    "Q25. Write a Python program to check if a string contains all letters of the English alphabet."
   ]
  },
  {
   "cell_type": "code",
   "execution_count": 27,
   "metadata": {},
   "outputs": [
    {
     "name": "stdout",
     "output_type": "stream",
     "text": [
      "Enter the string:zxcvbnmlkjhgfdsaqwer,.tyuiop\n",
      "Contains all letters\n"
     ]
    }
   ],
   "source": [
    "x=input('Enter the string:')\n",
    "count=0\n",
    "\n",
    "small_letters= ['a', 'b', 'c', 'd', 'e', 'f', 'g', 'h', 'i', 'j', 'k', 'l', 'm', 'n', 'o', 'p', 'q', 'r', 's', 't', 'u', 'v', 'w', 'x', 'y', 'z']\n",
    "for i in range(len(small_letters)):\n",
    "    if small_letters[i] not in x :\n",
    "           count+=1\n",
    "    \n",
    "if count>0:\n",
    "    print('Not all letters ') \n",
    "    \n",
    "else:\n",
    "       \n",
    "        print('Contains all letters')"
   ]
  },
  {
   "cell_type": "markdown",
   "metadata": {},
   "source": [
    "Q26. Write a Python program converting even indexed characters to upper and odd index characters to lower."
   ]
  },
  {
   "cell_type": "code",
   "execution_count": 28,
   "metadata": {},
   "outputs": [
    {
     "name": "stdout",
     "output_type": "stream",
     "text": [
      "Enter the string:zxcvbn\n",
      "ZxCvBn\n"
     ]
    }
   ],
   "source": [
    "x=input('Enter the string:')\n",
    "y=[]\n",
    "for i in range(len(x)):\n",
    "    if i%2==0:\n",
    "        y.append(x[i].upper())\n",
    "    else:\n",
    "            y.append(x[i].lower())\n",
    "print(''.join(y))"
   ]
  },
  {
   "cell_type": "markdown",
   "metadata": {},
   "source": [
    "Q27. Write a Python program to create a string from two given strings concatenating uncommon characters of the two strings."
   ]
  },
  {
   "cell_type": "code",
   "execution_count": 39,
   "metadata": {},
   "outputs": [
    {
     "name": "stdout",
     "output_type": "stream",
     "text": [
      "Enter the first string:jhgfdsfcv\n",
      "Enter the secound string:ytreafvbn\n",
      "uncommon char is: j h g d s c y t r e a b n\n"
     ]
    }
   ],
   "source": [
    "x=input('Enter the first string:').lower()\n",
    "y=input('Enter the secound string:').lower()\n",
    "z=[]\n",
    "for i in range(len(x)):\n",
    "     if x[i] not in y:\n",
    "        z.append(x[i])\n",
    "#z.append(',')\n",
    "for i in range(len(y)):\n",
    "     if y[i] not in x:\n",
    "        z.append(y[i])\n",
    "print('uncommon char is:',' '.join(z))"
   ]
  },
  {
   "cell_type": "markdown",
   "metadata": {},
   "source": [
    "Q28. Write a Python program to chick if a string is Palindrome."
   ]
  },
  {
   "cell_type": "code",
   "execution_count": 13,
   "metadata": {},
   "outputs": [
    {
     "name": "stdout",
     "output_type": "stream",
     "text": [
      "Enter the string:alaala\n",
      "alaala\n",
      "Palindrome.\n"
     ]
    }
   ],
   "source": [
    "x=input('Enter the string:')\n",
    "y=''.join(reversed(x))\n",
    "\n",
    "print(y)\n",
    "if x ==y :\n",
    "    print('Palindrome.')\n",
    "else:\n",
    "    print('Not Palindrome.')"
   ]
  },
  {
   "cell_type": "markdown",
   "metadata": {},
   "source": [
    "Q29. Write a Python program to display a floating number in specified numbers (specified number of digits after the ’.’)."
   ]
  },
  {
   "cell_type": "code",
   "execution_count": 20,
   "metadata": {},
   "outputs": [
    {
     "name": "stdout",
     "output_type": "stream",
     "text": [
      "Enter the number:1236.3\n",
      "3\n"
     ]
    }
   ],
   "source": [
    "x=input('Enter the number:')\n",
    "z=x.index('.')\n",
    "y=[]\n",
    "for i in range(z+1,len(x)):\n",
    "    y.append(x[i])\n",
    "print(''.join(y))\n",
    "    "
   ]
  },
  {
   "cell_type": "markdown",
   "metadata": {},
   "source": [
    "Q30. Write a Python program to create all possible strings by using ’a’, ’e’, ’i’, ’o’, ’u’. Use the characters exactly once\n"
   ]
  },
  {
   "cell_type": "code",
   "execution_count": null,
   "metadata": {},
   "outputs": [],
   "source": []
  },
  {
   "cell_type": "markdown",
   "metadata": {},
   "source": [
    "Q31. Write a Python program to print a longtext, convert the string to a list and print all the words and their frequencies. "
   ]
  },
  {
   "cell_type": "code",
   "execution_count": 27,
   "metadata": {},
   "outputs": [
    {
     "name": "stdout",
     "output_type": "stream",
     "text": [
      "Enter the text:lina hsdf lkgs cg jhdfgyjfc \n",
      "The word \" lina \" repeated: 1 times \n",
      "\n",
      "The word \" hsdf \" repeated: 1 times \n",
      "\n",
      "The word \" lkgs \" repeated: 1 times \n",
      "\n",
      "The word \" cg \" repeated: 1 times \n",
      "\n",
      "The word \" jhdfgyjfc \" repeated: 1 times \n",
      "\n"
     ]
    }
   ],
   "source": [
    "x=input('Enter the text:').split()\n",
    "count=0\n",
    "for i in range(len(x)):\n",
    "    count=x.count(x[i])\n",
    "    print('The word \"',x[i],'\" repeated:',count,'times','\\n')"
   ]
  },
  {
   "cell_type": "markdown",
   "metadata": {},
   "source": [
    "Q32. Write a Python program to replace each character of a given text with the appropriate number between 0 and 25."
   ]
  },
  {
   "cell_type": "code",
   "execution_count": 39,
   "metadata": {},
   "outputs": [
    {
     "name": "stdout",
     "output_type": "stream",
     "text": [
      "Enter the string:kuysdfhgh\n",
      "[10, 20, 24, 18, 3, 5, 7, 6, 7]\n"
     ]
    }
   ],
   "source": [
    "small_letters= ['a', 'b', 'c', 'd', 'e', 'f', 'g', 'h', 'i', 'j', 'k', 'l', 'm', 'n', 'o', 'p', 'q', 'r', 's', 't', 'u', 'v', 'w', 'x', 'y', 'z']\n",
    "x=input('Enter the string:').lower()\n",
    "y=[]\n",
    "for i in range(len(x)):\n",
    "    if x[i] in small_letters :\n",
    "        y.append(small_letters.index(x[i]))\n",
    "    else:\n",
    "        y.append(x[i])\n",
    "print(y)"
   ]
  },
  {
   "cell_type": "markdown",
   "metadata": {},
   "source": [
    "Q33. Write a Python program to find the number of digits at the result offactorizing a given positive numbers n.\n",
    "Range of the number(n): (n = 5; 1*2*3*4*5 = 120; result = 3). "
   ]
  },
  {
   "cell_type": "code",
   "execution_count": 51,
   "metadata": {},
   "outputs": [
    {
     "name": "stdout",
     "output_type": "stream",
     "text": [
      "Enter the int:5\n",
      "the factors :\n",
      "The n= 120 result= 3\n"
     ]
    }
   ],
   "source": [
    "x=int(input('Enter the int:'))\n",
    "print('the factors :')\n",
    "num=1\n",
    "for i in range(1, x + 1):\n",
    "    num=num*i\n",
    "        \n",
    "z=str(num)        \n",
    "print(\"The n=\",num,\"result=\",len(z))"
   ]
  },
  {
   "cell_type": "markdown",
   "metadata": {},
   "source": [
    "Q34. Write a Python program to find the value of n where n degrees of number 2 are written sequentially in a line without spaces.\n"
   ]
  },
  {
   "cell_type": "code",
   "execution_count": 52,
   "metadata": {},
   "outputs": [
    {
     "name": "stdout",
     "output_type": "stream",
     "text": [
      "Enter the number:\n"
     ]
    }
   ],
   "source": [
    "x=input('Enter the number:')\n"
   ]
  },
  {
   "cell_type": "markdown",
   "metadata": {},
   "source": [
    "Q35. Write a Python program to find the number of notes (Sample of notes: 10, 20, 50, 100, 200 and 500 ) against an given amount.\n"
   ]
  },
  {
   "cell_type": "code",
   "execution_count": 4,
   "metadata": {},
   "outputs": [
    {
     "name": "stdout",
     "output_type": "stream",
     "text": [
      "Enter the number:880\n",
      "6\n"
     ]
    }
   ],
   "source": [
    "x=int(input('Enter the number:'))\n",
    "Q = [500, 200, 100, 50, 20, 10]\n",
    "y = 0\n",
    "for i in range(6):\n",
    "    q = Q[i]\n",
    "    y += int(x / q)\n",
    "    x = int(x % q)\n",
    "if x > 0:\n",
    "    y = -1\n",
    "\n",
    "    print(y)"
   ]
  },
  {
   "cell_type": "markdown",
   "metadata": {},
   "source": [
    "Q36. Write a Python program to find the type of the progression (arithmetic progression/geometric progression) and then extsuccessive member of agiven three successive members of asequence. Sample Input: 2, 6, 18 Sample Output: ratio: 3. next number: 54"
   ]
  },
  {
   "cell_type": "code",
   "execution_count": 7,
   "metadata": {},
   "outputs": [
    {
     "name": "stdout",
     "output_type": "stream",
     "text": [
      "AP sequence, Next number of the sequence: 4\n"
     ]
    }
   ],
   "source": [
    "arr=[1,2,3]\n",
    "if arr[0]==arr[1]==arr[2]==0:\n",
    "    print(\"Wrong Numbers\")\n",
    "elif arr[1]-arr[0]==arr[2]-arr[1]:\n",
    "    n=2*arr[2]-arr[1]\n",
    "    print( \"AP sequence, \"+'Next number of the sequence: '+str(n))\n",
    "else:\n",
    "    n=arr[2]**2/arr[1]\n",
    "    print( \"GP sequence, \" + 'Next number of the sequence:  '+str(n))"
   ]
  },
  {
   "cell_type": "markdown",
   "metadata": {},
   "source": [
    "Q37. Write a Python program to find all common divisors between two numbers in a given pair"
   ]
  },
  {
   "cell_type": "code",
   "execution_count": 8,
   "metadata": {},
   "outputs": [
    {
     "name": "stdout",
     "output_type": "stream",
     "text": [
      "Number of common divisors:  2\n",
      "Number of common divisors:  2\n",
      "Number of common divisors:  6\n"
     ]
    }
   ],
   "source": [
    "def ngcd(x, y):\n",
    "    i=1\n",
    "    while(i<=x and i<=y):\n",
    "        if(x%i==0 and y%i == 0):\n",
    "            gcd=i;\n",
    "        i+=1\n",
    "    return gcd;\n",
    "def num_comm_div(x, y):\n",
    "  n = ngcd(x, y)\n",
    "  result = 0\n",
    "  z = int(n**0.5)\n",
    "  i = 1\n",
    "  while( i <= z ):\n",
    "    if(n % i == 0):\n",
    "      result += 2 \n",
    "      if(i == n/i):\n",
    "        result-=1\n",
    "    i+=1\n",
    "  return result\n",
    "\n",
    "print(\"Number of common divisors: \",num_comm_div(2, 4))\n",
    "print(\"Number of common divisors: \",num_comm_div(2, 8))\n",
    "print(\"Number of common divisors: \",num_comm_div(12, 24))"
   ]
  },
  {
   "cell_type": "markdown",
   "metadata": {},
   "source": [
    "Q38. Write a Python program which reads a text (only alphabetical characters and spaces.) and prints two words. The first one is the word which is arise most frequently in the text. The second one is the word which has the maximum number of unique letters. "
   ]
  },
  {
   "cell_type": "code",
   "execution_count": null,
   "metadata": {},
   "outputs": [],
   "source": [
    "x=input('Enter the text:').split()\n",
    "count=0\n",
    "y=[]\n",
    "l=[]\n",
    "for i in range(len(x)):\n",
    "    count=x.count(x[i])\n",
    "    \n",
    "    y.append(count)\n",
    "    l.append(i)\n",
    "z=max(y)\n",
    "j=x[y.index(z)]\n",
    "\n",
    "print('the most frequent word is:',j)"
   ]
  },
  {
   "cell_type": "markdown",
   "metadata": {},
   "source": [
    "Q39. WriteaPythonprogramwhichreadsthetwoadjoinedsidesandthediagonalofaparallelogram and check whether the parallelogram is a rectangle or a rhombus. According to Wikipediaparallelograms: In Euclidean geometry, a parallelogram is a simple (non-self-intersecting) quadrilateral with two pairs of parallel sides. The opposite or facing sides of a parallelogram are of equal length and the opposite angles of a parallelogram are of equal measure. rectangles: In Euclidean plane geometry, a rectangle is a quadrilateral with four right angles. It can also be defined as an equiangular quadrilateral, since equiangular means that all of its angles are equal (360°/4 = 90°). It can also be defined as a parallelogram containing a right angle. rhombus: In plane Euclidean geometry, a rhombus (plural rhombi or rhombuses) is a simple (non-self-intersecting) quadrilateral whose four sides all have the same length. Another name is equilateral quadrilateral, since equilateral means that all of its sides are equal in length. The rhombus is often called a diamond, after the diamonds suit in playing cards which resembles the projection of an octahedral diamond, or a lozenge, though the former sometimes refers specifically to a rhombus with a 60° angle, and the latter sometimes refers specifically to a rhombus with a 45° angle. Inputs are: 1 < ai, bi, ci < 1000; ai + bi > ci Sample: 3,4,5 Output: This is a rectangle"
   ]
  },
  {
   "cell_type": "code",
   "execution_count": null,
   "metadata": {},
   "outputs": [],
   "source": []
  },
  {
   "cell_type": "markdown",
   "metadata": {},
   "source": [
    "Q40. Write a Python program to replace a string ”Python” with ”Java” and ”Java” with ”Python” in a given string at the same time.\n",
    "3\n",
    "Python is popular than Java Java is popular than Python "
   ]
  },
  {
   "cell_type": "code",
   "execution_count": 4,
   "metadata": {},
   "outputs": [
    {
     "name": "stdout",
     "output_type": "stream",
     "text": [
      "Enter the text: Python is popular than Java\n",
      "Java is popular than Python\n"
     ]
    }
   ],
   "source": [
    "x=input('Enter the text:').split()\n",
    "y=[]\n",
    "\n",
    "\n",
    "for i in range(len(x)):\n",
    "     y.append(x[i])\n",
    "for i in range (len(y)):\n",
    "    if y[i]=='Python':\n",
    "        y[i]='Java'\n",
    "    elif y[i]=='Java':\n",
    "        y[i]='Python'\n",
    "print(' '.join(y))"
   ]
  },
  {
   "cell_type": "markdown",
   "metadata": {},
   "source": [
    "Q41. Write a Python program that accept a even number from the user and create a combinations that express the given number as a sum of two prime numbers. Print the number of combinations. Goldbach number: A positive even that can be expressed as the sum of two odd primes. The expression of a given even number as a sum of two primes is called a Goldbach partition of that number. The following are examples of Goldbach partitions for some even numbers: 6 = 3 + 3"
   ]
  },
  {
   "cell_type": "code",
   "execution_count": null,
   "metadata": {},
   "outputs": [],
   "source": []
  },
  {
   "cell_type": "markdown",
   "metadata": {},
   "source": [
    "Q42. Thereare10verticalandhorizontalsquaresonaplane. Eachsquareispaintedblueandgreen. Blue represents the sea, and green represents the land. When two green squares are in contact with the top, bottom, right and left, they are said to be ground. The area created by only one or more green square with all the surrounding area are seas is called ”island” . For example, there are 2 islands in the figure below. Write a Python program to read the mass data and find the number of islands. Inputs are\n",
    "10 rows of 10 numbers representing green squares (island) as 1 and blue squares (sea) as zeros 1100000111 1000000111 0000000111 0010001000 0000011100 0000111110 0001111111 1000111110 1100011100 1110001000 Number of islands: 2\n"
   ]
  },
  {
   "cell_type": "code",
   "execution_count": 5,
   "metadata": {},
   "outputs": [
    {
     "ename": "SyntaxError",
     "evalue": "invalid token (<ipython-input-5-bb3500838677>, line 1)",
     "output_type": "error",
     "traceback": [
      "\u001b[1;36m  File \u001b[1;32m\"<ipython-input-5-bb3500838677>\"\u001b[1;36m, line \u001b[1;32m1\u001b[0m\n\u001b[1;33m    x=[[1100000111], [1000000111], [0000000111], [0010001000], [0000011100], [0000111110], [0001111111], [1000111110], [1100011100], [1110001000]]\u001b[0m\n\u001b[1;37m                                             ^\u001b[0m\n\u001b[1;31mSyntaxError\u001b[0m\u001b[1;31m:\u001b[0m invalid token\n"
     ]
    }
   ],
   "source": [
    "x=['1100000111', '1000000111', '0000000111', [0010001000], [0000011100], [0000111110], [0001111111], [1000111110], [1100011100], [1110001000]]\n"
   ]
  },
  {
   "cell_type": "markdown",
   "metadata": {},
   "source": [
    "Q43. Internet search engine giant, such as Google accepts web pages around the world and classify them, creating a huge database. The search engines also analyze the search keywords entered by the user and create inquiries for database search. In both cases, complicated processing is carried out in order to realize efficient retrieval, but basics are all cutting out words from sentences. Write a Python program to cut out words of 4 to 6 characters length from a given sentence not more than 1024 characters. Input is an English sentencesconsisting of delimiters and alphanumericcharacters are givenon one line. Input a sentence (1024 characters. max.): The quick brown fox The 4 to 6 characters length of words: quick brow"
   ]
  },
  {
   "cell_type": "code",
   "execution_count": null,
   "metadata": {},
   "outputs": [],
   "source": []
  },
  {
   "cell_type": "markdown",
   "metadata": {},
   "source": [
    "Q44. Write a Python program to find the first appearance of the substring ’not’ and ’poor’ from a given string, if ’not’ follows the ’poor’, replace the whole ’not’...’poor’ substring with ’good’. Return the resulting string. Sample String : ’The lyrics is not that poor!’ Expected Result : ’The lyrics is good!’"
   ]
  },
  {
   "cell_type": "code",
   "execution_count": 8,
   "metadata": {},
   "outputs": [
    {
     "name": "stdout",
     "output_type": "stream",
     "text": [
      "Enter the text:The lyrics is not that poor!\n",
      "The lyrics is good!\n"
     ]
    }
   ],
   "source": [
    "x=input('Enter the text:')\n",
    "snot = x.find('not')\n",
    "spoor = x.find('poor')\n",
    "  \n",
    "\n",
    "if spoor > snot and snot>0 and spoor>0:\n",
    "    x = x.replace(x[snot:(spoor+4)], 'good')\n",
    "    print(x)\n",
    "else:\n",
    "    print(x)"
   ]
  },
  {
   "cell_type": "markdown",
   "metadata": {},
   "source": [
    "Q45. Write a Python program to remove leading zeros from an IP address. Input: ”255.024.01.01” ”127.0.0.01 ” Output: 255.24.1.1 127.0.0.1 "
   ]
  },
  {
   "cell_type": "code",
   "execution_count": 12,
   "metadata": {},
   "outputs": [
    {
     "name": "stdout",
     "output_type": "stream",
     "text": [
      "Enter the ip:255.024.01.01\n"
     ]
    },
    {
     "ename": "TypeError",
     "evalue": "'str' object does not support item assignment",
     "output_type": "error",
     "traceback": [
      "\u001b[1;31m---------------------------------------------------------------------------\u001b[0m",
      "\u001b[1;31mTypeError\u001b[0m                                 Traceback (most recent call last)",
      "\u001b[1;32m<ipython-input-12-3a30147e5a12>\u001b[0m in \u001b[0;36m<module>\u001b[1;34m\u001b[0m\n\u001b[0;32m      6\u001b[0m     \u001b[1;32mfor\u001b[0m \u001b[0mi\u001b[0m \u001b[1;32min\u001b[0m \u001b[0mrange\u001b[0m\u001b[1;33m(\u001b[0m\u001b[0mlen\u001b[0m\u001b[1;33m(\u001b[0m\u001b[0my\u001b[0m\u001b[1;33m)\u001b[0m\u001b[1;33m)\u001b[0m\u001b[1;33m:\u001b[0m\u001b[1;33m\u001b[0m\u001b[1;33m\u001b[0m\u001b[0m\n\u001b[0;32m      7\u001b[0m         \u001b[1;32mif\u001b[0m \u001b[0my\u001b[0m\u001b[1;33m[\u001b[0m\u001b[1;36m0\u001b[0m\u001b[1;33m]\u001b[0m\u001b[1;33m==\u001b[0m\u001b[1;34m'0'\u001b[0m\u001b[1;33m:\u001b[0m\u001b[1;33m\u001b[0m\u001b[1;33m\u001b[0m\u001b[0m\n\u001b[1;32m----> 8\u001b[1;33m             \u001b[0my\u001b[0m\u001b[1;33m[\u001b[0m\u001b[1;36m0\u001b[0m\u001b[1;33m]\u001b[0m\u001b[1;33m=\u001b[0m\u001b[1;34m''\u001b[0m\u001b[1;33m\u001b[0m\u001b[1;33m\u001b[0m\u001b[0m\n\u001b[0m\u001b[0;32m      9\u001b[0m     \u001b[0mz\u001b[0m\u001b[1;33m.\u001b[0m\u001b[0mappend\u001b[0m\u001b[1;33m(\u001b[0m\u001b[0mx\u001b[0m\u001b[1;33m[\u001b[0m\u001b[0mi\u001b[0m\u001b[1;33m]\u001b[0m\u001b[1;33m)\u001b[0m\u001b[1;33m\u001b[0m\u001b[1;33m\u001b[0m\u001b[0m\n\u001b[0;32m     10\u001b[0m \u001b[0mprint\u001b[0m\u001b[1;33m(\u001b[0m\u001b[1;34m'.'\u001b[0m\u001b[1;33m.\u001b[0m\u001b[0mjoin\u001b[0m\u001b[1;33m(\u001b[0m\u001b[0mz\u001b[0m\u001b[1;33m)\u001b[0m\u001b[1;33m)\u001b[0m\u001b[1;33m\u001b[0m\u001b[1;33m\u001b[0m\u001b[0m\n",
      "\u001b[1;31mTypeError\u001b[0m: 'str' object does not support item assignment"
     ]
    }
   ],
   "source": [
    "x=input('Enter the ip:').split('.')\n",
    "y=[]\n",
    "z=[]\n",
    "for i in range(len(x)):\n",
    "    y=x[i]\n",
    "    for i in range(len(y)):\n",
    "        if y[0]=='0':\n",
    "            y[0]=''\n",
    "    z.append(x[i])\n",
    "print('.'.join(z))"
   ]
  },
  {
   "cell_type": "code",
   "execution_count": null,
   "metadata": {},
   "outputs": [],
   "source": []
  }
 ],
 "metadata": {
  "kernelspec": {
   "display_name": "Python 3",
   "language": "python",
   "name": "python3"
  },
  "language_info": {
   "codemirror_mode": {
    "name": "ipython",
    "version": 3
   },
   "file_extension": ".py",
   "mimetype": "text/x-python",
   "name": "python",
   "nbconvert_exporter": "python",
   "pygments_lexer": "ipython3",
   "version": "3.7.3"
  }
 },
 "nbformat": 4,
 "nbformat_minor": 2
}
