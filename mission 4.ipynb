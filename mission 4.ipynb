{
 "cells": [
  {
   "cell_type": "markdown",
   "metadata": {},
   "source": [
    "Q1. Write a Python program to find the second largest number in a list."
   ]
  },
  {
   "cell_type": "code",
   "execution_count": 22,
   "metadata": {},
   "outputs": [
    {
     "name": "stdout",
     "output_type": "stream",
     "text": [
      "Enter the list :12 25 48 23 69\n",
      "The max = 69\n",
      "The secound max = 48\n"
     ]
    }
   ],
   "source": [
    "x=input('Enter the list :')\n",
    "li=list(x.split(\" \"))\n",
    "ma1=max(li[::])\n",
    "ma2=max(li[0],li[1])\n",
    "\n",
    "for i in range (len(li)):\n",
    "    if li[i]==ma1 :\n",
    "        continue\n",
    "    else :\n",
    "        if li[i]>ma2:\n",
    "            ma2=li[i]\n",
    "        else: pass\n",
    "print('The max =',ma1)    \n",
    "print('The secound max =',ma2)\n",
    "\n"
   ]
  },
  {
   "cell_type": "markdown",
   "metadata": {},
   "source": [
    "Q2. Write a Python program to find the index of the second largest number in a list."
   ]
  },
  {
   "cell_type": "code",
   "execution_count": 23,
   "metadata": {},
   "outputs": [
    {
     "name": "stdout",
     "output_type": "stream",
     "text": [
      "Enter the list :12 25 36 20\n",
      "The secound max = 25 It's index= 1\n"
     ]
    }
   ],
   "source": [
    "x=input('Enter the list :')\n",
    "li=list(x.split(\" \"))\n",
    "ma1=max(li[::])\n",
    "ma2=max(li[0],li[1])\n",
    "\n",
    "for i in range (len(li)):\n",
    "    if li[i]==ma1 :\n",
    "        continue\n",
    "    else :\n",
    "        if li[i]>ma2:\n",
    "            ma2=li[i]\n",
    "        else: pass\n",
    "    \n",
    "print('The secound max =',ma2,\"It's index=\",li.index(ma2))\n",
    "\n"
   ]
  },
  {
   "cell_type": "markdown",
   "metadata": {},
   "source": [
    "Q3. Write a Python program to check a container is empty or not."
   ]
  },
  {
   "cell_type": "code",
   "execution_count": 29,
   "metadata": {},
   "outputs": [
    {
     "name": "stdout",
     "output_type": "stream",
     "text": [
      "<class 'list'> <class 'tuple'>\n",
      "t\n",
      "t\n"
     ]
    }
   ],
   "source": [
    "l=[]\n",
    "\n",
    "print(type(l),type(t))\n",
    "if len(l)==0:\n",
    "    print('t')\n",
    "else:\n",
    "    print('F')\n",
    "    \n",
    "t=()\n",
    "if len(t)==0:\n",
    "       print('t')\n",
    "else:\n",
    "    print('F')"
   ]
  },
  {
   "cell_type": "markdown",
   "metadata": {},
   "source": [
    "Q4. Write a Python program using Sieve of Eratosthenes method for computing primes upto a specified number."
   ]
  },
  {
   "cell_type": "code",
   "execution_count": 21,
   "metadata": {},
   "outputs": [
    {
     "name": "stdout",
     "output_type": "stream",
     "text": [
      "Enter the number:100\n"
     ]
    }
   ],
   "source": [
    "\n",
    "pn=[]\n",
    "n=int(input('Enter the number:'))\n",
    "for i in range(i*i,n+1,i):\n",
    "        pn.append(i)\n",
    "        for j in range (2,n+1):\n",
    "            if i not in pn:\n",
    "                print(i)"
   ]
  },
  {
   "cell_type": "markdown",
   "metadata": {},
   "source": [
    "\n",
    "Q5. Given a list slice it into a 3 equal chunks and print each list|"
   ]
  },
  {
   "cell_type": "code",
   "execution_count": null,
   "metadata": {},
   "outputs": [],
   "source": [
    "x=(input('Enter the list :'))\n",
    "y=len(x)//3\n",
    "z=[]\n",
    "k=[]\n",
    "l=[]\n",
    "z=x[ : y+1]\n",
    "k=x[y+1 : y*2+1]\n",
    "l=x[y*2+1:len(x)]\n",
    "print(z,'\\n',k,'\\n',l)"
   ]
  },
  {
   "cell_type": "markdown",
   "metadata": {},
   "source": [
    "Q6. Write a Python program to sort a list in descending order"
   ]
  },
  {
   "cell_type": "code",
   "execution_count": 5,
   "metadata": {},
   "outputs": [
    {
     "name": "stdout",
     "output_type": "stream",
     "text": [
      "Enter your list but don't ust more than one data type:12 23 45 56\n",
      "['56', '45', '23', '12']\n"
     ]
    }
   ],
   "source": [
    "x=input(\"Enter your list but don't ust more than one data type:\").split()\n",
    "#li=[]\n",
    "#li.append(x)\n",
    "x.sort(reverse=True)\n",
    "\n",
    "print(x)"
   ]
  },
  {
   "cell_type": "markdown",
   "metadata": {},
   "source": [
    "Q7. Write a Python program to reverse a list"
   ]
  },
  {
   "cell_type": "code",
   "execution_count": 8,
   "metadata": {},
   "outputs": [
    {
     "name": "stdout",
     "output_type": "stream",
     "text": [
      "Enter your list but don't ust more than one data type:12 2 45 56\n",
      "['56', '45', '2', '12']\n"
     ]
    }
   ],
   "source": [
    "x=input(\"Enter your list but don't ust more than one data type:\").split()\n",
    "#li=[]\n",
    "#li.append(x)\n",
    "x.reverse()\n",
    "print(x)"
   ]
  },
  {
   "cell_type": "markdown",
   "metadata": {},
   "source": [
    "Q8. Write a Python program to flatten a 2-D list."
   ]
  },
  {
   "cell_type": "code",
   "execution_count": null,
   "metadata": {},
   "outputs": [],
   "source": [
    "matrix=[[1,2,3],[4,5,6]]\n",
    "newmax=[]\n",
    "for i in matrix:\n",
    "    for j in i :\n",
    "        newmax.append(j)\n",
    "print(newmax)"
   ]
  },
  {
   "cell_type": "markdown",
   "metadata": {},
   "source": [
    "Q9. Given an input list removes the element at index 4 and add it to the 2nd position and also at the end of the list."
   ]
  },
  {
   "cell_type": "code",
   "execution_count": 3,
   "metadata": {},
   "outputs": [
    {
     "name": "stdout",
     "output_type": "stream",
     "text": [
      "Enter the list :12 23 20 10 30\n",
      "the list after edit: [42, '23', '20', 40]\n"
     ]
    }
   ],
   "source": [
    "x=input(\"Enter the list :\").split()\n",
    "\n",
    "y=int(x[4])\n",
    "x.remove(x[4])\n",
    "x[0]=int(x[0])\n",
    "x[0]=x[0]+y\n",
    "x[len(x)-1]=int(x[len(x)-1])\n",
    "x[len(x)-1]=x[len(x)-1]+y\n",
    "print(\"the list after edit:\",x)"
   ]
  },
  {
   "cell_type": "markdown",
   "metadata": {},
   "source": [
    "Q10. Given a two list of equal size create a set such that it shows only the common elements from both lists"
   ]
  },
  {
   "cell_type": "code",
   "execution_count": 2,
   "metadata": {},
   "outputs": [
    {
     "name": "stdout",
     "output_type": "stream",
     "text": [
      "enter the first list:2 5 6 3 \n",
      "enter the secound list:4 8 9 3\n",
      "common elements from both lists= ['3']\n"
     ]
    }
   ],
   "source": [
    "x=input('enter the first list:')\n",
    "x_set=set(x)\n",
    "y=input('enter the secound list:')\n",
    "y_set=set(y)\n",
    "z=[]\n",
    "for i in range(len(x)):\n",
    "    for j in range(len(y)):\n",
    "        if y[j] ==x[i] and y[j] != ' ':\n",
    "            z.append(y[j])\n",
    "        else :\n",
    "            continue\n",
    "print('common elements from both lists=',z)"
   ]
  },
  {
   "cell_type": "markdown",
   "metadata": {},
   "source": [
    "Q11. Given a two list of equal size create a tuple such that it shows elements from both lists in pairs ."
   ]
  },
  {
   "cell_type": "code",
   "execution_count": 3,
   "metadata": {},
   "outputs": [
    {
     "name": "stdout",
     "output_type": "stream",
     "text": [
      "(1, 5)\n",
      "(2, 6)\n",
      "(3, 7)\n",
      "(4, 8)\n"
     ]
    }
   ],
   "source": [
    "li1=[1,2,3,4]\n",
    "li2=[5,6,7,8]\n",
    "for i in range(4):\n",
    "    print((li1[i],li2[i]))"
   ]
  },
  {
   "cell_type": "markdown",
   "metadata": {},
   "source": [
    "Q12. Write a Python program to iterate and extract all key-value pair of a dictionary and print them. "
   ]
  },
  {
   "cell_type": "code",
   "execution_count": 4,
   "metadata": {},
   "outputs": [
    {
     "name": "stdout",
     "output_type": "stream",
     "text": [
      "My personal Info is:\n",
      "\n",
      "Name\n",
      "Age\n",
      "Mid name\n",
      "Last name\n"
     ]
    }
   ],
   "source": [
    "personalInfo = { \n",
    "                     'Name' : 'Lina', \n",
    "                     'Age' : '23', \n",
    "                     'Mid name' : 'Amin', \n",
    "                     'Last name' : 'AL-Rajabi'\n",
    "                    } \n",
    "                      \n",
    "\n",
    "  \n",
    " for Info in personalInfo: \n",
    "    print(Info) "
   ]
  },
  {
   "cell_type": "markdown",
   "metadata": {},
   "source": [
    "Q13. Iterate a given list and Check if a given element already exists in a dictionary as a key’s value if not delete it from the list"
   ]
  },
  {
   "cell_type": "code",
   "execution_count": 21,
   "metadata": {},
   "outputs": [
    {
     "name": "stdout",
     "output_type": "stream",
     "text": [
      "Enter the Key:Name\n",
      "found  \n",
      "\n",
      " Key value = Lina\n"
     ]
    }
   ],
   "source": [
    "personalInfo = { \n",
    "                     'Name' : 'Lina', \n",
    "                     'Age' : '23', \n",
    "                     'Mid name' : 'Amin', \n",
    "                     'Last name' : 'AL-Rajabi'\n",
    "                    } \n",
    "                      \n",
    "Info=input(\"Enter the Key:\")  \n",
    "\n",
    "if Info in personalInfo: \n",
    "        print(\"found \",\"\\n\") \n",
    "        print(\" Key value =\",personalInfo[Info]) \n",
    "else: \n",
    "        print(\"Not found\") "
   ]
  },
  {
   "cell_type": "markdown",
   "metadata": {},
   "source": [
    "Q14. Given a dictionary get all values from the dictionary and add it in a list but don’t add duplicates"
   ]
  },
  {
   "cell_type": "code",
   "execution_count": 26,
   "metadata": {},
   "outputs": [
    {
     "name": "stdout",
     "output_type": "stream",
     "text": [
      "final shape : [{'Amin': 2}, {'Lina': 1}, {'computer engineer': 2}, {'BAU/Fet': 3}]\n"
     ]
    }
   ],
   "source": [
    "l1 = [{\"Lina\" : 1}, {\"Amin\" : 2}, {\"Lina\" : 1}, {\"computer engineer\" : 2}, {\"BAU/Fet\" : 3}] \n",
    "\n",
    "l2 = [] \n",
    "for i in range(len(l1)): \n",
    "    if l1[i] not in l1[i + 1:]: \n",
    "        l2.append(l1[i]) \n",
    "    else:\n",
    "        continue\n",
    "print (\"final shape : \" + str(l2)) "
   ]
  },
  {
   "cell_type": "markdown",
   "metadata": {},
   "source": [
    "Q15. Writea Pythonprogram whichaccepts asequence ofcomma-separated numbersfrom userand generate a list and tuple with those numbers. Sample data : 3, 5, 7, 23 Output : List : [’3’, ’ 5’, ’ 7’, ’ 23’] Tuple : (’3’, ’ 5’, ’ 7’, ’ 23’)"
   ]
  },
  {
   "cell_type": "code",
   "execution_count": 27,
   "metadata": {},
   "outputs": [
    {
     "name": "stdout",
     "output_type": "stream",
     "text": [
      "List :  [3, 5, 7, 23]\n",
      "Tuple :  (3, 5, 7, 23)\n"
     ]
    }
   ],
   "source": [
    "l1= [3,5,7,23]\n",
    "t1 = tuple(l1)\n",
    "print('List : ',l1)\n",
    "print('Tuple : ',t1)"
   ]
  },
  {
   "cell_type": "markdown",
   "metadata": {},
   "source": [
    "Q16. Write a Python program to count the number 4 in a given list"
   ]
  },
  {
   "cell_type": "code",
   "execution_count": 32,
   "metadata": {},
   "outputs": [
    {
     "name": "stdout",
     "output_type": "stream",
     "text": [
      "Enter the list of integers:1 2 4 3 5 4 6 14\n",
      "number 4 appears : 2 times"
     ]
    }
   ],
   "source": [
    "x=input('Enter the list of integers:').split()\n",
    "y=x.count('4')\n",
    "print('number 4 appears :',y,'times',end='')"
   ]
  },
  {
   "cell_type": "markdown",
   "metadata": {},
   "source": [
    "Q17. Write a Python program to print all even numbers from a given numbers list in the same order and stop the printing if any numbers that come after 237 in the sequence. Sample numbers list : numbers = [386, 462, 47, 418, 907, 344, 236, 375, 823, 566, 597, 978, 328, 615, 953, 345, 399, 162, 758, 219, 918, 237, 412, 566, 826, 248, 866, 950, 626, 949, 687, 217, 815, 67, 104, 58, 512, 24, 892, 894, 767, 553, 81, 379, 843, 831, 445, 742, 717, 958, 743, 527]"
   ]
  },
  {
   "cell_type": "code",
   "execution_count": 44,
   "metadata": {},
   "outputs": [
    {
     "name": "stdout",
     "output_type": "stream",
     "text": [
      "386,462,418,344,236,566,978,328,162,758,918,"
     ]
    }
   ],
   "source": [
    " numbers = [386, 462, 47, 418, 907, 344, 236, 375, 823, 566, 597, 978, 328, 615, 953, 345, 399, 162, 758, 219, 918, 237, 412, 566, 826, 248, 866, 950, 626, 949, 687, 217, 815, 67, 104, 58, 512, 24, 892, 894, 767, 553, 81, 379, 843, 831, 445, 742, 717, 958, 743, 527]\n",
    "for i in range(len(numbers)):\n",
    "    if numbers[i]==237:\n",
    "        break\n",
    "    elif numbers[i]%2==0:\n",
    "        print(numbers[i],end=',')"
   ]
  },
  {
   "cell_type": "markdown",
   "metadata": {},
   "source": [
    "Q18. Write a Python program to print the length of the series and the series starting from the 3rd term, ending at the 3rd last term and the sum of a series"
   ]
  },
  {
   "cell_type": "code",
   "execution_count": 47,
   "metadata": {},
   "outputs": [
    {
     "name": "stdout",
     "output_type": "stream",
     "text": [
      "third term =3 \n",
      "last term=2\n",
      "Summation =5\n",
      "Length of the series:  2\n",
      "Series:\n",
      "2 2 "
     ]
    }
   ],
   "source": [
    "t3 = int(input(\"third term =\"))\n",
    "last = int(input(\"last term=\"))\n",
    "s = int(input(\"Summation =\"))\n",
    "n = int(2*s/(tn+last))\n",
    "print(\"Length of the series: \",n)\n",
    "\n",
    "\n",
    "if n-5==0:\n",
    "    d = (s-3*t3)//6\n",
    "else:\n",
    "    d = (last-t3)/(n-5)\n",
    "\n",
    "a = t3-2*d\n",
    "j = 0\n",
    "print(\"Series:\")\n",
    "for j in range(n-1):\n",
    "  print(int(a),end=\" \")\n",
    "  a+=d\n",
    "print(int(a),end=\" \")"
   ]
  },
  {
   "cell_type": "markdown",
   "metadata": {},
   "source": [
    "Q19. Write a Python program to get a list, sorted in increasing order by the last element in each tuple from a given list of non-empty tuples. Sample List : [(2, 5), (1, 2), (4, 4), (2, 3), (2, 1)] Expected Result : [(2, 1), (1, 2), (2, 3), (4, 4), (2, 5)]"
   ]
  },
  {
   "cell_type": "code",
   "execution_count": 3,
   "metadata": {},
   "outputs": [
    {
     "name": "stdout",
     "output_type": "stream",
     "text": [
      "[(2, 1), (1, 2), (2, 3), (4, 4), (2, 5)]\n"
     ]
    }
   ],
   "source": [
    "sampleList= [(2, 5), (1, 2), (4, 4), (2, 3), (2, 1)]\n",
    "l= len(sampleList)  \n",
    "for i in range(0,l):  \n",
    "          \n",
    "    for j in range(0, l-i-1):  \n",
    "            if (sampleList[j][1] > sampleList[j + 1][1]):  \n",
    "                temp = sampleList[j]  \n",
    "                sampleList[j]= sampleList[j + 1]  \n",
    "                sampleList[j + 1]= temp\n",
    "print(sampleList)"
   ]
  },
  {
   "cell_type": "markdown",
   "metadata": {},
   "source": [
    "Q20. Write a Python program to create a list by concatenating a given list which range goes from 1 to n. Sample list : [’p’, ’q’] „„ n = 5 Sample Output : [’p1’, ’q1’, ’p2’, ’q2’, ’p3’, ’q3’, ’p4’, ’q4’, ’p5’, ’q5’]"
   ]
  },
  {
   "cell_type": "code",
   "execution_count": 52,
   "metadata": {},
   "outputs": [
    {
     "name": "stdout",
     "output_type": "stream",
     "text": [
      "Enter the range6\n",
      "['p1', 'q1', 'p2', 'q2', 'p3', 'q3', 'p4', 'q4', 'p5', 'q5', 'p6', 'q6']\n"
     ]
    }
   ],
   "source": [
    "sample = ['p', 'q']\n",
    "n = int(input('Enter the range'))\n",
    "l2 = ['{}{}'.format(x, y) for y in range(1, n+1) for x in sample]\n",
    "print(l2)"
   ]
  },
  {
   "cell_type": "markdown",
   "metadata": {},
   "source": [
    "Q21. Write a Python program to find the biggest row sum of a given matrix."
   ]
  },
  {
   "cell_type": "code",
   "execution_count": 5,
   "metadata": {},
   "outputs": [
    {
     "ename": "TypeError",
     "evalue": "unsupported operand type(s) for +: 'int' and 'str'",
     "output_type": "error",
     "traceback": [
      "\u001b[1;31m---------------------------------------------------------------------------\u001b[0m",
      "\u001b[1;31mTypeError\u001b[0m                                 Traceback (most recent call last)",
      "\u001b[1;32m<ipython-input-5-976cea46ad20>\u001b[0m in \u001b[0;36m<module>\u001b[1;34m\u001b[0m\n\u001b[0;32m      8\u001b[0m \u001b[1;33m\u001b[0m\u001b[0m\n\u001b[0;32m      9\u001b[0m     \u001b[1;32mfor\u001b[0m \u001b[0mj\u001b[0m \u001b[1;32min\u001b[0m \u001b[0mrange\u001b[0m\u001b[1;33m(\u001b[0m \u001b[0mcols\u001b[0m\u001b[1;33m)\u001b[0m\u001b[1;33m:\u001b[0m\u001b[1;33m\u001b[0m\u001b[1;33m\u001b[0m\u001b[0m\n\u001b[1;32m---> 10\u001b[1;33m         \u001b[0msumRow\u001b[0m \u001b[1;33m=\u001b[0m \u001b[0msumRow\u001b[0m \u001b[1;33m+\u001b[0m \u001b[0mx\u001b[0m\u001b[1;33m[\u001b[0m\u001b[0mi\u001b[0m\u001b[1;33m]\u001b[0m\u001b[1;33m[\u001b[0m\u001b[0mj\u001b[0m\u001b[1;33m]\u001b[0m\u001b[1;33m\u001b[0m\u001b[1;33m\u001b[0m\u001b[0m\n\u001b[0m\u001b[0;32m     11\u001b[0m     \u001b[0mprint\u001b[0m\u001b[1;33m(\u001b[0m\u001b[1;34m\"Sum of \"\u001b[0m \u001b[1;33m+\u001b[0m \u001b[0mstr\u001b[0m\u001b[1;33m(\u001b[0m\u001b[0mi\u001b[0m\u001b[1;33m+\u001b[0m\u001b[1;36m1\u001b[0m\u001b[1;33m)\u001b[0m \u001b[1;33m+\u001b[0m\u001b[1;34m\" row: \"\u001b[0m \u001b[1;33m+\u001b[0m \u001b[0mstr\u001b[0m\u001b[1;33m(\u001b[0m\u001b[0msumRow\u001b[0m\u001b[1;33m)\u001b[0m\u001b[1;33m)\u001b[0m\u001b[1;33m\u001b[0m\u001b[1;33m\u001b[0m\u001b[0m\n",
      "\u001b[1;31mTypeError\u001b[0m: unsupported operand type(s) for +: 'int' and 'str'"
     ]
    }
   ],
   "source": [
    "X = [[12,7,3],\n",
    "    [4 ,5,6],\n",
    "    [7 ,8,9]]\n",
    "rows=len(x)\n",
    "cols=len(x[0])\n",
    "sumRow = 0  \n",
    "for i in range(rows):  \n",
    "    \n",
    "    for j in range( cols):  \n",
    "        sumRow = sumRow + x[i][j] \n",
    "    print(\"Sum of \" + str(i+1) +\" row: \" + str(sumRow))"
   ]
  },
  {
   "cell_type": "markdown",
   "metadata": {},
   "source": [
    "Q22. Write a Python program to find the biggest column Multiplication of a matrix."
   ]
  },
  {
   "cell_type": "code",
   "execution_count": 2,
   "metadata": {},
   "outputs": [
    {
     "name": "stdout",
     "output_type": "stream",
     "text": [
      "[1687, 1025, 282, 783]\n",
      "[4235, 4348, 843, 1962]\n",
      "[713, 817, 168, 361]\n"
     ]
    }
   ],
   "source": [
    "X = [[25,10,3],\n",
    "    [41 ,50,36],\n",
    "    [7 ,8,9]]\n",
    "Y = [[51,18,9,26],\n",
    "    [40,47,3,10],\n",
    "    [4,35,9,11]]\n",
    "res= [[0,0,0,0],\n",
    "         [0,0,0,0],\n",
    "         [0,0,0,0]]\n",
    "\n",
    "for i in range(len(X)):\n",
    "   \n",
    "   for j in range(len(Y[0])):\n",
    "      \n",
    "       for k in range(len(Y)):\n",
    "            res[i][j] += X[i][k] * Y[k][j]\n",
    "\n",
    "for r in res:\n",
    "    print(r)"
   ]
  },
  {
   "cell_type": "markdown",
   "metadata": {},
   "source": [
    "Q23. Write a guessing game where the user must guess a secret number. After every guess the program tells the user whether their number was too large or too small. At the end the number of tries needed should be printed. It counts only as one try if they input the same number multiple times consecutively."
   ]
  },
  {
   "cell_type": "code",
   "execution_count": 4,
   "metadata": {},
   "outputs": [
    {
     "name": "stdout",
     "output_type": "stream",
     "text": [
      "Enter a num between 0-250 to gess:145\n",
      "very close\n"
     ]
    }
   ],
   "source": [
    "x=int(input('Enter a num between 0-250 to gess:'))\n",
    "num=150\n",
    "if x>100 and x<200 :\n",
    "    print('very close')\n",
    "elif x == num :\n",
    "    print(\"That's true\")\n",
    "elif x>200 :\n",
    "    print('High')\n",
    "elif x<100 :\n",
    "    print('Low')"
   ]
  },
  {
   "cell_type": "markdown",
   "metadata": {},
   "source": [
    "Q24. Write a python program to transpose a matrix."
   ]
  },
  {
   "cell_type": "code",
   "execution_count": 6,
   "metadata": {},
   "outputs": [
    {
     "name": "stdout",
     "output_type": "stream",
     "text": [
      "[12, 4, 3]\n",
      "[7, 5, 8]\n"
     ]
    }
   ],
   "source": [
    "\n",
    "X = [[12,7],\n",
    "    [4 ,5],\n",
    "    [3 ,8]]\n",
    "\n",
    "result = [[0,0,0],\n",
    "         [0,0,0]]\n",
    "\n",
    "for i in range(len(X)):\n",
    "   \n",
    "   for j in range(len(X[0])):\n",
    "        result[j][i] = X[i][j]\n",
    "\n",
    "for r in result:\n",
    "    print(r)"
   ]
  },
  {
   "cell_type": "markdown",
   "metadata": {},
   "source": [
    "Q25. Write a python program to perform a 2 matrix multiplication (following the algebra rules of matrix multiplication)."
   ]
  },
  {
   "cell_type": "code",
   "execution_count": null,
   "metadata": {},
   "outputs": [],
   "source": []
  },
  {
   "cell_type": "markdown",
   "metadata": {},
   "source": [
    "Q26. Write a python program to inverse a matrix."
   ]
  },
  {
   "cell_type": "code",
   "execution_count": 23,
   "metadata": {},
   "outputs": [
    {
     "name": "stdout",
     "output_type": "stream",
     "text": [
      "befor the prosess:\n",
      "[[10  7]\n",
      " [13  9]]\n",
      "after:\n",
      "[[ -9.   7.]\n",
      " [ 13. -10.]]\n"
     ]
    }
   ],
   "source": [
    "import numpy as np\n",
    "matrix = np.array([[10,7],[13,9]])\n",
    "print(\"befor the prosess:\")\n",
    "print(matrix)\n",
    "res =  np.linalg.inv(matrix)\n",
    "print(\"after:\")\n",
    "print(res)"
   ]
  },
  {
   "cell_type": "markdown",
   "metadata": {},
   "source": [
    "Q27. Write a Python program to print all permutations of a sequence of numbers."
   ]
  },
  {
   "cell_type": "code",
   "execution_count": null,
   "metadata": {},
   "outputs": [],
   "source": [
    "def permutation(lst): \n",
    "  \n",
    "    # If lst is empty then there are no permutations \n",
    "    if len(lst) == 0: \n",
    "        return [] \n",
    "  \n",
    "    # If there is only one element in lst then, only \n",
    "    # one permuatation is possible \n",
    "    if len(lst) == 1: \n",
    "        return [lst] \n",
    "  \n",
    "    # Find the permutations for lst if there are \n",
    "    # more than 1 characters \n",
    "  \n",
    "    l = [] # empty list that will store current permutation \n",
    "  \n",
    "    # Iterate the input(lst) and calculate the permutation \n",
    "    for i in range(len(lst)): \n",
    "       m = lst[i] \n",
    "  \n",
    "       # Extract lst[i] or m from the list.  remLst is \n",
    "       # remaining list \n",
    "       remLst = lst[:i] + lst[i+1:] \n",
    "  \n",
    "       # Generating all permutations where m is first \n",
    "       # element \n",
    "       for p in permutation(remLst): \n",
    "           l.append([m] + p) \n",
    "    return l "
   ]
  },
  {
   "cell_type": "markdown",
   "metadata": {},
   "source": [
    "Q28. Write a Python program to sort (ascending and descending) a dictionary by its values."
   ]
  },
  {
   "cell_type": "code",
   "execution_count": 11,
   "metadata": {},
   "outputs": [
    {
     "name": "stdout",
     "output_type": "stream",
     "text": [
      "['Age', 'Last name', 'Mid name', 'Name']\n",
      "['Name', 'Mid name', 'Last name', 'Age']\n"
     ]
    }
   ],
   "source": [
    "personalInfo = {     'Name' : 'Lina', \n",
    "                     'Age' : '23', \n",
    "                     'Mid name' : 'Amin', \n",
    "                     'Last name' : 'AL-Rajabi'\n",
    "                    }\n",
    "print(sorted(personalInfo))\n",
    "print(sorted(personalInfo,reverse=True))"
   ]
  },
  {
   "cell_type": "markdown",
   "metadata": {},
   "source": [
    "Q29. Write a Python program to remove duplicates from Dictionary values."
   ]
  },
  {
   "cell_type": "code",
   "execution_count": 57,
   "metadata": {},
   "outputs": [
    {
     "name": "stdout",
     "output_type": "stream",
     "text": [
      "{'id1': {'name': ['Sara'], 'class': ['V'], 'subject_integration': ['english, math, science']}, 'id2': {'name': ['David'], 'class': ['V'], 'subject_integration': ['english, math, science']}, 'id4': {'name': ['Surya'], 'class': ['V'], 'subject_integration': ['english, math, science']}}\n"
     ]
    }
   ],
   "source": [
    "student_data = {'id1': \n",
    "   {'name': ['Sara'], \n",
    "    'class': ['V'], \n",
    "    'subject_integration': ['english, math, science']\n",
    "   },\n",
    " 'id2': \n",
    "  {'name': ['David'], \n",
    "    'class': ['V'], \n",
    "    'subject_integration': ['english, math, science']\n",
    "   },\n",
    " 'id3': \n",
    "    {'name': ['Sara'], \n",
    "    'class': ['V'], \n",
    "    'subject_integration': ['english, math, science']\n",
    "   },\n",
    " 'id4': \n",
    "   {'name': ['Surya'], \n",
    "    'class': ['V'], \n",
    "    'subject_integration': ['english, math, science']\n",
    "   },\n",
    "}\n",
    "\n",
    "result = {}\n",
    "\n",
    "for key,value in student_data.items():\n",
    "    if value not in result.values():\n",
    "        result[key] = value\n",
    "\n",
    "print(result)"
   ]
  },
  {
   "cell_type": "markdown",
   "metadata": {},
   "source": [
    "Q30. Write a Python program to print all unique values in a dictionary with their keys. Sample Data : [”V”:”S001”, ”V”: ”S002”, ”VI”: ”S001”, ”VI”: ”S005”, ”VII”:”S005”, ”V”:”S009”,”VIII”:”S007”] Expected Output : Unique Values: ’S005’, ’S002’, ’S007’, ’S001’, ’S009’"
   ]
  },
  {
   "cell_type": "code",
   "execution_count": 58,
   "metadata": {},
   "outputs": [
    {
     "name": "stdout",
     "output_type": "stream",
     "text": [
      "Original List:  [{'V': 'S001'}, {'V': 'S002'}, {'VI': 'S001'}, {'VI': 'S005'}, {'VII': 'S005'}, {'V': 'S009'}, {'VIII': 'S007'}]\n",
      "Unique Values:  {'S007', 'S002', 'S005', 'S001', 'S009'}\n"
     ]
    }
   ],
   "source": [
    "L = [{\"V\":\"S001\"}, {\"V\": \"S002\"}, {\"VI\": \"S001\"}, {\"VI\": \"S005\"}, {\"VII\":\"S005\"}, {\"V\":\"S009\"},{\"VIII\":\"S007\"}]\n",
    "print(\"Original List: \",L)\n",
    "u_value = set( val for dic in L for val in dic.values())\n",
    "print(\"Unique Values: \",u_value)"
   ]
  },
  {
   "cell_type": "markdown",
   "metadata": {},
   "source": [
    "Q31. Write a Python program to find the keys of the highest 3 values in a dictionary."
   ]
  },
  {
   "cell_type": "code",
   "execution_count": null,
   "metadata": {},
   "outputs": [],
   "source": [
    "\n",
    "from collections import Counter \n",
    "  \n",
    "# Initial Dictionary \n",
    "my_dict = {'A': 67, 'B': 23, 'C': 45,  \n",
    "           'D': 56, 'E': 12, 'F': 69} \n",
    "  \n",
    "k = Counter(my_dict) \n",
    "  \n",
    "# Finding 3 highest values \n",
    "high = k.most_common(3)  \n",
    "  \n",
    "print(\"Initial Dictionary:\") \n",
    "print(my_dict, \"\\n\") \n",
    "  \n",
    "  \n",
    "print(\"Dictionary with 3 highest values:\") \n",
    "print(\"Keys: Values\") \n",
    "  \n",
    "for i in high: \n",
    "    print(i[0],\" :\",i[1],\" \")"
   ]
  },
  {
   "cell_type": "markdown",
   "metadata": {},
   "source": [
    "Q32. Given a list, traverse it and count the occurrence of each element and create a dictionary to show the count of each element."
   ]
  },
  {
   "cell_type": "code",
   "execution_count": null,
   "metadata": {},
   "outputs": [],
   "source": [
    "\n",
    "\n"
   ]
  },
  {
   "cell_type": "markdown",
   "metadata": {},
   "source": [
    "Q33. Given two sets find the intersection and remove the resulted elements from the first set."
   ]
  },
  {
   "cell_type": "code",
   "execution_count": 81,
   "metadata": {},
   "outputs": [
    {
     "name": "stdout",
     "output_type": "stream",
     "text": [
      "res =  {10, 5, 7}\n",
      "new set1=  {1, 963, 63}\n"
     ]
    }
   ],
   "source": [
    "\n",
    "set1  = {7,963,10,5,1,63,10}\n",
    "set2 = {7,8,12,35,3,5,10}\n",
    "\n",
    "res = set1.intersection(set2)\n",
    "print(\"res = \", res)\n",
    "\n",
    "for i in res:\n",
    "    set1.remove(i)\n",
    "\n",
    "print(\"new set1= \", set1)"
   ]
  },
  {
   "cell_type": "raw",
   "metadata": {},
   "source": [
    "Q34. Given two sets, Checks if One Set is subset or superset of Another Set. if it is a subset, delete all elements (not the set) from that set"
   ]
  },
  {
   "cell_type": "code",
   "execution_count": 107,
   "metadata": {},
   "outputs": [
    {
     "name": "stdout",
     "output_type": "stream",
     "text": [
      "Yes,It's a subset\n",
      "None\n"
     ]
    }
   ],
   "source": [
    "set1  = {7,10,5,10}\n",
    "set2 = {7,8,12,35,3,5,10}\n",
    "\n",
    "if set1.issubset(set2):\n",
    "    print(\"Yes,It's a subset\")\n",
    "    \n",
    "    print(set1.clear())\n",
    "elif set1.isupperset(set2):\n",
    "        print(\"Yes,It's upper set\")\n",
    "else:\n",
    "    print('No')"
   ]
  },
  {
   "cell_type": "markdown",
   "metadata": {},
   "source": [
    "Q35. Write a Python program to print out a set containing all the item from list_1 which are not present in list_2. Test Data : list_1 = [”White”, ”Black”, ”Red”] list_2 = [”Red”, ”Green”] Expected Output : ’Black’, ’White’"
   ]
  },
  {
   "cell_type": "code",
   "execution_count": 122,
   "metadata": {},
   "outputs": [
    {
     "name": "stdout",
     "output_type": "stream",
     "text": [
      "{'Black', 'White'}\n"
     ]
    }
   ],
   "source": [
    "set_1 = {'White','Black', 'Red'}\n",
    "set_2 ={'Red', 'Green'}\n",
    "print((set_1).difference(set_2))\n"
   ]
  },
  {
   "cell_type": "markdown",
   "metadata": {},
   "source": [
    "Q36. Write a Python program to find a distinct pair of numbers whose all product are odd from a sequence of integer values. Sample Input: [1, 4, 7, 3] Sample Output: 1, 3 \n",
    "1, 7\n",
    "3, 7\n"
   ]
  },
  {
   "cell_type": "code",
   "execution_count": 16,
   "metadata": {},
   "outputs": [
    {
     "name": "stdout",
     "output_type": "stream",
     "text": [
      "[1, 7, 3]\n",
      "1 7\n",
      "1 3\n",
      "3 7\n"
     ]
    }
   ],
   "source": [
    "inputsample=[1,4,7,3]\n",
    "oddnum=[]\n",
    "for i in range(len(inputsample)):\n",
    "    if inputsample[i]%2!=0:\n",
    "        oddnum.append(inputsample[i])\n",
    "print(oddnum)\n",
    "i=0\n",
    "while i<len(oddnum)-1:\n",
    "    if (oddnum[i],oddnum[len(oddnum)-1]) == (oddnum[i],oddnum[i+1]):\n",
    "        pass\n",
    "    else:\n",
    "        print(oddnum[i],oddnum[i+1])\n",
    "        print(oddnum[i],oddnum[len(oddnum)-1])\n",
    "        print(oddnum[len(oddnum)-1],oddnum[i+1])\n",
    "    i=i+1"
   ]
  },
  {
   "cell_type": "markdown",
   "metadata": {},
   "source": [
    "Q37. Write a Python program to compute the summation of the absolute difference of all distinct pairs in an given array (non-decreasing order). Sample array: [1, 2, 3] Then all the distinct pairs will be: 1 2 1 3 2 3 Sample Output: 1 + 2 + 1 = 4 "
   ]
  },
  {
   "cell_type": "code",
   "execution_count": 77,
   "metadata": {},
   "outputs": [
    {
     "name": "stdout",
     "output_type": "stream",
     "text": [
      "[1, 7, 3]\n",
      "1 7\n",
      "sum= 8 \n",
      "\n",
      "1 3\n",
      "sum= 4 \n",
      "\n",
      "3 7\n",
      "sum= 10 \n",
      "\n",
      "res1= 5\n",
      "res2= 17\n"
     ]
    }
   ],
   "source": [
    "inputsample=[1,4,7,3]\n",
    "oddnum=[]\n",
    "sum=0\n",
    "for i in range(len(inputsample)):\n",
    "    if inputsample[i]%2!=0:\n",
    "        oddnum.append(inputsample[i])\n",
    "print(oddnum)\n",
    "i=0\n",
    "while i<len(oddnum)-1:\n",
    "    if (oddnum[i],oddnum[len(oddnum)-1]) == (oddnum[i],oddnum[i+1]):\n",
    "        pass\n",
    "    else:\n",
    "        print(oddnum[i],oddnum[i+1])\n",
    "        y=oddnum[i]+oddnum[i+1]\n",
    "        print('sum=',y,'\\n')\n",
    "        print(oddnum[i],oddnum[len(oddnum)-1])\n",
    "        z=oddnum[i]+oddnum[len(oddnum)-1]\n",
    "        print('sum=',z,'\\n')\n",
    "        print(oddnum[len(oddnum)-1],oddnum[i+1])\n",
    "        k=oddnum[len(oddnum)-1]+oddnum[i+1]\n",
    "        print('sum=',k,'\\n')\n",
    "        l=oddnum[i]+oddnum[i]+oddnum[len(oddnum)-1]\n",
    "        m=oddnum[i+1]+oddnum[len(oddnum)-1]+oddnum[i+1]\n",
    "        print('res1=',l)\n",
    "        print('res2=',m)\n",
    "    i=i+1"
   ]
  },
  {
   "cell_type": "markdown",
   "metadata": {},
   "source": [
    "Q38. Write a Python program to find the difference between the largest possible integer and the smallest possible integer which are created by maximum 4 digits each digit contains a value from 0 to 9. Input: 3245 Output: Min Int: 2345 Max Int: 5432 Max Difference: 3087"
   ]
  },
  {
   "cell_type": "code",
   "execution_count": null,
   "metadata": {},
   "outputs": [],
   "source": []
  },
  {
   "cell_type": "markdown",
   "metadata": {},
   "source": [
    "Q39. Write a Python program which adds up column and row of given table. Input cell value: 25 69 51 26 68 35 29 54 54 57 45 63 61 68 47 59 Result: 25 69 51 26 171 68 35 29 54 186 54 57 45 63 219 61 68 47 59 235 208 229 172 202 811\n"
   ]
  },
  {
   "cell_type": "code",
   "execution_count": null,
   "metadata": {},
   "outputs": [],
   "source": [
    "while True:\n",
    "    print(\"Input number of rows/columns (0 to exit)\")\n",
    "    n = int(input())\n",
    "    if n == 0:\n",
    "        break\n",
    "    print(\"Input cell value:\")\n",
    "    x = []\n",
    "    for i in range(n):\n",
    "        x.append([int(num) for num in input().split()])\n",
    "\n",
    "    for i in range(n):\n",
    "        sum = 0\n",
    "        for j in range(n):\n",
    "            sum += x[i][j]\n",
    "        x[i].append(sum)\n",
    "\n",
    "    x.append([])\n",
    "    for i in range(n + 1):\n",
    "        sum = 0\n",
    "        for j in range(n):\n",
    "            sum += x[j][i]\n",
    "        x[n].append(sum)\n",
    "    print(\"Result:\")\n",
    "    for i in range(n + 1):\n",
    "        for j in range(n + 1):\n",
    "            print('{0:>5}'.format(x[i][j]), end=\"\")\n",
    "        print()"
   ]
  },
  {
   "cell_type": "markdown",
   "metadata": {},
   "source": [
    "Q40. Write a Python program to count the number of strings where the string length is 2 or more and the first and last character are same from a given list of strings.\n",
    "\n",
    "Sample List : [’abc’, ’xyz’, ’aba’, ’1221’] Expected Result : 2"
   ]
  },
  {
   "cell_type": "code",
   "execution_count": 51,
   "metadata": {},
   "outputs": [
    {
     "name": "stdout",
     "output_type": "stream",
     "text": [
      "0\n"
     ]
    }
   ],
   "source": [
    "sample=['abc', 'xyz', 'aba', '1221']\n",
    "res = 0\n",
    "\n",
    "for i in range(len(sample)):\n",
    "    if len(sample) > 1 and sample[0] == sample[-1]:\n",
    "            res =res+ 1\n",
    "\n",
    "print(res)"
   ]
  },
  {
   "cell_type": "markdown",
   "metadata": {},
   "source": [
    "Q41. Write a Python program that takes two lists and returns True if they have at least 3 common member"
   ]
  },
  {
   "cell_type": "code",
   "execution_count": 63,
   "metadata": {},
   "outputs": [
    {
     "name": "stdout",
     "output_type": "stream",
     "text": [
      "5\n",
      "True\n"
     ]
    }
   ],
   "source": [
    "li1=[1,2,3,4,5]\n",
    "li2=[1,5,6,7,3]\n",
    "print(len(li1))\n",
    "count=0\n",
    "for i in range(len(li1)):\n",
    "    if li2[i] in li1:\n",
    "        count=count+1\n",
    "if count>=3:\n",
    "    print('True')\n",
    "else:\n",
    "    print('False')"
   ]
  },
  {
   "cell_type": "markdown",
   "metadata": {},
   "source": [
    "Q42. Write a Python program to generate a list of 15 values and print the list with the first and last 5 elements are squared"
   ]
  },
  {
   "cell_type": "code",
   "execution_count": 67,
   "metadata": {},
   "outputs": [
    {
     "name": "stdout",
     "output_type": "stream",
     "text": [
      "Enter 15 element:1 2 3 4 5 6 7 8 9 10 11 12 13 14 15\n",
      "1\n",
      "4\n",
      "9\n",
      "16\n",
      "25\n",
      "100\n",
      "121\n",
      "144\n",
      "169\n",
      "196\n",
      "225\n"
     ]
    }
   ],
   "source": [
    "li=input('Enter 15 element:').split()\n",
    "for i in range(0,5):\n",
    "    print((int(li[i]))**2)\n",
    "for i in range(9,15):\n",
    "    print((int(li[i]))**2)\n",
    "            "
   ]
  },
  {
   "cell_type": "markdown",
   "metadata": {},
   "source": [
    "Q43. The sum of the squares of the first ten natural numbers is, 12 + 22 + ... + 102 = 385 The square of the sum of the first ten natural numbers is,(1 + 2 + ... + 10)2 = 552 = 3025 Hence the difference between the sum of the squares of the first ten natural numbers and the square of the sum is 3025 − 385 = 2640. Find the difference between the sum of the squares of the first one hundred natural numbers and the square of the sum."
   ]
  },
  {
   "cell_type": "code",
   "execution_count": 73,
   "metadata": {},
   "outputs": [
    {
     "name": "stdout",
     "output_type": "stream",
     "text": [
      "Enter the last num:10\n",
      "the squares of the first ten natural numbers is 3025 \n",
      " The square of the sum of the first ten natural numbers is 385 \n",
      " the difference between the sum of the squares of the first ten natural numbers and the square of the sum is 2640\n"
     ]
    }
   ],
   "source": [
    "x=int(input('Enter the last num:'))\n",
    "y=0\n",
    "z=0\n",
    "for i in range(1,x+1):\n",
    "    y=y+i\n",
    "y=y**2\n",
    "for i in range(1,x+1):\n",
    "    z=z+i**2\n",
    "    \n",
    "print('the squares of the first ten natural numbers is',y,'\\n','The square of the sum of the first ten natural numbers is',z,'\\n','the difference between the sum of the squares of the first ten natural numbers and the square of the sum is',y-z)\n",
    "\n",
    "\n"
   ]
  },
  {
   "cell_type": "markdown",
   "metadata": {},
   "source": [
    "Q44. Write a Python program to convert list to list of dictionaries. Sample lists: [”Name”, ”Age”, ”ID”, ”Phone”], [”Lina”, ”21”, 1536698”, ”0798529788”] Expected Output: {’ Name’: ’Lina’, ’Age: ’21’ , ‘ID’: ’1536698’, ‘Phone’: ’0798529788’}"
   ]
  },
  {
   "cell_type": "code",
   "execution_count": null,
   "metadata": {},
   "outputs": [],
   "source": [
    "Sample lists: [”Name”, ”Age”, ”ID”, ”Phone”], [”Lina”, ”21”, 1536698”, ”0798529788”]\n",
    "    "
   ]
  },
  {
   "cell_type": "markdown",
   "metadata": {},
   "source": [
    "Q45. Write a Python program to get the top three items in a shop. Sample data: ’item1’: 45.50, ’item2’:35, ’item3’: 41.30, ’item4’:55, ’item5’: 24 Expected Output: item4 55 item1 45.5 item3 41.3"
   ]
  },
  {
   "cell_type": "code",
   "execution_count": 50,
   "metadata": {},
   "outputs": [
    {
     "name": "stdout",
     "output_type": "stream",
     "text": [
      "55\n",
      "24\n",
      "35\n"
     ]
    }
   ],
   "source": [
    "sampledata={ 'tem1': 45.50, 'item2':35, 'item3': 41.30, 'item4':55, 'item5': 24}\n",
    "s=[]\n",
    "for values in sampledata.values() :\n",
    "    s.append(values)\n",
    "s.sort()\n",
    "for i in range (-1,2):\n",
    "    print(s[i])\n"
   ]
  },
  {
   "cell_type": "markdown",
   "metadata": {},
   "source": [
    "Q46. Write a Python program to replace dictionary values with their sum"
   ]
  },
  {
   "cell_type": "code",
   "execution_count": null,
   "metadata": {},
   "outputs": [],
   "source": [
    "    for d in list_of_dicts:\n",
    "        n1 = d.pop('V')\n",
    "        n2 = d.pop('VI')\n",
    "        d['V+VI'] = (n1 + n2)/2\n",
    "    return list_of_dicts \n",
    "student_details= [\n",
    "  {'id' : 1, 'subject' : 'math', 'V' : 70, 'VI' : 82},\n",
    "  {'id' : 2, 'subject' : 'math', 'V' : 73, 'VI' : 74},\n",
    "  {'id' : 3, 'subject' : 'math', 'V' : 75, 'VI' : 86}\n",
    "]\n",
    "print(sum_math_v_vi_average(student_details))"
   ]
  }
 ],
 "metadata": {
  "kernelspec": {
   "display_name": "Python 3",
   "language": "python",
   "name": "python3"
  },
  "language_info": {
   "codemirror_mode": {
    "name": "ipython",
    "version": 3
   },
   "file_extension": ".py",
   "mimetype": "text/x-python",
   "name": "python",
   "nbconvert_exporter": "python",
   "pygments_lexer": "ipython3",
   "version": "3.7.3"
  }
 },
 "nbformat": 4,
 "nbformat_minor": 2
}
