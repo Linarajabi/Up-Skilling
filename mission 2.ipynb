{
 "cells": [
  {
   "cell_type": "markdown",
   "metadata": {},
   "source": [
    "Q1. Reverse a given number loops and equations and return true if it is the same as the original number."
   ]
  },
  {
   "cell_type": "code",
   "execution_count": null,
   "metadata": {},
   "outputs": [],
   "source": [
    "x=int('Enter')"
   ]
  },
  {
   "cell_type": "markdown",
   "metadata": {},
   "source": [
    "Q2. Return the number of times that the string “Emma” appears anywhere in the given string\n"
   ]
  },
  {
   "cell_type": "code",
   "execution_count": 20,
   "metadata": {},
   "outputs": [
    {
     "name": "stdout",
     "output_type": "stream",
     "text": [
      "Enter your string:asdEmmajkloEmmaljkg\n",
      "2\n"
     ]
    }
   ],
   "source": [
    "x=input('Enter your string:')\n",
    "print(x.count('Emma'))\n"
   ]
  },
  {
   "cell_type": "markdown",
   "metadata": {},
   "source": [
    "Q3. Print the following pattern. 1 2 2 3 3 3 4 4 4 4 5 5 5 5 "
   ]
  },
  {
   "cell_type": "code",
   "execution_count": 4,
   "metadata": {},
   "outputs": [
    {
     "name": "stdout",
     "output_type": "stream",
     "text": [
      "\n",
      "\n",
      "1 \n",
      "\n",
      "2 2 \n",
      "\n",
      "3 3 3 \n",
      "\n",
      "4 4 4 4 \n",
      "\n",
      "5 5 5 5 5 \n",
      "\n"
     ]
    }
   ],
   "source": [
    "for x in range(6):\n",
    "    for i in range(x):\n",
    "            print(x,end=' ')\n",
    "    print('\\n')"
   ]
  },
  {
   "cell_type": "markdown",
   "metadata": {},
   "source": [
    "Q4. Given a string of odd length greater than 7, return a string made of the middle three chars of a given String."
   ]
  },
  {
   "cell_type": "code",
   "execution_count": 12,
   "metadata": {},
   "outputs": [
    {
     "name": "stdout",
     "output_type": "stream",
     "text": [
      "Enter your string :aDSFDGFHJ\n",
      "The string's length= 4\n",
      "The middle three chars is F D G\n"
     ]
    }
   ],
   "source": [
    "x=input('Enter your string :')\n",
    "y=len(x)\n",
    "if y>7 and y %2==1:\n",
    "    z=(y//2)\n",
    "    print(\"The string's length=\",z)\n",
    "    print(\"The middle three chars is\",x[z-1],x[z],x[z+1])\n",
    "else:\n",
    "    print(\"The string's length is less than 7char or not odd\")"
   ]
  },
  {
   "cell_type": "markdown",
   "metadata": {},
   "source": [
    "Q5. Given 2 strings, s1 and s2, create a new string by appending s2 in the middle of s1."
   ]
  },
  {
   "cell_type": "code",
   "execution_count": 6,
   "metadata": {},
   "outputs": [
    {
     "name": "stdout",
     "output_type": "stream",
     "text": [
      "Enter string 1:dsfdg fyu\n",
      "Enter string 2:dfghj fghjk\n",
      "dsfdgdfghj fghjkfyu\n"
     ]
    }
   ],
   "source": [
    "x=input(\"Enter string 1:\")\n",
    "y=input('Enter string 2:')\n",
    "x=x.split(sep=' ',maxsplit=2)\n",
    "z=x[0]+y+x[1]\n",
    "print(z)\n",
    "\n"
   ]
  },
  {
   "cell_type": "markdown",
   "metadata": {},
   "source": [
    "Q6. Given 2 strings, s1, and s2 return a new string made of the first, middle and last char each input string."
   ]
  },
  {
   "cell_type": "code",
   "execution_count": 20,
   "metadata": {},
   "outputs": [
    {
     "name": "stdout",
     "output_type": "stream",
     "text": [
      "Enter string 1:asdfg\n",
      "Enter string 2:asdfghhjk\n",
      "The new srting is : s d g s g k\n"
     ]
    }
   ],
   "source": [
    "x=input(\"Enter string 1:\")\n",
    "y=input('Enter string 2:')\n",
    "z=len(x)\n",
    "k=len(y)\n",
    "print('The new srting is :',x[1],x[z//2],x[z-1],y[1],y[k//2],y[k-1])"
   ]
  },
  {
   "cell_type": "markdown",
   "metadata": {},
   "source": [
    "Q7. arrange String characters such that lowercase letters should come first."
   ]
  },
  {
   "cell_type": "code",
   "execution_count": 20,
   "metadata": {},
   "outputs": [
    {
     "name": "stdout",
     "output_type": "stream",
     "text": [
      "Enter The sring :SADasfASF\n"
     ]
    },
    {
     "ename": "NameError",
     "evalue": "name 'Y' is not defined",
     "output_type": "error",
     "traceback": [
      "\u001b[1;31m---------------------------------------------------------------------------\u001b[0m",
      "\u001b[1;31mNameError\u001b[0m                                 Traceback (most recent call last)",
      "\u001b[1;32m<ipython-input-20-2631a904828f>\u001b[0m in \u001b[0;36m<module>\u001b[1;34m\u001b[0m\n\u001b[0;32m      4\u001b[0m \u001b[1;32mfor\u001b[0m \u001b[0mi\u001b[0m \u001b[1;32min\u001b[0m \u001b[0mrange\u001b[0m\u001b[1;33m(\u001b[0m\u001b[0mlen\u001b[0m\u001b[1;33m(\u001b[0m\u001b[0mx\u001b[0m\u001b[1;33m)\u001b[0m\u001b[1;33m)\u001b[0m\u001b[1;33m:\u001b[0m\u001b[1;33m\u001b[0m\u001b[1;33m\u001b[0m\u001b[0m\n\u001b[0;32m      5\u001b[0m     \u001b[1;32mif\u001b[0m \u001b[0mx\u001b[0m\u001b[1;33m[\u001b[0m\u001b[0mi\u001b[0m\u001b[1;33m]\u001b[0m\u001b[1;33m.\u001b[0m\u001b[0misupper\u001b[0m\u001b[1;33m(\u001b[0m\u001b[1;33m)\u001b[0m\u001b[1;33m:\u001b[0m\u001b[1;33m\u001b[0m\u001b[1;33m\u001b[0m\u001b[0m\n\u001b[1;32m----> 6\u001b[1;33m        \u001b[0mY\u001b[0m\u001b[1;33m[\u001b[0m\u001b[0mi\u001b[0m\u001b[1;33m]\u001b[0m\u001b[1;33m=\u001b[0m\u001b[0mx\u001b[0m\u001b[1;33m[\u001b[0m\u001b[0mi\u001b[0m\u001b[1;33m]\u001b[0m\u001b[1;33m\u001b[0m\u001b[1;33m\u001b[0m\u001b[0m\n\u001b[0m\u001b[0;32m      7\u001b[0m \u001b[1;32melse\u001b[0m \u001b[1;33m:\u001b[0m\u001b[1;33m\u001b[0m\u001b[1;33m\u001b[0m\u001b[0m\n\u001b[0;32m      8\u001b[0m      \u001b[0mz\u001b[0m\u001b[1;33m[\u001b[0m\u001b[0mi\u001b[0m\u001b[1;33m]\u001b[0m\u001b[1;33m=\u001b[0m\u001b[0mx\u001b[0m\u001b[1;33m[\u001b[0m\u001b[0mi\u001b[0m\u001b[1;33m]\u001b[0m\u001b[1;33m\u001b[0m\u001b[1;33m\u001b[0m\u001b[0m\n",
      "\u001b[1;31mNameError\u001b[0m: name 'Y' is not defined"
     ]
    }
   ],
   "source": [
    "#use ascii\n",
    "x=input('Enter The sring :')\n",
    "\n",
    "for i in range(len(x)):\n",
    "    if x[i].isupper():\n",
    "       Y[i]=x[i] \n",
    "else :\n",
    "     z[i]=x[i]\n",
    "print(z,y)"
   ]
  },
  {
   "cell_type": "code",
   "execution_count": null,
   "metadata": {},
   "outputs": [],
   "source": []
  },
  {
   "cell_type": "markdown",
   "metadata": {},
   "source": [
    "Q8. Sort a given string alphabetically"
   ]
  },
  {
   "cell_type": "code",
   "execution_count": 10,
   "metadata": {},
   "outputs": [
    {
     "name": "stdout",
     "output_type": "stream",
     "text": [
      "Enter the string:ASDFsdggeqasfs\n",
      "['A', 'D', 'F', 'S', 'a', 'd', 'e', 'f', 'g', 'g', 'q', 's', 's', 's']\n"
     ]
    }
   ],
   "source": [
    "x=input('Enter the string:')\n",
    "y=sorted(x)\n",
    "print(y)\n",
    "\n",
    "            \n",
    "            "
   ]
  },
  {
   "cell_type": "markdown",
   "metadata": {},
   "source": [
    "Q9. Given a string input Count all lower case, upper case, digits, and special symbols Sample Input: ”My?Name!Is956Yazeed” Sample Output: Number of upper case: 4 Number of lower case: 10 Number of digits: 3 Number of special symbols: 2"
   ]
  },
  {
   "cell_type": "code",
   "execution_count": 18,
   "metadata": {},
   "outputs": [
    {
     "name": "stdout",
     "output_type": "stream",
     "text": [
      "Enter the string:My?Name!Is956Yazeed\n",
      "Number of upper case= 4 , Number of lower case= 10 , Number of digits= 3 , Number of special symbols= 2\n"
     ]
    }
   ],
   "source": [
    "x=input(\"Enter the string:\")\n",
    "up=0\n",
    "low=0\n",
    "sc=0\n",
    "dig=0\n",
    "for i in range(len(x)):\n",
    "    if x[i].isupper():\n",
    "        up=up+1\n",
    "    elif x[i].islower() :\n",
    "            low=low+1\n",
    "    elif x[i].isdigit() :\n",
    "            dig=dig+1\n",
    "    else:\n",
    "            sc=sc+1\n",
    "print('Number of upper case=',up,',','Number of lower case=',low,',','Number of digits=',dig,',','Number of special symbols=',sc)"
   ]
  },
  {
   "cell_type": "markdown",
   "metadata": {},
   "source": [
    "Q10. Write  program that takes a positive integer n as an input from the user and calculates the sum up to n"
   ]
  },
  {
   "cell_type": "code",
   "execution_count": 23,
   "metadata": {},
   "outputs": [
    {
     "name": "stdout",
     "output_type": "stream",
     "text": [
      "Enter the number:10\n",
      "The sum= 55\n"
     ]
    }
   ],
   "source": [
    "x=input('Enter the number:')\n",
    "x=int(x,base=10)\n",
    "y=0\n",
    "if x<0 :\n",
    "    print(\"negative Number\")\n",
    "else:\n",
    "    for i in range(x+1):\n",
    "        y=y+i\n",
    "print('The sum=',y)"
   ]
  },
  {
   "cell_type": "markdown",
   "metadata": {},
   "source": [
    "Q11. Use the While or for statement to write a program that computes and displays the factorial of a positive integer n entered by the user."
   ]
  },
  {
   "cell_type": "code",
   "execution_count": 26,
   "metadata": {},
   "outputs": [
    {
     "name": "stdout",
     "output_type": "stream",
     "text": [
      "Enter the number:23\n",
      "The factorial = 25852016738884976640000\n"
     ]
    }
   ],
   "source": [
    "x=input('Enter the number:')\n",
    "x=int(x,base=10)\n",
    "y=1\n",
    "for i in range(1,(x+1)):\n",
    "    y=y*i\n",
    "print('The factorial =',y)"
   ]
  },
  {
   "cell_type": "markdown",
   "metadata": {},
   "source": [
    "Q12. Write a program that uses a while loop to display values from -5 through 5, using an increment of 0.5."
   ]
  },
  {
   "cell_type": "code",
   "execution_count": 2,
   "metadata": {},
   "outputs": [
    {
     "name": "stdout",
     "output_type": "stream",
     "text": [
      "-5\n",
      "-4.5\n",
      "-4\n",
      "-3.5\n",
      "-3\n",
      "-2.5\n",
      "-2\n",
      "-1.5\n",
      "-1\n",
      "-0.5\n",
      "0\n",
      "0.5\n",
      "1\n",
      "1.5\n",
      "2\n",
      "2.5\n",
      "3\n",
      "3.5\n",
      "4\n",
      "4.5\n",
      "5\n",
      "5.5\n"
     ]
    }
   ],
   "source": [
    "x=6\n",
    "y=0.5\n",
    "i=-5\n",
    "while -x<i<x:\n",
    "    print(i)\n",
    "    print(i+0.5)\n",
    "    i=i+1\n",
    "\n",
    "else :pass"
   ]
  },
  {
   "cell_type": "markdown",
   "metadata": {},
   "source": [
    "Q13. Write a program that prints the following star pattern:\n",
    "* * * *\n",
    "* * *\n",
    "* * \n",
    "*"
   ]
  },
  {
   "cell_type": "code",
   "execution_count": 9,
   "metadata": {},
   "outputs": [
    {
     "name": "stdout",
     "output_type": "stream",
     "text": [
      "* * * * \n",
      "* * * \n",
      "* * \n",
      "* \n"
     ]
    }
   ],
   "source": [
    "count=4\n",
    "while count>0:\n",
    "    print('* '*count)\n",
    "    count=count-1\n",
    "else:\n",
    "    pass"
   ]
  },
  {
   "cell_type": "markdown",
   "metadata": {},
   "source": [
    "Q14. Write a c program that prints the following star pattern:\n",
    "*\n",
    "* *\n",
    "* * *\n",
    "* * * *\n",
    "* * * * * \n",
    "* * * *\n",
    "* * *\n",
    "* * \n",
    "*"
   ]
  },
  {
   "cell_type": "code",
   "execution_count": 8,
   "metadata": {},
   "outputs": [
    {
     "name": "stdout",
     "output_type": "stream",
     "text": [
      "\n",
      "* \n",
      "* * \n",
      "* * * \n",
      "* * * * \n",
      "* * * * * \n",
      "* * * * \n",
      "* * * \n",
      "* * \n",
      "* \n"
     ]
    }
   ],
   "source": [
    "count=0\n",
    "x=6\n",
    "while count<x:\n",
    "    print('* '*count)\n",
    "    count=count+1\n",
    "else :\n",
    "    if count==6:\n",
    "        x=4\n",
    "        for count in range(4):\n",
    "            \n",
    "            print('* '*x)\n",
    "            x=x-1\n",
    "    \n",
    " "
   ]
  },
  {
   "cell_type": "markdown",
   "metadata": {},
   "source": [
    "Q15. Write a c program that prints the following star pattern:\n",
    "7\n",
    "* 6\n",
    "* * 5\n",
    "* * * 4\n",
    "* * * * 3\n"
   ]
  },
  {
   "cell_type": "code",
   "execution_count": 10,
   "metadata": {},
   "outputs": [
    {
     "name": "stdout",
     "output_type": "stream",
     "text": [
      " 7\n",
      "*  6\n",
      "* *  5\n",
      "* * *  4\n",
      "* * * *  3\n"
     ]
    }
   ],
   "source": [
    "x=7\n",
    "for i in range (5):\n",
    "    print('* '*(i),x)\n",
    "    x=x-1\n"
   ]
  },
  {
   "cell_type": "markdown",
   "metadata": {},
   "source": [
    "16. Write a c program that prints the following star pattern:\n",
    "    *\n",
    "   * *\n",
    "  * * *\n",
    " * * * * \n",
    "* * * * * \n"
   ]
  },
  {
   "cell_type": "code",
   "execution_count": 9,
   "metadata": {},
   "outputs": [
    {
     "name": "stdout",
     "output_type": "stream",
     "text": [
      "      \n",
      "     * \n",
      "    * * \n",
      "   * * * \n",
      "  * * * * \n",
      " * * * * * \n"
     ]
    }
   ],
   "source": [
    "count=0\n",
    "x=5\n",
    "while count<6:\n",
    "    print(' '*x,'* '*count)\n",
    "    count=count+1\n",
    "    x=x-1\n",
    "else: pass"
   ]
  },
  {
   "cell_type": "markdown",
   "metadata": {},
   "source": [
    "Q17. Write a c program that prints the following star pattern:\n",
    "* * * * *\n",
    " * * * *\n",
    "  * * *\n",
    "   * * \n",
    "    *"
   ]
  },
  {
   "cell_type": "code",
   "execution_count": 11,
   "metadata": {},
   "outputs": [
    {
     "name": "stdout",
     "output_type": "stream",
     "text": [
      " * * * * * \n",
      "  * * * * \n",
      "   * * * \n",
      "    * * \n",
      "     * \n"
     ]
    }
   ],
   "source": [
    "count=5\n",
    "x=0\n",
    "while count>0:\n",
    "    \n",
    "    print(' '*x,'* '*count)\n",
    "    count=count-1\n",
    "    x=x+1\n",
    "else: \n",
    "    pass"
   ]
  },
  {
   "cell_type": "markdown",
   "metadata": {},
   "source": [
    "Q18. Write a c program that prints the following star pattern:"
   ]
  },
  {
   "cell_type": "code",
   "execution_count": 14,
   "metadata": {},
   "outputs": [
    {
     "name": "stdout",
     "output_type": "stream",
     "text": [
      "      \n",
      "     * \n",
      "    * * \n",
      "   * * * \n",
      "  * * * * \n",
      " * * * * * \n",
      "  * * * *\n",
      "   * * *\n",
      "    * *\n",
      "     *\n"
     ]
    }
   ],
   "source": [
    "count=0\n",
    "x=5\n",
    "while count<6:\n",
    "    print(' '*x,'* '*count)\n",
    "    count=count+1\n",
    "    x=x-1\n",
    "else: pass\n",
    "if count==6:\n",
    "    count=4\n",
    "    x=0\n",
    "    while count>0:\n",
    "    \n",
    "        print(' '*x,' *'*count)\n",
    "        count=count-1\n",
    "        x=x+1\n",
    "    else: \n",
    "        pass"
   ]
  },
  {
   "cell_type": "markdown",
   "metadata": {},
   "source": [
    "Q19. Write programs that implement the following equations:\n"
   ]
  },
  {
   "cell_type": "code",
   "execution_count": 32,
   "metadata": {},
   "outputs": [
    {
     "name": "stdout",
     "output_type": "stream",
     "text": [
      "Enter the last term :100\n",
      "the result of summation is : 338350\n",
      "--------------------------------------------------\n",
      "Enter the last term :100\n",
      "the result of summation is : 23810800\n",
      "--------------------------------------------------\n"
     ]
    }
   ],
   "source": [
    "#series 1\n",
    "count=input('Enter the last term :')\n",
    "counter=int(count,base=10)\n",
    "x=1\n",
    "y=0\n",
    "sum=0\n",
    "while x<(counter+1) :\n",
    "    y=(x)**2\n",
    "    sum=sum+y\n",
    "    x=x+1\n",
    "else:\n",
    "    print('the result of series 1 is :',sum)\n",
    "print('-'*50)\n",
    "#series 2\n",
    "count=input('Enter the last term :')\n",
    "counter=int(count,base=10)\n",
    "x=6\n",
    "y=0\n",
    "sum=0\n",
    "while x<(counter+1) :\n",
    "    y=((x)**2)*(x-5)\n",
    "    sum=sum+y\n",
    "    x=x+1\n",
    "else:\n",
    "    print('the result of series 2 is :',sum)\n",
    "print('-'*50)"
   ]
  },
  {
   "cell_type": "markdown",
   "metadata": {},
   "source": [
    "Q20. Write a Python program to print Fibonacci series up to 10th term.\n",
    "The Rule is xn = xn-1 + xn-2"
   ]
  },
  {
   "cell_type": "code",
   "execution_count": 35,
   "metadata": {},
   "outputs": [
    {
     "name": "stdout",
     "output_type": "stream",
     "text": [
      "enter tha last term :10\n"
     ]
    }
   ],
   "source": [
    "x=input('enter tha last term :')\n",
    "x=int(x,base=10)\n",
    "y=0\n",
    "z=1\n",
    "sum=0\n",
    "for n in range(x):\n",
    "    y=z\n",
    "#x=input('enter the fainal value:')\n",
    "x=int(x,base=10)\n",
    "count=2\n",
    "while z !=x :\n",
    "        if z ==0:\n",
    "            print(0)\n",
    "        elif z==1:\n",
    "            print(1)\n",
    "        else:\n",
    "            z=(count-1)+(count-2)\n",
    "            print(z)\n",
    "            count=count+1\n",
    "        \n",
    "        "
   ]
  },
  {
   "cell_type": "markdown",
   "metadata": {},
   "source": [
    "\n",
    "Q21. Write a Python program to print GCD between any two given numbers."
   ]
  },
  {
   "cell_type": "code",
   "execution_count": null,
   "metadata": {},
   "outputs": [],
   "source": [
    "\n",
    "Output: g and d such that g is odd and gcd(a, b) = g × 2d\n",
    "    d := 0\n",
    "    while a and b are both even\n",
    "        a := a/2\n",
    "        b := b/2\n",
    "        d := d + 1\n",
    "    while a ≠ b\n",
    "        if a is even then a := a/2\n",
    "        else if b is even then b := b/2\n",
    "        else if a > b then a := (a – b)/2\n",
    "        else b := (b – a)/2\n",
    "    g := a\n",
    "    output g, d"
   ]
  },
  {
   "cell_type": "markdown",
   "metadata": {},
   "source": [
    "Q22. Write a Python program to print LCM between any two given numbers."
   ]
  },
  {
   "cell_type": "code",
   "execution_count": null,
   "metadata": {},
   "outputs": [],
   "source": []
  },
  {
   "cell_type": "markdown",
   "metadata": {},
   "source": [
    "Q23. Write a Python program to find the sum of all natural odd numbers between 1 and 100"
   ]
  },
  {
   "cell_type": "code",
   "execution_count": 47,
   "metadata": {},
   "outputs": [
    {
     "name": "stdout",
     "output_type": "stream",
     "text": [
      "enter the last term :100\n",
      "the sum= 2500\n"
     ]
    }
   ],
   "source": [
    "x=input('enter the last term :')\n",
    "x=int(x,base=10)\n",
    "z=0\n",
    "for n in range(x) :\n",
    "    if ((n%2)==0):\n",
    "        z=z+(n+1)\n",
    "       \n",
    "    else :\n",
    "        pass\n",
    "    \n",
    "print('the sum=',z)"
   ]
  },
  {
   "cell_type": "markdown",
   "metadata": {},
   "source": [
    "Q24. Write a Python program to find the sum of all natural prime numbers between 1 and 100."
   ]
  },
  {
   "cell_type": "code",
   "execution_count": 19,
   "metadata": {},
   "outputs": [
    {
     "name": "stdout",
     "output_type": "stream",
     "text": [
      "2\n",
      "3\n",
      "5\n",
      "7\n",
      "11\n",
      "13\n",
      "17\n",
      "19\n",
      "23\n",
      "29\n",
      "31\n",
      "37\n",
      "41\n",
      "43\n",
      "47\n",
      "53\n",
      "59\n",
      "61\n",
      "67\n",
      "71\n",
      "73\n",
      "79\n",
      "83\n",
      "89\n",
      "97\n"
     ]
    }
   ],
   "source": [
    "y=1\n",
    "z=100\n",
    "for num in range(y,x + 1):\n",
    "    if num > 1:\n",
    "        for i in range(2,num):\n",
    "            if (num % i) == 0:\n",
    "                break\n",
    "        else:\n",
    "            print(num)"
   ]
  },
  {
   "cell_type": "markdown",
   "metadata": {},
   "source": [
    "Q25. Write a Python program to find the product of all natural even numbers between 1 and 100."
   ]
  },
  {
   "cell_type": "code",
   "execution_count": 50,
   "metadata": {},
   "outputs": [
    {
     "name": "stdout",
     "output_type": "stream",
     "text": [
      "enter the last term :20\n",
      "the sum= 110\n"
     ]
    }
   ],
   "source": [
    "x=input('enter the last term :')\n",
    "x=int(x,base=10)\n",
    "z=0\n",
    "for n in range(x+1) :\n",
    "    if ((n%2)==0):\n",
    "        z=z+(n)\n",
    "       \n",
    "    else :\n",
    "        pass\n",
    "    \n",
    "print('the sum=',z)"
   ]
  },
  {
   "cell_type": "markdown",
   "metadata": {},
   "source": [
    "Q26. Write a Python program that prints the multiplication tables of all numbers between 0 and 9."
   ]
  },
  {
   "cell_type": "code",
   "execution_count": 84,
   "metadata": {},
   "outputs": [
    {
     "name": "stdout",
     "output_type": "stream",
     "text": [
      "This program pritns the multiplication tables of all numbers between 0 and the last numbter you enter :9\n",
      "0 * 0 = 0\n",
      "\n",
      "1 * 0 = 0\n",
      "\n",
      "2 * 0 = 0\n",
      "\n",
      "3 * 0 = 0\n",
      "\n",
      "4 * 0 = 0\n",
      "\n",
      "5 * 0 = 0\n",
      "\n",
      "6 * 0 = 0\n",
      "\n",
      "7 * 0 = 0\n",
      "\n",
      "8 * 0 = 0\n",
      "\n",
      "9 * 0 = 0\n",
      "\n",
      "10 * 0 = 0\n",
      "\n",
      "**************************************************\n",
      "0 * 1 = 0\n",
      "\n",
      "1 * 1 = 1\n",
      "\n",
      "2 * 1 = 2\n",
      "\n",
      "3 * 1 = 3\n",
      "\n",
      "4 * 1 = 4\n",
      "\n",
      "5 * 1 = 5\n",
      "\n",
      "6 * 1 = 6\n",
      "\n",
      "7 * 1 = 7\n",
      "\n",
      "8 * 1 = 8\n",
      "\n",
      "9 * 1 = 9\n",
      "\n",
      "10 * 1 = 10\n",
      "\n",
      "**************************************************\n",
      "0 * 2 = 0\n",
      "\n",
      "1 * 2 = 2\n",
      "\n",
      "2 * 2 = 4\n",
      "\n",
      "3 * 2 = 6\n",
      "\n",
      "4 * 2 = 8\n",
      "\n",
      "5 * 2 = 10\n",
      "\n",
      "6 * 2 = 12\n",
      "\n",
      "7 * 2 = 14\n",
      "\n",
      "8 * 2 = 16\n",
      "\n",
      "9 * 2 = 18\n",
      "\n",
      "10 * 2 = 20\n",
      "\n",
      "**************************************************\n",
      "0 * 3 = 0\n",
      "\n",
      "1 * 3 = 3\n",
      "\n",
      "2 * 3 = 6\n",
      "\n",
      "3 * 3 = 9\n",
      "\n",
      "4 * 3 = 12\n",
      "\n",
      "5 * 3 = 15\n",
      "\n",
      "6 * 3 = 18\n",
      "\n",
      "7 * 3 = 21\n",
      "\n",
      "8 * 3 = 24\n",
      "\n",
      "9 * 3 = 27\n",
      "\n",
      "10 * 3 = 30\n",
      "\n",
      "**************************************************\n",
      "0 * 4 = 0\n",
      "\n",
      "1 * 4 = 4\n",
      "\n",
      "2 * 4 = 8\n",
      "\n",
      "3 * 4 = 12\n",
      "\n",
      "4 * 4 = 16\n",
      "\n",
      "5 * 4 = 20\n",
      "\n",
      "6 * 4 = 24\n",
      "\n",
      "7 * 4 = 28\n",
      "\n",
      "8 * 4 = 32\n",
      "\n",
      "9 * 4 = 36\n",
      "\n",
      "10 * 4 = 40\n",
      "\n",
      "**************************************************\n",
      "0 * 5 = 0\n",
      "\n",
      "1 * 5 = 5\n",
      "\n",
      "2 * 5 = 10\n",
      "\n",
      "3 * 5 = 15\n",
      "\n",
      "4 * 5 = 20\n",
      "\n",
      "5 * 5 = 25\n",
      "\n",
      "6 * 5 = 30\n",
      "\n",
      "7 * 5 = 35\n",
      "\n",
      "8 * 5 = 40\n",
      "\n",
      "9 * 5 = 45\n",
      "\n",
      "10 * 5 = 50\n",
      "\n",
      "**************************************************\n",
      "0 * 6 = 0\n",
      "\n",
      "1 * 6 = 6\n",
      "\n",
      "2 * 6 = 12\n",
      "\n",
      "3 * 6 = 18\n",
      "\n",
      "4 * 6 = 24\n",
      "\n",
      "5 * 6 = 30\n",
      "\n",
      "6 * 6 = 36\n",
      "\n",
      "7 * 6 = 42\n",
      "\n",
      "8 * 6 = 48\n",
      "\n",
      "9 * 6 = 54\n",
      "\n",
      "10 * 6 = 60\n",
      "\n",
      "**************************************************\n",
      "0 * 7 = 0\n",
      "\n",
      "1 * 7 = 7\n",
      "\n",
      "2 * 7 = 14\n",
      "\n",
      "3 * 7 = 21\n",
      "\n",
      "4 * 7 = 28\n",
      "\n",
      "5 * 7 = 35\n",
      "\n",
      "6 * 7 = 42\n",
      "\n",
      "7 * 7 = 49\n",
      "\n",
      "8 * 7 = 56\n",
      "\n",
      "9 * 7 = 63\n",
      "\n",
      "10 * 7 = 70\n",
      "\n",
      "**************************************************\n",
      "0 * 8 = 0\n",
      "\n",
      "1 * 8 = 8\n",
      "\n",
      "2 * 8 = 16\n",
      "\n",
      "3 * 8 = 24\n",
      "\n",
      "4 * 8 = 32\n",
      "\n",
      "5 * 8 = 40\n",
      "\n",
      "6 * 8 = 48\n",
      "\n",
      "7 * 8 = 56\n",
      "\n",
      "8 * 8 = 64\n",
      "\n",
      "9 * 8 = 72\n",
      "\n",
      "10 * 8 = 80\n",
      "\n",
      "**************************************************\n",
      "0 * 9 = 0\n",
      "\n",
      "1 * 9 = 9\n",
      "\n",
      "2 * 9 = 18\n",
      "\n",
      "3 * 9 = 27\n",
      "\n",
      "4 * 9 = 36\n",
      "\n",
      "5 * 9 = 45\n",
      "\n",
      "6 * 9 = 54\n",
      "\n",
      "7 * 9 = 63\n",
      "\n",
      "8 * 9 = 72\n",
      "\n",
      "9 * 9 = 81\n",
      "\n",
      "10 * 9 = 90\n",
      "\n",
      "**************************************************\n"
     ]
    }
   ],
   "source": [
    "x=input('This program pritns the multiplication tables of all numbers between 0 and the last numbter you enter :')\n",
    "x=int(x,base=10)\n",
    "z=0\n",
    "y=11\n",
    "while z<(x+1):\n",
    "    for n in range(y):\n",
    "        print(n,'*',z,'=',z*n,end='')\n",
    "        print('\\n')\n",
    "        \n",
    "    print('*'*50)\n",
    "    z=z+1\n",
    "else:\n",
    "    pass    \n"
   ]
  },
  {
   "cell_type": "markdown",
   "metadata": {},
   "source": [
    "Q27. Write a Python program to input a number from user and count number of digits in the given integer."
   ]
  },
  {
   "cell_type": "code",
   "execution_count": 105,
   "metadata": {},
   "outputs": [
    {
     "name": "stdout",
     "output_type": "stream",
     "text": [
      "Enter the number:65897845125\n",
      "11\n"
     ]
    }
   ],
   "source": [
    "x=input('Enter the number:')\n",
    "x=int(x,base=10)\n",
    "n=0\n",
    "while x>0:\n",
    "    n=n+1\n",
    "    x=(x//10)\n",
    "else:\n",
    "    print(n)"
   ]
  },
  {
   "cell_type": "markdown",
   "metadata": {},
   "source": [
    "Q28. Write a Python program to input a number from user and find if the number is Palindrome."
   ]
  },
  {
   "cell_type": "code",
   "execution_count": 120,
   "metadata": {},
   "outputs": [
    {
     "name": "stdout",
     "output_type": "stream",
     "text": [
      "Enter the number:123321\n",
      "['1', '2', '3', '3', '2', '1']\n",
      "['1', '2', '3', '3', '2', '1']\n",
      "T\n"
     ]
    }
   ],
   "source": [
    "x=input('Enter the number:')\n",
    "x=list(x)\n",
    "print(x)\n",
    "y=list(reversed(x))\n",
    "print(y)\n",
    "if x == y :\n",
    "    print('T')\n",
    "else:\n",
    "    print('F')"
   ]
  },
  {
   "cell_type": "markdown",
   "metadata": {},
   "source": [
    "Q29. Write a Python program to input a number and calculate the sum of its digits"
   ]
  },
  {
   "cell_type": "code",
   "execution_count": 126,
   "metadata": {},
   "outputs": [
    {
     "name": "stdout",
     "output_type": "stream",
     "text": [
      "Enter the number:123456789633215\n",
      "sum of digits= 65\n"
     ]
    }
   ],
   "source": [
    "x=input('Enter the number:')\n",
    "x=int(x,base=10)\n",
    "summation=0\n",
    "y=0\n",
    "while x>0:\n",
    "    y=x%10\n",
    "    x=x//10\n",
    "    summation=summation+y\n",
    "else:\n",
    "    print('sum of digits=',summation)"
   ]
  },
  {
   "cell_type": "markdown",
   "metadata": {},
   "source": [
    "Q30. Write a Python program find the maximum number to get of 3-3 digit palindrome(do not use strings)."
   ]
  },
  {
   "cell_type": "code",
   "execution_count": 2,
   "metadata": {},
   "outputs": [
    {
     "ename": "IndentationError",
     "evalue": "unexpected indent (<ipython-input-2-a8856a6a3b31>, line 5)",
     "output_type": "error",
     "traceback": [
      "\u001b[1;36m  File \u001b[1;32m\"<ipython-input-2-a8856a6a3b31>\"\u001b[1;36m, line \u001b[1;32m5\u001b[0m\n\u001b[1;33m    if x==(x)[: : -1]:\u001b[0m\n\u001b[1;37m    ^\u001b[0m\n\u001b[1;31mIndentationError\u001b[0m\u001b[1;31m:\u001b[0m unexpected indent\n"
     ]
    }
   ],
   "source": [
    "x=1\n",
    "for i in range (100,1000):\n",
    "    for i in range(100,1000):\n",
    "        x=x*i\n",
    "          if x==(x)[: : -1]:\n",
    "            print(x)\n",
    "        else:\n",
    "            continue\n",
    "            "
   ]
  },
  {
   "cell_type": "markdown",
   "metadata": {},
   "source": [
    "Q31. Given a string, return the sum and average of the digits that appear in the string, ignoring all other characters."
   ]
  },
  {
   "cell_type": "code",
   "execution_count": 25,
   "metadata": {},
   "outputs": [
    {
     "name": "stdout",
     "output_type": "stream",
     "text": [
      "Enter the string:dfgh12dfah13\n"
     ]
    },
    {
     "ename": "IndexError",
     "evalue": "list assignment index out of range",
     "output_type": "error",
     "traceback": [
      "\u001b[1;31m---------------------------------------------------------------------------\u001b[0m",
      "\u001b[1;31mIndexError\u001b[0m                                Traceback (most recent call last)",
      "\u001b[1;32m<ipython-input-25-f946d446b273>\u001b[0m in \u001b[0;36m<module>\u001b[1;34m\u001b[0m\n\u001b[0;32m      4\u001b[0m \u001b[1;32mfor\u001b[0m \u001b[0mi\u001b[0m \u001b[1;32min\u001b[0m \u001b[0mrange\u001b[0m\u001b[1;33m(\u001b[0m\u001b[0mz\u001b[0m\u001b[1;33m)\u001b[0m \u001b[1;33m:\u001b[0m\u001b[1;33m\u001b[0m\u001b[1;33m\u001b[0m\u001b[0m\n\u001b[0;32m      5\u001b[0m     \u001b[1;32mif\u001b[0m \u001b[0mx\u001b[0m\u001b[1;33m[\u001b[0m\u001b[0mi\u001b[0m\u001b[1;33m]\u001b[0m\u001b[1;33m.\u001b[0m\u001b[0misdigit\u001b[0m\u001b[1;33m(\u001b[0m\u001b[1;33m)\u001b[0m\u001b[1;33m:\u001b[0m\u001b[1;33m\u001b[0m\u001b[1;33m\u001b[0m\u001b[0m\n\u001b[1;32m----> 6\u001b[1;33m             \u001b[0my\u001b[0m\u001b[1;33m[\u001b[0m\u001b[1;36m1\u001b[0m\u001b[1;33m]\u001b[0m\u001b[1;33m=\u001b[0m\u001b[0mx\u001b[0m\u001b[1;33m[\u001b[0m\u001b[0mi\u001b[0m\u001b[1;33m]\u001b[0m\u001b[1;33m\u001b[0m\u001b[1;33m\u001b[0m\u001b[0m\n\u001b[0m\u001b[0;32m      7\u001b[0m             \u001b[0mprint\u001b[0m\u001b[1;33m(\u001b[0m\u001b[0my\u001b[0m\u001b[1;33m[\u001b[0m\u001b[0mi\u001b[0m\u001b[1;33m]\u001b[0m\u001b[1;33m)\u001b[0m\u001b[1;33m\u001b[0m\u001b[1;33m\u001b[0m\u001b[0m\n\u001b[0;32m      8\u001b[0m     \u001b[1;32melse\u001b[0m \u001b[1;33m:\u001b[0m\u001b[1;33m\u001b[0m\u001b[1;33m\u001b[0m\u001b[0m\n",
      "\u001b[1;31mIndexError\u001b[0m: list assignment index out of range"
     ]
    }
   ],
   "source": [
    "x=input('Enter the string:')\n",
    "y=[] \n",
    "z=len(x)\n",
    "for i in range(z) :\n",
    "    if x[i].isdigit():\n",
    "            y[]=x[i]\n",
    "            print(y[i])\n",
    "    else :\n",
    "        pass   \n",
    "print(y)   "
   ]
  },
  {
   "cell_type": "markdown",
   "metadata": {},
   "source": [
    "Q32. Find all occurrences of “USA” in given string ignoring the case\n"
   ]
  },
  {
   "cell_type": "code",
   "execution_count": 1,
   "metadata": {},
   "outputs": [
    {
     "name": "stdout",
     "output_type": "stream",
     "text": [
      "Enter the string:asdfghusaghjkusaghjklusa\n",
      "3\n"
     ]
    }
   ],
   "source": [
    "x=input('Enter the string:')\n",
    "y=x.upper()\n",
    "\n",
    "print(y.count('USA'))"
   ]
  },
  {
   "cell_type": "markdown",
   "metadata": {},
   "source": [
    "Q33. Apply the String characters balance Test(occurrences of all appeared characters must be equal)."
   ]
  },
  {
   "cell_type": "code",
   "execution_count": null,
   "metadata": {},
   "outputs": [],
   "source": []
  },
  {
   "cell_type": "markdown",
   "metadata": {},
   "source": [
    "Q34. Given a string and and int n, remove n characters from string by each time until the string has no more characters."
   ]
  },
  {
   "cell_type": "code",
   "execution_count": 3,
   "metadata": {},
   "outputs": [
    {
     "name": "stdout",
     "output_type": "stream",
     "text": [
      "Enter the string :safa\n",
      "the char you want to remove:a\n"
     ]
    }
   ],
   "source": [
    "x=input('Enter the string :')\n",
    "n=input('the char you want to remove:')\n",
    "for i in range ( len(x)):\n",
    "    if x[i]==n:\n",
    "        x[i].replace(x[i],',')\n",
    "    else:\n",
    "        pass"
   ]
  },
  {
   "cell_type": "markdown",
   "metadata": {},
   "source": [
    "Q35. Accept string from the user and display only those characters which are present at an even index"
   ]
  },
  {
   "cell_type": "code",
   "execution_count": 3,
   "metadata": {},
   "outputs": [
    {
     "name": "stdout",
     "output_type": "stream",
     "text": [
      "Enter the string:\n",
      "\n"
     ]
    }
   ],
   "source": [
    "x=input('Enter the string:')\n",
    "print(x[0: :2])"
   ]
  },
  {
   "cell_type": "markdown",
   "metadata": {},
   "source": [
    "Q36. Remove duplicate from a string and print the results.:"
   ]
  },
  {
   "cell_type": "code",
   "execution_count": 1,
   "metadata": {},
   "outputs": [
    {
     "name": "stdout",
     "output_type": "stream",
     "text": [
      "Enter the string:asdfa\n",
      "5\n",
      "asdfa\n"
     ]
    }
   ],
   "source": [
    "x=input('Enter the string:')\n",
    "y=x.lower()\n",
    "z=sorted(x)\n",
    "v=len(z)\n",
    "print(v)\n",
    "i=0\n",
    "while i<(v) :\n",
    "    while i<v and z[i]==z[i+1]:\n",
    "        if x[i]==x[i+1]:\n",
    "            x.replace(x[i+1],',')\n",
    "            v=v-1\n",
    "        else: \n",
    "             v=v-1\n",
    "    print(x)\n",
    "\n",
    "        \n",
    "   \n",
    "\n"
   ]
  },
  {
   "cell_type": "markdown",
   "metadata": {},
   "source": [
    "Q37. Remove duplicate from a string and print how much time each character appeared."
   ]
  },
  {
   "cell_type": "code",
   "execution_count": null,
   "metadata": {},
   "outputs": [],
   "source": []
  },
  {
   "cell_type": "markdown",
   "metadata": {},
   "source": [
    "Q38. Find all unique character, numbers, ...etc. in a string and print them."
   ]
  },
  {
   "cell_type": "code",
   "execution_count": null,
   "metadata": {},
   "outputs": [],
   "source": []
  },
  {
   "cell_type": "markdown",
   "metadata": {},
   "source": [
    "Q39. Write a Python program to accept a filename from the user as a string and print the extension of that file. Sample filename : abc.java Output : java\n"
   ]
  },
  {
   "cell_type": "code",
   "execution_count": 32,
   "metadata": {},
   "outputs": [
    {
     "name": "stdout",
     "output_type": "stream",
     "text": [
      "Enter the file name :asdfgh.hjkl\n",
      "hjkl\n"
     ]
    }
   ],
   "source": [
    "x=input('Enter the file name :')\n",
    "y=x.index('.')\n",
    "print(x[y+1: : ])"
   ]
  },
  {
   "cell_type": "markdown",
   "metadata": {},
   "source": [
    "Q40. Write a Python program to get a new string from a given string where ”Is” has been added to the front. If the given string already begins with ”Is” then return the string unchanged."
   ]
  },
  {
   "cell_type": "code",
   "execution_count": 36,
   "metadata": {},
   "outputs": [
    {
     "name": "stdout",
     "output_type": "stream",
     "text": [
      "Enter the string:dfgh ghj yui \n",
      "Is dfgh ghj yui "
     ]
    }
   ],
   "source": [
    "x=input('Enter the string:')\n",
    "y=x.split(' ')\n",
    "z='Is'\n",
    "if y[0]=='Is':\n",
    "    print('\"Is\"is already exsist' )\n",
    "else :\n",
    "    print(z,x,end='')"
   ]
  },
  {
   "cell_type": "markdown",
   "metadata": {},
   "source": [
    "Q41. Write a Python program to get a string which is n (non-negative integer) copies of a given string."
   ]
  },
  {
   "cell_type": "code",
   "execution_count": 40,
   "metadata": {},
   "outputs": [
    {
     "name": "stdout",
     "output_type": "stream",
     "text": [
      "Enter the string:adsfg\n",
      "How many cpoies you want ? 1\n",
      "adsfg\n"
     ]
    }
   ],
   "source": [
    "import copy\n",
    "x=input('Enter the string:')\n",
    "n=input('How many cpoies you want ? ')\n",
    "n=int(n,base=10)\n",
    "for i in range (n):\n",
    "    print(copy.deepcopy(x))"
   ]
  },
  {
   "cell_type": "markdown",
   "metadata": {},
   "source": [
    "Q42. Write a Python program to get the n (non-negative integer) copies of the first 2 characters of a given string. Return the n copies of the whole string if the length is less than 2."
   ]
  },
  {
   "cell_type": "code",
   "execution_count": 48,
   "metadata": {},
   "outputs": [
    {
     "name": "stdout",
     "output_type": "stream",
     "text": [
      "Enter the string:asdfgh\n",
      "How many cpoies you want ? 2\n",
      "asdfgh\n",
      "asdfgh\n"
     ]
    }
   ],
   "source": [
    "import copy\n",
    "x=input('Enter the string:')\n",
    "n=input('How many cpoies you want ? ')\n",
    "y=x.split(' ')\n",
    "n=int(n,base=10)\n",
    "z=len(y)\n",
    "if z<2 :\n",
    "    for i in range (n):\n",
    "        print(copy.deepcopy(x))\n",
    "else :\n",
    "    for i in range(2):\n",
    "        print(copy.deepcopy(x[i]))"
   ]
  },
  {
   "cell_type": "markdown",
   "metadata": {},
   "source": [
    "Q43. Write a Python program to print out the set of all the characters from St1 which are not present in St2"
   ]
  },
  {
   "cell_type": "code",
   "execution_count": 73,
   "metadata": {},
   "outputs": [
    {
     "name": "stdout",
     "output_type": "stream",
     "text": [
      "Enter the string 1:adfhgfd\n",
      "Enter the string 2:asdfhfd\n",
      "adfhgfd "
     ]
    }
   ],
   "source": [
    "import copy\n",
    "x=input('Enter the string 1:')\n",
    "n=input('Enter the string 2:')\n",
    "y=x.split(' ')\n",
    "k=n.split(' ')\n",
    "z=len(y)\n",
    "l=len(k)\n",
    "count=0\n",
    "for i in range(l):\n",
    "    \n",
    "        if y[i]  in k :\n",
    "            continue\n",
    "            \n",
    "        else:\n",
    "            print(y[i],end=' ')\n"
   ]
  },
  {
   "cell_type": "markdown",
   "metadata": {},
   "source": [
    "Q44. Write a Python program to display your given details like name, age, address in three different lines"
   ]
  },
  {
   "cell_type": "code",
   "execution_count": 82,
   "metadata": {},
   "outputs": [
    {
     "name": "stdout",
     "output_type": "stream",
     "text": [
      "Enter your name:lina\n",
      "Enter your age:23\n",
      "Enter your address:amman\n",
      " name: lina \n",
      " Age: 23 \n",
      " Address: amman .\n"
     ]
    }
   ],
   "source": [
    "x=input('Enter your name:')\n",
    "y=input('Enter your age:')\n",
    "z=input('Enter your address:')\n",
    "print(' name:', x,'\\n','Age:', y,'\\n','Address:',z,'.')"
   ]
  },
  {
   "cell_type": "markdown",
   "metadata": {},
   "source": [
    "Q45. Write a Python program to sort three integers without using conditional statements, loops or strings."
   ]
  },
  {
   "cell_type": "code",
   "execution_count": 92,
   "metadata": {},
   "outputs": [
    {
     "name": "stdout",
     "output_type": "stream",
     "text": [
      "Enter 3 int:10 15 6\n",
      "[6, 10, 15]\n"
     ]
    }
   ],
   "source": [
    "x,y,z=input('Enter 3 int:').split()\n",
    "x=int(x,base=10)\n",
    "y=int(y,base=10)\n",
    "z=int(z,base=10)\n",
    "k=[x,y,z]\n",
    "l=sorted(k)\n",
    "print(l)"
   ]
  },
  {
   "cell_type": "markdown",
   "metadata": {},
   "source": [
    "Q46. Write a Python program to get the summation of the ASCII values of aaa characters in astring."
   ]
  },
  {
   "cell_type": "code",
   "execution_count": 121,
   "metadata": {},
   "outputs": [
    {
     "name": "stdout",
     "output_type": "stream",
     "text": [
      "Enter the string:asdfgaaadfghjkaaadfghjaaadfghjaaa\n",
      "388\n",
      "388\n",
      "388\n",
      "388\n"
     ]
    }
   ],
   "source": [
    "x=input('Enter the string:')\n",
    "y=x.count('aaa')\n",
    "for i in range(y):\n",
    "    print(ord('a')*y)"
   ]
  },
  {
   "cell_type": "markdown",
   "metadata": {},
   "source": [
    "Q47. Write a Python program to convert a byte string to a list of integers."
   ]
  },
  {
   "cell_type": "code",
   "execution_count": 102,
   "metadata": {},
   "outputs": [
    {
     "name": "stdout",
     "output_type": "stream",
     "text": [
      "Enter the string:sdfgh fghj \n"
     ]
    },
    {
     "ename": "TypeError",
     "evalue": "string argument without an encoding",
     "output_type": "error",
     "traceback": [
      "\u001b[1;31m---------------------------------------------------------------------------\u001b[0m",
      "\u001b[1;31mTypeError\u001b[0m                                 Traceback (most recent call last)",
      "\u001b[1;32m<ipython-input-102-688cedc68055>\u001b[0m in \u001b[0;36m<module>\u001b[1;34m\u001b[0m\n\u001b[0;32m      1\u001b[0m \u001b[0mx\u001b[0m \u001b[1;33m=\u001b[0m \u001b[0minput\u001b[0m\u001b[1;33m(\u001b[0m\u001b[1;34m'Enter the string:'\u001b[0m\u001b[1;33m)\u001b[0m\u001b[1;33m\u001b[0m\u001b[1;33m\u001b[0m\u001b[0m\n\u001b[1;32m----> 2\u001b[1;33m \u001b[0my\u001b[0m\u001b[1;33m=\u001b[0m\u001b[0mbytearray\u001b[0m\u001b[1;33m(\u001b[0m\u001b[0mx\u001b[0m\u001b[1;33m)\u001b[0m\u001b[1;33m\u001b[0m\u001b[1;33m\u001b[0m\u001b[0m\n\u001b[0m\u001b[0;32m      3\u001b[0m \u001b[0my\u001b[0m\u001b[1;33m=\u001b[0m\u001b[0mlist\u001b[0m\u001b[1;33m(\u001b[0m\u001b[0my\u001b[0m\u001b[1;33m)\u001b[0m\u001b[1;33m\u001b[0m\u001b[1;33m\u001b[0m\u001b[0m\n\u001b[0;32m      4\u001b[0m \u001b[0mprint\u001b[0m\u001b[1;33m(\u001b[0m\u001b[0my\u001b[0m\u001b[1;33m)\u001b[0m\u001b[1;33m\u001b[0m\u001b[1;33m\u001b[0m\u001b[0m\n",
      "\u001b[1;31mTypeError\u001b[0m: string argument without an encoding"
     ]
    }
   ],
   "source": [
    "x = input('Enter the string:')\n",
    "y=bytearray(x)\n",
    "y=list(y)\n",
    "print(y)\n"
   ]
  },
  {
   "cell_type": "markdown",
   "metadata": {},
   "source": [
    "Q48. Write a Python program to get the identity of an object:\n",
    "\n"
   ]
  },
  {
   "cell_type": "code",
   "execution_count": 103,
   "metadata": {},
   "outputs": [
    {
     "name": "stdout",
     "output_type": "stream",
     "text": [
      "Enter the object contant :123568\n",
      "The object identity is =  2058481650856\n"
     ]
    }
   ],
   "source": [
    "x=input('Enter the object contant :')\n",
    "print('The object identity is = ',id(x))"
   ]
  },
  {
   "cell_type": "markdown",
   "metadata": {},
   "source": [
    "Q49. Write a Python program to get the system time."
   ]
  },
  {
   "cell_type": "code",
   "execution_count": 104,
   "metadata": {},
   "outputs": [
    {
     "name": "stdout",
     "output_type": "stream",
     "text": [
      "Current date and time : \n",
      "2019-10-19 23:50:45\n"
     ]
    }
   ],
   "source": [
    "import datetime\n",
    "now = datetime.datetime.now()\n",
    "print (\"Current date and time : \")\n",
    "print (now.strftime(\"%Y-%m-%d %H:%M:%S\"))"
   ]
  },
  {
   "cell_type": "markdown",
   "metadata": {},
   "source": [
    "Q50. Write a Python program to find the ASCII string of a given number:\n"
   ]
  },
  {
   "cell_type": "code",
   "execution_count": 118,
   "metadata": {},
   "outputs": [
    {
     "name": "stdout",
     "output_type": "stream",
     "text": [
      "Enter the num:m\n",
      "109\n"
     ]
    }
   ],
   "source": [
    "x=input('Enter the num:')\n",
    "\n",
    "print(ord(x))"
   ]
  },
  {
   "cell_type": "markdown",
   "metadata": {},
   "source": [
    "Q51. Write a Python program to prove that two string variables of same value point same memory location."
   ]
  },
  {
   "cell_type": "code",
   "execution_count": 155,
   "metadata": {},
   "outputs": [
    {
     "name": "stdout",
     "output_type": "stream",
     "text": [
      "Enter num 1:123456\n",
      "Enter num 2:123456\n",
      "They are not the same value\n"
     ]
    }
   ],
   "source": [
    "x=input('Enter num 1:')\n",
    "y=input('Enter num 2:')\n",
    "if x == y:\n",
    "    if hex(id(x)) == hex(id(y)):\n",
    "            print('They are the same')\n",
    "            print(' Id (x)=',id(x),\"Id(y)=\",id(y))\n",
    "    else:    print('They are not the same value')\n",
    "else:\n",
    "    print('They are not the same value')"
   ]
  },
  {
   "cell_type": "markdown",
   "metadata": {},
   "source": [
    "Q53. Write a Python program to add two positive integers without using the ’+’ operator. Note: Use bit wise operations to add two numbers"
   ]
  },
  {
   "cell_type": "code",
   "execution_count": null,
   "metadata": {},
   "outputs": [],
   "source": [
    "x,y=input('Enter 2 +ve int :').split()\n",
    "x=int(x,base=10)\n",
    "y=int(y,base=10)\n",
    "if x<0 and y<0:\n",
    "    print('Error : there is a -ve int')\n",
    "else:\n",
    "    x=bin(x)\n",
    "    y=bin(y)\n",
    "    z=(x & y)\n",
    "    z=int(z,base=10)\n",
    "    print(z)"
   ]
  },
  {
   "cell_type": "markdown",
   "metadata": {},
   "source": [
    "54. Write a Python program to get all strobogrammatic numbers that are of length n. A strobogrammatic number is a number whose numeral is rotationally symmetric, so that it appears the same when rotated 180 degrees. In other words, the numeral looks the same rightside up and upside down (e.g., 69, 96, 1001). For example, Given n = 2, return [”11”, ”69”, ”88”, ”96”]. Given n = 3, return [’818’, ’111’, ’916’, ’619’, ’808’, ’101’, ’906’, ’609’, ’888’, ’181’, ’986’, ’689’]"
   ]
  },
  {
   "cell_type": "code",
   "execution_count": null,
   "metadata": {},
   "outputs": [],
   "source": []
  },
  {
   "cell_type": "markdown",
   "metadata": {},
   "source": [
    "Q55. Write a Python program to find the median among n given numbers."
   ]
  },
  {
   "cell_type": "code",
   "execution_count": 19,
   "metadata": {
    "scrolled": true
   },
   "outputs": [
    {
     "name": "stdout",
     "output_type": "stream",
     "text": [
      "Enter string of numbers : 45 96 21 63 52 47\n",
      "the sorted string is : [21, 45, 47, 52, 63, 96] \n",
      " the median= 52\n"
     ]
    }
   ],
   "source": [
    "n=input('Enter string of numbers : ')\n",
    "x=n.split(sep=' ')\n",
    "for i in range(len(x)):\n",
    "    x[i]=int(x[i],base=10)\n",
    "y=len(x)\n",
    "x=sorted(x)\n",
    " \n",
    "print('the sorted string is :',x,'\\n','the median=',x[len(x)//2])\n"
   ]
  },
  {
   "cell_type": "markdown",
   "metadata": {},
   "source": [
    "Q56. Write a Python program to find all the divisors of a given number"
   ]
  },
  {
   "cell_type": "code",
   "execution_count": 25,
   "metadata": {},
   "outputs": [
    {
     "name": "stdout",
     "output_type": "stream",
     "text": [
      "Enter the number:12\n",
      "the divisors is\n",
      "1\n",
      "2\n",
      "3\n",
      "4\n",
      "6\n",
      "12\n"
     ]
    }
   ],
   "source": [
    "x=input(\"Enter the number:\")\n",
    "x=int(x,base=10)\n",
    "print('the divisors is')\n",
    "for i in range(1,x+1):\n",
    "    if(x%i==0):\n",
    "        \n",
    "        print(i)"
   ]
  },
  {
   "cell_type": "markdown",
   "metadata": {},
   "source": [
    "Q57. Write a Python program to find the number of divisors of a given integer is even or odd."
   ]
  },
  {
   "cell_type": "code",
   "execution_count": 40,
   "metadata": {},
   "outputs": [
    {
     "name": "stdout",
     "output_type": "stream",
     "text": [
      "Enter the number:36\n",
      "1\n",
      "2\n",
      "3\n",
      "4\n",
      "6\n",
      "9\n",
      "12\n",
      "18\n",
      "36\n",
      "number of divisors is odd\n"
     ]
    }
   ],
   "source": [
    "x=input(\"Enter the number:\")\n",
    "x=int(x,base=10)\n",
    "y=0\n",
    "count=0\n",
    "for i in range(1,x+1):\n",
    "    if(x%i==0):\n",
    "        print(i)\n",
    "        count = count + 1\n",
    "           \n",
    "  \n",
    "if (count % 2 == 0) : \n",
    "        print(\"number of divisors is even\") \n",
    "else : \n",
    "        print(\"number of divisors is odd\") "
   ]
  },
  {
   "cell_type": "markdown",
   "metadata": {},
   "source": [
    "Q58. Write a Python program to create a sequence where the first four members of the sequence are equal to one, and each successive term of the sequence is equal to the sum of the four previous ones. Find the Nth member of the sequence"
   ]
  },
  {
   "cell_type": "code",
   "execution_count": null,
   "metadata": {},
   "outputs": [],
   "source": []
  },
  {
   "cell_type": "markdown",
   "metadata": {},
   "source": [
    "Q59. Write a Python program that accept a positive number and subtract from this number the sum of its digits and so on. Continues this operation until the number is positive"
   ]
  },
  {
   "cell_type": "code",
   "execution_count": 8,
   "metadata": {},
   "outputs": [
    {
     "name": "stdout",
     "output_type": "stream",
     "text": [
      "Enter the number:123\n",
      "sum of digits= 6\n",
      "the result after the last sun operation -3 , number of sub operations= 21\n"
     ]
    }
   ],
   "source": [
    "x=input('Enter the number:')\n",
    "x=int(x,base=10)\n",
    "summation=0\n",
    "y=0\n",
    "z=x\n",
    "count=0\n",
    "while x>0:\n",
    "    y=x%10\n",
    "    x=x//10\n",
    "    summation=summation+y\n",
    "else:\n",
    "    print('sum of digits=',summation)\n",
    "\n",
    "while z>0:\n",
    "    z=z-summation\n",
    "    count=count+1\n",
    "else:\n",
    "    print('the result after the last sun operation',z,',','number of sub operations=',count)"
   ]
  },
  {
   "cell_type": "markdown",
   "metadata": {},
   "source": [
    "Q60. Write a Python program to find the digits which are absent in a given mobile number"
   ]
  },
  {
   "cell_type": "code",
   "execution_count": 5,
   "metadata": {},
   "outputs": [
    {
     "name": "stdout",
     "output_type": "stream",
     "text": [
      "Enter the mobile number:\n",
      "Wrong number\n"
     ]
    }
   ],
   "source": [
    "x=input('Enter the mobile number:')\n",
    "if len(x) !=10:\n",
    "    print('Wrong number')\n",
    "else:\n",
    "    y=['0','1','2','3','4','5','6','7','8','9']\n",
    "    for i in range(9):\n",
    "        if y[i] not in x :\n",
    "                print(y[i])\n",
    "        else:\n",
    "                pass\n",
    "            \n",
    "        \n",
    "            "
   ]
  },
  {
   "cell_type": "markdown",
   "metadata": {},
   "source": [
    "Q61. Write a Python program to check whether three given lengths (integers) of three sides form a right triangle. Print ”Yes” if the given sides form a right triangle otherwise print ”No”. \n",
    "Input: Integers separated by a single space. \n",
    "1 = length of the side = 1,000 \n",
    "Input three integers(sides of a triangle) 8 6 7 No"
   ]
  },
  {
   "cell_type": "code",
   "execution_count": 9,
   "metadata": {},
   "outputs": [
    {
     "name": "stdout",
     "output_type": "stream",
     "text": [
      "Enter three integers :6 8 10\n",
      "Yes\n"
     ]
    }
   ],
   "source": [
    "x,y,z=input('Enter three integers :').split()\n",
    "x=int(x,base=10)\n",
    "y=int(y,base=10)\n",
    "z=int(z,base=10)\n",
    "if (x**2+y**2)==(z**2):\n",
    "    print('Yes')\n",
    "else:\n",
    "    print('No')"
   ]
  },
  {
   "cell_type": "markdown",
   "metadata": {},
   "source": [
    "Q62. Write a python program to find heights of the top three building in descending order from eight given buildings.\n",
    "\n",
    "Input: 0 = height of building (integer) = 10,000 \n",
    "Input the heights of eight buildings: \n",
    "25 35 15 16 30 45 37 39\n",
    "Heights of the top three buildings:\n",
    "45 39 37"
   ]
  },
  {
   "cell_type": "code",
   "execution_count": null,
   "metadata": {},
   "outputs": [],
   "source": []
  }
 ],
 "metadata": {
  "kernelspec": {
   "display_name": "Python 3",
   "language": "python",
   "name": "python3"
  }
 },
 "nbformat": 4,
 "nbformat_minor": 2
}
